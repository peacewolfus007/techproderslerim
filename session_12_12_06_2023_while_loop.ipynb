{
 "cells": [
  {
   "attachments": {},
   "cell_type": "markdown",
   "metadata": {},
   "source": [
    "# LOOPS - While "
   ]
  },
  {
   "cell_type": "code",
   "execution_count": null,
   "metadata": {},
   "outputs": [],
   "source": [
    "\"Techpro\""
   ]
  },
  {
   "cell_type": "code",
   "execution_count": null,
   "metadata": {},
   "outputs": [],
   "source": [
    "# çalıştırma. sonsuz döngü\n",
    "x = 5\n",
    "while 10 > x:\n",
    "    print(\"bu döngü sonsuza kadar alışır.\")"
   ]
  },
  {
   "cell_type": "code",
   "execution_count": 3,
   "metadata": {},
   "outputs": [
    {
     "name": "stdout",
     "output_type": "stream",
     "text": [
      "bu döngü sonsuza kadar alışır.\n",
      "bu döngü sonsuza kadar alışır.\n",
      "bu döngü sonsuza kadar alışır.\n",
      "bu döngü sonsuza kadar alışır.\n",
      "bu döngü sonsuza kadar alışır.\n"
     ]
    }
   ],
   "source": [
    "x = 5\n",
    "while 10 > x:\n",
    "    print(\"bu döngü sonsuza kadar alışır.\")\n",
    "    x += 1 # x = x + 1"
   ]
  },
  {
   "cell_type": "code",
   "execution_count": 5,
   "metadata": {},
   "outputs": [
    {
     "name": "stdout",
     "output_type": "stream",
     "text": [
      "1\n",
      "2\n",
      "3\n",
      "4\n",
      "5\n",
      "6\n",
      "7\n",
      "8\n",
      "9\n"
     ]
    }
   ],
   "source": [
    "x = 1\n",
    "while x < 10:\n",
    "    print(x)\n",
    "    x += 1"
   ]
  },
  {
   "cell_type": "code",
   "execution_count": 6,
   "metadata": {},
   "outputs": [],
   "source": [
    "while False:\n",
    "    print(\"sanki çalışmayacak gibi\")"
   ]
  },
  {
   "cell_type": "code",
   "execution_count": null,
   "metadata": {},
   "outputs": [],
   "source": [
    "# çalıştırma . sonsuz döngü\n",
    "while True:\n",
    "    print(\"durdur durdurabilirsen\")"
   ]
  },
  {
   "cell_type": "code",
   "execution_count": 8,
   "metadata": {},
   "outputs": [
    {
     "name": "stdout",
     "output_type": "stream",
     "text": [
      "while döngüsü condition False olana kadar çalışmaya devam eder\n"
     ]
    }
   ],
   "source": [
    "y = True\n",
    "\n",
    "while y:\n",
    "    print(\"while döngüsü condition False olana kadar çalışmaya devam eder\")\n",
    "    y = False"
   ]
  },
  {
   "cell_type": "code",
   "execution_count": 9,
   "metadata": {},
   "outputs": [
    {
     "name": "stdout",
     "output_type": "stream",
     "text": [
      "0\n",
      "2\n",
      "4\n",
      "6\n",
      "8\n",
      "10\n"
     ]
    }
   ],
   "source": [
    "x = 0\n",
    "\n",
    "while x < 11:\n",
    "    print(x)\n",
    "    x += 2"
   ]
  },
  {
   "cell_type": "code",
   "execution_count": 11,
   "metadata": {},
   "outputs": [
    {
     "name": "stdout",
     "output_type": "stream",
     "text": [
      "2\n",
      "4\n",
      "6\n",
      "8\n",
      "10\n",
      "12\n"
     ]
    }
   ],
   "source": [
    "x = 0\n",
    "\n",
    "while x < 11:\n",
    "    x += 2\n",
    "    print(x)\n",
    "    \n"
   ]
  },
  {
   "cell_type": "code",
   "execution_count": null,
   "metadata": {},
   "outputs": [],
   "source": [
    "# çalıştırma\n",
    "y = True\n",
    "\n",
    "while y:\n",
    "    print(\"while döngüsü condition False olana kadar çalışmaya devam eder\")\n",
    "\n",
    "y = False # döngü içinde olmadığı için sonsuza gider\n",
    "print(\"bunu göstermez\")"
   ]
  },
  {
   "cell_type": "code",
   "execution_count": 13,
   "metadata": {},
   "outputs": [
    {
     "name": "stdout",
     "output_type": "stream",
     "text": [
      "0\n",
      "1\n",
      "2\n",
      "3\n",
      "4\n",
      "while döngüsü burada bitti\n"
     ]
    }
   ],
   "source": [
    "x = 0\n",
    "\n",
    "while x < 5:\n",
    "    print(x)\n",
    "    x += 1\n",
    "    \n",
    "print(\"while döngüsü burada bitti\")"
   ]
  },
  {
   "cell_type": "code",
   "execution_count": 14,
   "metadata": {},
   "outputs": [
    {
     "name": "stdout",
     "output_type": "stream",
     "text": [
      "0\n",
      "while döngüsü burada bitti\n",
      "1\n",
      "while döngüsü burada bitti\n",
      "2\n",
      "while döngüsü burada bitti\n",
      "3\n",
      "while döngüsü burada bitti\n",
      "4\n",
      "while döngüsü burada bitti\n"
     ]
    }
   ],
   "source": [
    "x = 0\n",
    "\n",
    "while x < 5:\n",
    "    print(x)\n",
    "    x += 1\n",
    "    print(\"while döngüsü burada bitti\")"
   ]
  },
  {
   "cell_type": "code",
   "execution_count": null,
   "metadata": {},
   "outputs": [],
   "source": [
    "# çalıştırma\n",
    "x = 0\n",
    "\n",
    "while x < 5:\n",
    "    print(x)\n",
    "\n",
    "x += 1\n",
    "    \n",
    "print(\"while döngüsü burada bitti\")"
   ]
  },
  {
   "cell_type": "code",
   "execution_count": null,
   "metadata": {},
   "outputs": [],
   "source": [
    "1\n",
    "4\n",
    "9\n",
    "16\n",
    "25"
   ]
  },
  {
   "cell_type": "code",
   "execution_count": 16,
   "metadata": {},
   "outputs": [
    {
     "name": "stdout",
     "output_type": "stream",
     "text": [
      "1\n",
      "4\n",
      "9\n",
      "16\n",
      "25\n",
      "döngü bitti\n"
     ]
    }
   ],
   "source": [
    "x = 1\n",
    "\n",
    "while x < 6:\n",
    "    print(x ** 2)\n",
    "    x += 1\n",
    "print(\"döngü bitti\")"
   ]
  },
  {
   "cell_type": "code",
   "execution_count": 19,
   "metadata": {},
   "outputs": [
    {
     "name": "stdout",
     "output_type": "stream",
     "text": [
      "1\n",
      "4\n",
      "9\n",
      "16\n",
      "25\n",
      "döngü bitti\n"
     ]
    }
   ],
   "source": [
    "x = 0\n",
    "\n",
    "while x < 5:\n",
    "    x += 1\n",
    "    print(x ** 2)\n",
    "    \n",
    "print(\"döngü bitti\")"
   ]
  },
  {
   "cell_type": "code",
   "execution_count": 18,
   "metadata": {},
   "outputs": [
    {
     "name": "stdout",
     "output_type": "stream",
     "text": [
      "1\n",
      "4\n",
      "9\n",
      "16\n",
      "25\n",
      "döngü bitti\n"
     ]
    }
   ],
   "source": [
    "x = 1\n",
    "\n",
    "while 5 >= x:\n",
    "    print(x ** 2)\n",
    "    x += 1\n",
    "print(\"döngü bitti\")"
   ]
  },
  {
   "cell_type": "code",
   "execution_count": 23,
   "metadata": {},
   "outputs": [
    {
     "name": "stdout",
     "output_type": "stream",
     "text": [
      "1\n",
      "9\n",
      "36\n",
      "64\n",
      "121\n",
      "225\n"
     ]
    }
   ],
   "source": [
    "sayılar_listesi = [1,3,6,8,11,15]\n",
    "\n",
    "len_liste = len(sayılar_listesi)\n",
    "\n",
    "x = 0\n",
    "\n",
    "while x < len_liste:\n",
    "    print(sayılar_listesi[x] ** 2)\n",
    "    x += 1\n",
    "\n",
    "\n"
   ]
  },
  {
   "cell_type": "code",
   "execution_count": 28,
   "metadata": {},
   "outputs": [
    {
     "name": "stdout",
     "output_type": "stream",
     "text": [
      "1\n",
      "9\n",
      "36\n",
      "64\n",
      "121\n",
      "225\n",
      "289\n",
      "361\n",
      "441\n",
      "529\n"
     ]
    }
   ],
   "source": [
    "sayılar_listesi = [1,3,6,8,11,15,17,19,21,23]\n",
    "\n",
    "x = 0\n",
    "\n",
    "while x < len(sayılar_listesi):\n",
    "    print(sayılar_listesi[x] ** 2)\n",
    "    x += 1"
   ]
  },
  {
   "cell_type": "code",
   "execution_count": 29,
   "metadata": {},
   "outputs": [
    {
     "name": "stdout",
     "output_type": "stream",
     "text": [
      "1\n",
      "9\n",
      "36\n",
      "64\n",
      "121\n",
      "225\n"
     ]
    },
    {
     "ename": "IndexError",
     "evalue": "list index out of range",
     "output_type": "error",
     "traceback": [
      "\u001b[1;31m---------------------------------------------------------------------------\u001b[0m",
      "\u001b[1;31mIndexError\u001b[0m                                Traceback (most recent call last)",
      "Cell \u001b[1;32mIn[29], line 8\u001b[0m\n\u001b[0;32m      5\u001b[0m x \u001b[39m=\u001b[39m \u001b[39m0\u001b[39m\n\u001b[0;32m      7\u001b[0m \u001b[39mwhile\u001b[39;00m x \u001b[39m<\u001b[39m\u001b[39m=\u001b[39m len_liste:\n\u001b[1;32m----> 8\u001b[0m     \u001b[39mprint\u001b[39m(sayılar_listesi[x] \u001b[39m*\u001b[39m\u001b[39m*\u001b[39m \u001b[39m2\u001b[39m)\n\u001b[0;32m      9\u001b[0m     x \u001b[39m+\u001b[39m\u001b[39m=\u001b[39m \u001b[39m1\u001b[39m\n",
      "\u001b[1;31mIndexError\u001b[0m: list index out of range"
     ]
    }
   ],
   "source": [
    "sayılar_listesi = [1,3,6,8,11,15]\n",
    "\n",
    "len_liste = len(sayılar_listesi)\n",
    "\n",
    "x = 0\n",
    "\n",
    "while x <= len_liste:\n",
    "    print(sayılar_listesi[x] ** 2)\n",
    "    x += 1"
   ]
  },
  {
   "cell_type": "code",
   "execution_count": 31,
   "metadata": {},
   "outputs": [
    {
     "name": "stdout",
     "output_type": "stream",
     "text": [
      "sanki bunu yazdırmaz\n"
     ]
    }
   ],
   "source": [
    "while []:\n",
    "    print(\"boş liste\")\n",
    "print(\"sanki bunu yazdırmaz\")"
   ]
  },
  {
   "cell_type": "code",
   "execution_count": 30,
   "metadata": {},
   "outputs": [
    {
     "data": {
      "text/plain": [
       "False"
      ]
     },
     "execution_count": 30,
     "metadata": {},
     "output_type": "execute_result"
    }
   ],
   "source": [
    "bool([])"
   ]
  },
  {
   "cell_type": "code",
   "execution_count": 34,
   "metadata": {},
   "outputs": [
    {
     "name": "stdout",
     "output_type": "stream",
     "text": [
      "15\n",
      "11\n",
      "8\n",
      "6\n",
      "3\n",
      "1\n",
      "döngü bitti\n"
     ]
    }
   ],
   "source": [
    "sayılar_listesi = [1,3,6,8,11,15]\n",
    "while sayılar_listesi:\n",
    "    print(sayılar_listesi[-1])\n",
    "    sayılar_listesi.pop()\n",
    "print(\"döngü bitti\")"
   ]
  },
  {
   "cell_type": "code",
   "execution_count": 35,
   "metadata": {},
   "outputs": [
    {
     "name": "stdout",
     "output_type": "stream",
     "text": [
      "1\n",
      "3\n",
      "6\n",
      "8\n",
      "11\n",
      "15\n",
      "döngü bitti\n"
     ]
    }
   ],
   "source": [
    "sayılar_listesi = [1,3,6,8,11,15]\n",
    "while sayılar_listesi:\n",
    "    print(sayılar_listesi[0])\n",
    "    sayılar_listesi.remove(sayılar_listesi[0])\n",
    "print(\"döngü bitti\")"
   ]
  },
  {
   "cell_type": "code",
   "execution_count": 36,
   "metadata": {},
   "outputs": [
    {
     "name": "stdout",
     "output_type": "stream",
     "text": [
      "Girdiğiniz sayı: 80. Tahminini azalt\n",
      "Girdiğiniz sayı: 40. Tahminini arttır\n",
      "Girdiğiniz sayı: 40. Tahminini arttır\n",
      "Girdiğiniz sayı: 60. Doğru bildiniz. Tebrikler\n",
      "Oyun bitti.\n"
     ]
    }
   ],
   "source": [
    "sayı = 60\n",
    "\n",
    "y = True\n",
    "\n",
    "while y:\n",
    "\n",
    "    tahmin = int(input(\"bir sayı giriniz\"))\n",
    "\n",
    "    if sayı < tahmin:\n",
    "        print(f\"Girdiğiniz sayı: {tahmin}. Tahminini azalt\")\n",
    "    elif sayı > tahmin:\n",
    "        print(f\"Girdiğiniz sayı: {tahmin}. Tahminini arttır\")\n",
    "    else:\n",
    "        print(f\"Girdiğiniz sayı: {tahmin}. Doğru bildiniz. Tebrikler\")\n",
    "        y = False\n",
    "\n",
    "print(\"Oyun bitti.\")"
   ]
  },
  {
   "cell_type": "code",
   "execution_count": 39,
   "metadata": {},
   "outputs": [
    {
     "name": "stdout",
     "output_type": "stream",
     "text": [
      "Girdiğiniz sayı: 65. Tahminini azalt\n",
      "Girdiğiniz sayı: 65. Tahminini azalt\n",
      "Girdiğiniz sayı: 45. Tahminini arttır\n",
      "Girdiğiniz sayı: 45. Tahminini arttır\n",
      "Girdiğiniz sayı: 50. Tahminini arttır\n",
      "Girdiğiniz sayı: 554. Tahminini azalt\n",
      "Girdiğiniz sayı: 55. Tahminini arttır\n",
      "Girdiğiniz sayı: 62. Tahminini azalt\n",
      "Girdiğiniz sayı: 60. Doğru bildiniz. Tebrikler\n",
      "Oyun bitti. 9 kerede tahmin ettin.\n"
     ]
    }
   ],
   "source": [
    "sayı = 60\n",
    "\n",
    "y = True\n",
    "\n",
    "sayaç = 0\n",
    "\n",
    "while y:\n",
    "    \n",
    "    tahmin = int(input(\"bir sayı giriniz\"))\n",
    "    \n",
    "    if sayı < tahmin:\n",
    "        print(f\"Girdiğiniz sayı: {tahmin}. Tahminini azalt\")\n",
    "    elif sayı > tahmin:\n",
    "        print(f\"Girdiğiniz sayı: {tahmin}. Tahminini arttır\")\n",
    "    else:\n",
    "        print(f\"Girdiğiniz sayı: {tahmin}. Doğru bildiniz. Tebrikler\")\n",
    "        y = False\n",
    "    sayaç += 1\n",
    "\n",
    "print(f\"Oyun bitti. {sayaç} kerede tahmin ettin.\")"
   ]
  },
  {
   "attachments": {},
   "cell_type": "markdown",
   "metadata": {},
   "source": [
    "# random modülü"
   ]
  },
  {
   "cell_type": "code",
   "execution_count": null,
   "metadata": {},
   "outputs": [],
   "source": [
    "pip install random"
   ]
  },
  {
   "cell_type": "code",
   "execution_count": 40,
   "metadata": {},
   "outputs": [],
   "source": [
    "import random"
   ]
  },
  {
   "cell_type": "code",
   "execution_count": 60,
   "metadata": {},
   "outputs": [
    {
     "data": {
      "text/plain": [
       "0.9663173917897487"
      ]
     },
     "execution_count": 60,
     "metadata": {},
     "output_type": "execute_result"
    }
   ],
   "source": [
    "random.random()"
   ]
  },
  {
   "cell_type": "code",
   "execution_count": 67,
   "metadata": {},
   "outputs": [
    {
     "data": {
      "text/plain": [
       "0.5486946056438222"
      ]
     },
     "execution_count": 67,
     "metadata": {},
     "output_type": "execute_result"
    }
   ],
   "source": [
    "random.seed(35) # sabitlemeye yarar. \n",
    "random.random()"
   ]
  },
  {
   "cell_type": "code",
   "execution_count": 106,
   "metadata": {},
   "outputs": [
    {
     "data": {
      "text/plain": [
       "0.36"
      ]
     },
     "execution_count": 106,
     "metadata": {},
     "output_type": "execute_result"
    }
   ],
   "source": [
    "round(random.random(),2)"
   ]
  },
  {
   "cell_type": "code",
   "execution_count": null,
   "metadata": {},
   "outputs": [],
   "source": [
    "random.randint()"
   ]
  },
  {
   "cell_type": "code",
   "execution_count": 70,
   "metadata": {},
   "outputs": [
    {
     "name": "stdout",
     "output_type": "stream",
     "text": [
      "Help on method randint in module random:\n",
      "\n",
      "randint(a, b) method of random.Random instance\n",
      "    Return random integer in range [a, b], including both end points.\n",
      "\n"
     ]
    }
   ],
   "source": [
    "help(random.randint)"
   ]
  },
  {
   "cell_type": "code",
   "execution_count": 97,
   "metadata": {},
   "outputs": [
    {
     "data": {
      "text/plain": [
       "5"
      ]
     },
     "execution_count": 97,
     "metadata": {},
     "output_type": "execute_result"
    }
   ],
   "source": [
    "random.randint(5,10)"
   ]
  },
  {
   "cell_type": "code",
   "execution_count": 107,
   "metadata": {},
   "outputs": [
    {
     "name": "stdout",
     "output_type": "stream",
     "text": [
      "Girdiğiniz sayı: 73. Tahminini azalt\n",
      "Girdiğiniz sayı: 62. Tahminini azalt\n",
      "Girdiğiniz sayı: 43. Tahminini azalt\n",
      "Girdiğiniz sayı: 29. Tahminini arttır\n",
      "Girdiğiniz sayı: 29. Tahminini arttır\n",
      "Girdiğiniz sayı: 32. Tahminini arttır\n",
      "Girdiğiniz sayı: 40. Tahminini azalt\n",
      "Girdiğiniz sayı: 38. Tahminini azalt\n",
      "Girdiğiniz sayı: 38. Tahminini azalt\n",
      "Girdiğiniz sayı: 35. Tahminini arttır\n",
      "Girdiğiniz sayı: 36. Tahminini arttır\n",
      "Girdiğiniz sayı: 37. Doğru bildiniz. Tebrikler\n",
      "Oyun bitti.\n"
     ]
    }
   ],
   "source": [
    "import random\n",
    "sayı = random.randint(0,100)\n",
    "\n",
    "y = True\n",
    "\n",
    "while y:\n",
    "\n",
    "    tahmin = int(input(\"0 ile 100 arasında bir sayı giriniz\"))\n",
    "\n",
    "    if sayı < tahmin:\n",
    "        print(f\"Girdiğiniz sayı: {tahmin}. Tahminini azalt\")\n",
    "    elif sayı > tahmin:\n",
    "        print(f\"Girdiğiniz sayı: {tahmin}. Tahminini arttır\")\n",
    "    else:\n",
    "        print(f\"Girdiğiniz sayı: {tahmin}. Doğru bildiniz. Tebrikler\")\n",
    "        y = False\n",
    "\n",
    "print(\"Oyun bitti.\")"
   ]
  },
  {
   "cell_type": "code",
   "execution_count": 109,
   "metadata": {},
   "outputs": [
    {
     "name": "stdout",
     "output_type": "stream",
     "text": [
      "Girdiğiniz sayı: 50. Tahminini arttır\n",
      "Girdiğiniz sayı: 75. Tahminini azalt\n",
      "Girdiğiniz sayı: 75. Tahminini azalt\n",
      "Girdiğiniz sayı: 63. Tahminini arttır\n",
      "Girdiğiniz sayı: 69. Tahminini arttır\n",
      "Girdiğiniz sayı: 72. Tahminini arttır\n",
      "Girdiğiniz sayı: 73. Doğru bildiniz. Tebrikler\n",
      "Oyun bitti. 7 kerede tahmin ettin.\n"
     ]
    }
   ],
   "source": [
    "import random\n",
    "sayı = random.randint(0,100)\n",
    "\n",
    "y = True\n",
    "\n",
    "sayaç = 0\n",
    "\n",
    "while y:\n",
    "    \n",
    "    tahmin = int(input(\"bir sayı giriniz\"))\n",
    "    \n",
    "    if sayı < tahmin:\n",
    "        print(f\"Girdiğiniz sayı: {tahmin}. Tahminini azalt\")\n",
    "    elif sayı > tahmin:\n",
    "        print(f\"Girdiğiniz sayı: {tahmin}. Tahminini arttır\")\n",
    "    else:\n",
    "        print(f\"Girdiğiniz sayı: {tahmin}. Doğru bildiniz. Tebrikler\")\n",
    "        y = False\n",
    "    sayaç += 1\n",
    "\n",
    "print(f\"Oyun bitti. {sayaç} kerede tahmin ettin.\")"
   ]
  },
  {
   "cell_type": "code",
   "execution_count": null,
   "metadata": {},
   "outputs": [],
   "source": [
    "import random\n",
    "import time\n",
    "sayı = random.randint(0,100)\n",
    "\n",
    "sayaç = 0\n",
    "\n",
    "while True:\n",
    "    \n",
    "    tahmin = int(input(\"bir sayı giriniz\"))\n",
    "    time.sleep(2)\n",
    "\n",
    "    if sayı < tahmin:\n",
    "        print(f\"Girdiğiniz sayı: {tahmin}. Tahminini azalt\")\n",
    "        \n",
    "    elif sayı > tahmin:\n",
    "        print(f\"Girdiğiniz sayı: {tahmin}. Tahminini arttır\")\n",
    "        \n",
    "    else:\n",
    "        print(f\"Girdiğiniz sayı: {tahmin}. Doğru bildiniz. Tebrikler\")\n",
    "        break\n",
    "    sayaç += 1\n",
    "\n",
    "print(f\"Oyun bitti. {sayaç} kerede tahmin ettin.\")"
   ]
  },
  {
   "cell_type": "code",
   "execution_count": 1,
   "metadata": {},
   "outputs": [],
   "source": [
    "import random\n",
    "import time"
   ]
  },
  {
   "cell_type": "code",
   "execution_count": 2,
   "metadata": {},
   "outputs": [
    {
     "name": "stdout",
     "output_type": "stream",
     "text": [
      "Girdiğiniz sayı: 16. Tahminini arttır\n",
      "Girdiğiniz sayı: 16. Tahminini arttır\n",
      "Girdiğiniz sayı: 23. Tahminini arttır\n",
      "Girdiğiniz sayı: 67. Tahminini arttır\n",
      "Girdiğiniz sayı: 67. Tahminini arttır\n",
      "Doğru tahmin edemedin\n"
     ]
    }
   ],
   "source": [
    "import random\n",
    "import time\n",
    "\n",
    "sayı = random.randint(0,100)\n",
    "\n",
    "sayaç = 0\n",
    "\n",
    "while sayaç < 5:\n",
    "    sayaç += 1\n",
    "    tahmin = int(input(\"bir sayı giriniz\"))\n",
    "    time.sleep(3)\n",
    "\n",
    "    if sayı < tahmin:\n",
    "        print(f\"Girdiğiniz sayı: {tahmin}. Tahminini azalt\")\n",
    "        \n",
    "    elif sayı > tahmin:\n",
    "        print(f\"Girdiğiniz sayı: {tahmin}. Tahminini arttır\")\n",
    "        \n",
    "    else:\n",
    "        print(f\"Girdiğiniz sayı: {tahmin}. Doğru bildiniz. Tebrikler\")\n",
    "        print(f\"Oyun bitti. {sayaç} kerede tahmin ettin.\")\n",
    "        break\n",
    "    \n",
    "\n",
    "    if sayaç == 5:\n",
    "        print(f\"Doğru tahmin edemedin. sayı {sayı} idi\")\n",
    "        break"
   ]
  },
  {
   "cell_type": "code",
   "execution_count": 3,
   "metadata": {},
   "outputs": [
    {
     "name": "stdout",
     "output_type": "stream",
     "text": [
      "[22, 58, 46, 48, 50, 40]\n",
      "[1, 45, 69, 55, 47, 45, 49]\n"
     ]
    }
   ],
   "source": [
    "liste_1 = [1,45,22,69,58,55,47,45,46,48,49,50,40]\n",
    "\n",
    "odds = []\n",
    "\n",
    "evens = []\n",
    "\n",
    "while liste_1:\n",
    "\n",
    "    if liste_1[0] % 2 == 0:\n",
    "        evens.append(liste_1[0])\n",
    "        liste_1.remove(liste_1[0])\n",
    "    else:\n",
    "        odds.append(liste_1[0])\n",
    "        liste_1.remove(liste_1[0])\n",
    "\n",
    "print(evens)\n",
    "print(odds)"
   ]
  }
 ],
 "metadata": {
  "kernelspec": {
   "display_name": "base",
   "language": "python",
   "name": "python3"
  },
  "language_info": {
   "codemirror_mode": {
    "name": "ipython",
    "version": 3
   },
   "file_extension": ".py",
   "mimetype": "text/x-python",
   "name": "python",
   "nbconvert_exporter": "python",
   "pygments_lexer": "ipython3",
   "version": "3.10.9"
  },
  "orig_nbformat": 4
 },
 "nbformat": 4,
 "nbformat_minor": 2
}
