{
 "cells": [
  {
   "cell_type": "code",
   "execution_count": 2,
   "metadata": {},
   "outputs": [
    {
     "data": {
      "text/plain": [
       "8"
      ]
     },
     "execution_count": 2,
     "metadata": {},
     "output_type": "execute_result"
    }
   ],
   "source": [
    "3 + 5"
   ]
  },
  {
   "attachments": {},
   "cell_type": "markdown",
   "metadata": {},
   "source": [
    "Assignment Soru 1: (10 puan)\n",
    "Bir dairenin yarıçapını kullanıcıdan alarak alanını ve çevresini hesaplayan ve ekrana yazdıran kodu yazınız. Formüller: Alan= π*r² – Çevre=2*π*r \n",
    "Π = 3.14 olarak kabul edilebilir.\n"
   ]
  },
  {
   "cell_type": "code",
   "execution_count": null,
   "metadata": {},
   "outputs": [],
   "source": []
  },
  {
   "cell_type": "code",
   "execution_count": 7,
   "metadata": {},
   "outputs": [
    {
     "name": "stdout",
     "output_type": "stream",
     "text": [
      "Dairenin alanı: 78.5\n",
      "Dairenin çevresi: 31.400000000000002 \n"
     ]
    }
   ],
   "source": [
    "r = input(\"Dairenin yarıçapını girin\")\n",
    "\n",
    "r = int(r)\n",
    "\n",
    "pi = 3.14\n",
    "\n",
    "alan = pi * r ** 2\n",
    "\n",
    "çevre = 2 * pi * r\n",
    "\n",
    "print(f\"Dairenin alanı: {alan}\\nDairenin çevresi: {çevre} \")\n",
    "\n"
   ]
  },
  {
   "cell_type": "code",
   "execution_count": 3,
   "metadata": {},
   "outputs": [],
   "source": [
    "pi = 3,14 # tuple"
   ]
  },
  {
   "cell_type": "code",
   "execution_count": 4,
   "metadata": {},
   "outputs": [
    {
     "data": {
      "text/plain": [
       "tuple"
      ]
     },
     "execution_count": 4,
     "metadata": {},
     "output_type": "execute_result"
    }
   ],
   "source": [
    "type(pi)"
   ]
  },
  {
   "attachments": {},
   "cell_type": "markdown",
   "metadata": {},
   "source": [
    "Soru\n",
    " \n",
    "Sıfır haricinde bir rakam giriniz.\n",
    "Beklenen çıktı\n",
    "n + nn + nnn\n",
    "Example\n",
    "input 2\n",
    "output >> 2 + 22 + 222 >>> 246"
   ]
  },
  {
   "cell_type": "code",
   "execution_count": 14,
   "metadata": {},
   "outputs": [
    {
     "name": "stdout",
     "output_type": "stream",
     "text": [
      "int formatında girdiğinizden emin olun\n"
     ]
    }
   ],
   "source": [
    "x = input(\"bir rakam giriniz sıfır hariç\")\n",
    "\n",
    "if x.isnumeric():\n",
    "    if int(x) in [1,2,3,4,5,6,7,8,9]:\n",
    "        sonuç = int(x) + int(x * 2) + int(x * 3)\n",
    "    else:\n",
    "        sonuç = \"rakam giridiğinizden emin olun\"\n",
    "else:\n",
    "    sonuç = \"int formatında girdiğinizden emin olun\"\n",
    "\n",
    "print(sonuç)"
   ]
  },
  {
   "cell_type": "code",
   "execution_count": 11,
   "metadata": {},
   "outputs": [
    {
     "data": {
      "text/plain": [
       "984"
      ]
     },
     "execution_count": 11,
     "metadata": {},
     "output_type": "execute_result"
    }
   ],
   "source": [
    "8 + 88 + 888"
   ]
  },
  {
   "cell_type": "code",
   "execution_count": null,
   "metadata": {},
   "outputs": [],
   "source": [
    "9 + 99 + 999"
   ]
  },
  {
   "cell_type": "code",
   "execution_count": 8,
   "metadata": {},
   "outputs": [
    {
     "data": {
      "text/plain": [
       "'99'"
      ]
     },
     "execution_count": 8,
     "metadata": {},
     "output_type": "execute_result"
    }
   ],
   "source": [
    "\"9\" * 2"
   ]
  },
  {
   "cell_type": "code",
   "execution_count": 9,
   "metadata": {},
   "outputs": [
    {
     "data": {
      "text/plain": [
       "'999'"
      ]
     },
     "execution_count": 9,
     "metadata": {},
     "output_type": "execute_result"
    }
   ],
   "source": [
    "\"9\" * 3"
   ]
  },
  {
   "cell_type": "code",
   "execution_count": 16,
   "metadata": {},
   "outputs": [
    {
     "data": {
      "text/plain": [
       "True"
      ]
     },
     "execution_count": 16,
     "metadata": {},
     "output_type": "execute_result"
    }
   ],
   "source": [
    "\"125\".isnumeric()"
   ]
  },
  {
   "attachments": {},
   "cell_type": "markdown",
   "metadata": {},
   "source": [
    "Assignment Soru 2: (20 puan)\n",
    "Öğrencilerine 11 haneli öğrenci numarası veren üniversitenin verdiği numaranın ilk 4 hanesi giriş yılı 5. ve 6. hanesi okuduğu fakültenin numarası 7. ve 8. hane bölüm numarası 9. hanesi öğrenim numarası 10. ve 11. hane ise öğrencinin üniversiteye giriş sırasıdır. 11 haneli öğrenci kodunu kullanıcıdan alarak anlamlı şekilde ayıran ve ekrana yazan kodu yazınız.\n",
    "\n",
    "1.\tÖrnek Çıktı:\n",
    "2.\tÖğrenci No: 20151411321\n",
    "3.\tNUMARANIN ACILIMI:\n",
    "4.\tGirisYili: 2015\n",
    "5.\tFakulteNo: 14\n",
    "6.\tBolumNo: 11\n",
    "7.\tOgrenimNo: 3\n",
    "8.\tOgrenciNo: 21\n"
   ]
  },
  {
   "cell_type": "code",
   "execution_count": 17,
   "metadata": {},
   "outputs": [
    {
     "name": "stdout",
     "output_type": "stream",
     "text": [
      "GirisYili 2023\n",
      "FakulteNo 25\n",
      "BolumNo 16\n",
      "OgrenimNo 2\n",
      "OgrenciNo 74\n"
     ]
    }
   ],
   "source": [
    "ögr_nu = input(\"11 haneli öğrenci numaranızı girin\")\n",
    "\n",
    "if ögr_nu.isdigit() and len(ögr_nu) == 11:\n",
    "    ögr_bilgileri = dict(GirisYili = ögr_nu[0:4],\n",
    "                            FakulteNo = ögr_nu[4:6],\n",
    "                            BolumNo = ögr_nu[6:8],\n",
    "                            OgrenimNo = ögr_nu[8],\n",
    "                            OgrenciNo = ögr_nu[9:])\n",
    "\n",
    "else:\n",
    "    print(\"Yanlış giriş yaptınız.\")\n",
    "\n",
    "for i in ögr_bilgileri.items():\n",
    "    print(i[0], i[1])"
   ]
  },
  {
   "attachments": {},
   "cell_type": "markdown",
   "metadata": {},
   "source": [
    "Soru\n",
    "\n",
    "Kullanıcıdan bir kelime girmesini isteyin. Ve her karakterini index numarası ile eşleştirin. "
   ]
  },
  {
   "cell_type": "code",
   "execution_count": 19,
   "metadata": {},
   "outputs": [
    {
     "name": "stdout",
     "output_type": "stream",
     "text": [
      "[(0, 't'), (1, 'e'), (2, 'c'), (3, 'h'), (4, 'p'), (5, 'r'), (6, 'o')]\n"
     ]
    }
   ],
   "source": [
    "#1 nci çözüm\n",
    "x = input(\"Bir kelime girin\")\n",
    "\n",
    "index_list = [i for i in range(0,len(x))]\n",
    "\n",
    "char_list = [ i for i in x]\n",
    "\n",
    "aa = list(zip(index_list, char_list))\n",
    "\n",
    "\n",
    "\n",
    "print(aa)"
   ]
  },
  {
   "cell_type": "code",
   "execution_count": 20,
   "metadata": {},
   "outputs": [
    {
     "name": "stdout",
     "output_type": "stream",
     "text": [
      "{0: 't', 1: 'e', 2: 'c', 3: 'h', 4: 'p', 5: 'r', 6: 'o'}\n"
     ]
    }
   ],
   "source": [
    "#2 nci çözüm\n",
    "x = input(\"Bir kelime girin\")\n",
    "\n",
    "dict_char = {}\n",
    "\n",
    "for i in range(len(x)):\n",
    "\n",
    "    dict_char[i] = x[i]\n",
    "\n",
    "print(dict_char)"
   ]
  },
  {
   "cell_type": "code",
   "execution_count": 21,
   "metadata": {},
   "outputs": [
    {
     "data": {
      "text/plain": [
       "[(0, 't'), (1, 'e'), (2, 'c'), (3, 'h'), (4, 'p'), (5, 'r'), (6, 'o')]"
      ]
     },
     "execution_count": 21,
     "metadata": {},
     "output_type": "execute_result"
    }
   ],
   "source": [
    "#3 ncü çözüm\n",
    "\n",
    "x = input(\"Bir kelime girin\")\n",
    "\n",
    "list(enumerate(x))"
   ]
  },
  {
   "cell_type": "code",
   "execution_count": 22,
   "metadata": {},
   "outputs": [
    {
     "data": {
      "text/plain": [
       "{0: 't', 1: 'e', 2: 'c', 3: 'h', 4: 'p', 5: 'r', 6: 'o'}"
      ]
     },
     "execution_count": 22,
     "metadata": {},
     "output_type": "execute_result"
    }
   ],
   "source": [
    "#3 ncü çözüm\n",
    "\n",
    "x = input(\"Bir kelime girin\")\n",
    "\n",
    "dict(enumerate(x))"
   ]
  },
  {
   "attachments": {},
   "cell_type": "markdown",
   "metadata": {},
   "source": [
    "Assignment Soru 5\n",
    "\n",
    "Soru 5: (25 puan)  (Microsoft Interview Question!) \n",
    "Parametre olarak bir tamsayı listesi/arrayi (lst) alan bir fonksiyon yazın (fonksiyonun adı validMountainArray olsun). Bu fonksiyonun görevi lst tamsayı listesi eğer geçerli bir mountain array ise true değerini döndürsün aksi halde false değerini döndürsün.\n",
    "Bilgi: Mountain Array dizisi tanımı:\n",
    "•\tlst.length >= 3 OLMALI\n",
    "•\ti with 0 < i < lst.length - 1 öyle ki:\n",
    "•\tarr[0] < arr[1] < ... < arr[i - 1] < arr[i]\n",
    "arr[i] > arr[i + 1] > ... > arr[arr.length - 1]\n",
    "Aşağıdaki şekildeki örneklerde daha net anlaşılacak şekilde gösterilmiştir:\n",
    " \n",
    "Yani tekrar etmek gerekirse liste içindeki sayılar önce artacak daha sonra azalacaklardır.\n",
    "Sadece artma veya sadece azalma mountain array olmamaktadır.\n",
    "1.\tÖrnek:\n",
    "2.\tInput: lst = [3,1]\n",
    "3.\tOutput: false\n",
    "4.\t \n",
    "5.\tInput: arr = [3,4,4]\n",
    "6.\tOutput: false\n",
    "7.\t \n",
    "8.\tInput: arr = [0,4,2,1]\n",
    "9.\tOutput: true\n",
    "\n"
   ]
  },
  {
   "cell_type": "code",
   "execution_count": 23,
   "metadata": {},
   "outputs": [],
   "source": [
    "# [0,4,5,6,4,2,1]  #[0,0,1,4,2,1] # [1,2,3,4,5]\n",
    "\n",
    "def validMountainArray(arr):\n",
    "\n",
    "    if len(arr) < 3:\n",
    "        return False\n",
    "\n",
    "    i = 1\n",
    "\n",
    "    while i < len(arr) and arr[i] > arr[i - 1]:\n",
    "        \n",
    "        i += 1\n",
    "\n",
    "    if i == 1  or i == len(arr):\n",
    "        return False\n",
    "\n",
    "    while i < len(arr) and arr[i] < arr[i - 1]:\n",
    "\n",
    "        i += 1\n",
    "\n",
    "    if i == len(arr):\n",
    "        return True\n",
    "    else:\n",
    "        return False"
   ]
  },
  {
   "cell_type": "code",
   "execution_count": 24,
   "metadata": {},
   "outputs": [
    {
     "data": {
      "text/plain": [
       "True"
      ]
     },
     "execution_count": 24,
     "metadata": {},
     "output_type": "execute_result"
    }
   ],
   "source": [
    "validMountainArray([0,4,5,6,4,2,1])"
   ]
  },
  {
   "cell_type": "code",
   "execution_count": 25,
   "metadata": {},
   "outputs": [
    {
     "data": {
      "text/plain": [
       "False"
      ]
     },
     "execution_count": 25,
     "metadata": {},
     "output_type": "execute_result"
    }
   ],
   "source": [
    "validMountainArray([0,0,1,4,2,1])"
   ]
  },
  {
   "cell_type": "code",
   "execution_count": 26,
   "metadata": {},
   "outputs": [
    {
     "data": {
      "text/plain": [
       "False"
      ]
     },
     "execution_count": 26,
     "metadata": {},
     "output_type": "execute_result"
    }
   ],
   "source": [
    "validMountainArray([1,2,3,4,5])"
   ]
  },
  {
   "cell_type": "code",
   "execution_count": 28,
   "metadata": {},
   "outputs": [
    {
     "data": {
      "text/plain": [
       "False"
      ]
     },
     "execution_count": 28,
     "metadata": {},
     "output_type": "execute_result"
    }
   ],
   "source": [
    "validMountainArray([5,4,3,2,1])"
   ]
  },
  {
   "cell_type": "code",
   "execution_count": 29,
   "metadata": {},
   "outputs": [
    {
     "data": {
      "text/plain": [
       "False"
      ]
     },
     "execution_count": 29,
     "metadata": {},
     "output_type": "execute_result"
    }
   ],
   "source": [
    "validMountainArray([5,4,3,6,7])"
   ]
  },
  {
   "attachments": {},
   "cell_type": "markdown",
   "metadata": {},
   "source": [
    "Assignment Soru 3 (20 puan)\n",
    "\n",
    "Bir liste içindeki 5’in katları olan sayıları bulan ve ekrana yazan bir program yazınız.\n"
   ]
  },
  {
   "cell_type": "code",
   "execution_count": 30,
   "metadata": {},
   "outputs": [],
   "source": [
    "def beşin_katlarını_bul(liste):\n",
    "\n",
    "    result = []\n",
    "    for i in liste:\n",
    "        if i % 5 == 0:\n",
    "            result.append(i)\n",
    "            \n",
    "    return result"
   ]
  },
  {
   "cell_type": "code",
   "execution_count": 31,
   "metadata": {},
   "outputs": [
    {
     "data": {
      "text/plain": [
       "[5, 15, 20, 25, 35]"
      ]
     },
     "execution_count": 31,
     "metadata": {},
     "output_type": "execute_result"
    }
   ],
   "source": [
    "beşin_katlarını_bul([1,4,5,15,21,20,25,35,46])"
   ]
  },
  {
   "cell_type": "code",
   "execution_count": 32,
   "metadata": {},
   "outputs": [],
   "source": [
    "def beşin_katlarını_bul_2(liste):\n",
    "\n",
    "    return [i for i in liste if i % 5 == 0]\n",
    "    "
   ]
  },
  {
   "cell_type": "code",
   "execution_count": 33,
   "metadata": {},
   "outputs": [
    {
     "data": {
      "text/plain": [
       "[5, 15, 20, 25, 35]"
      ]
     },
     "execution_count": 33,
     "metadata": {},
     "output_type": "execute_result"
    }
   ],
   "source": [
    "beşin_katlarını_bul_2([1,4,5,15,21,20,25,35,46])"
   ]
  },
  {
   "cell_type": "code",
   "execution_count": 34,
   "metadata": {},
   "outputs": [
    {
     "data": {
      "text/plain": [
       "[5, 15, 20, 25, 35]"
      ]
     },
     "execution_count": 34,
     "metadata": {},
     "output_type": "execute_result"
    }
   ],
   "source": [
    "(lambda x: [i for i in x if i % 5 == 0])([1,4,5,15,21,20,25,35,46])"
   ]
  },
  {
   "cell_type": "code",
   "execution_count": 35,
   "metadata": {},
   "outputs": [
    {
     "data": {
      "text/plain": [
       "<function __main__.<lambda>(x, y, z)>"
      ]
     },
     "execution_count": 35,
     "metadata": {},
     "output_type": "execute_result"
    }
   ],
   "source": [
    "lambda x, y, z: x ** y + z"
   ]
  },
  {
   "cell_type": "code",
   "execution_count": 36,
   "metadata": {},
   "outputs": [],
   "source": [
    "aa = lambda x, y, z: x ** y + z"
   ]
  },
  {
   "cell_type": "code",
   "execution_count": 37,
   "metadata": {},
   "outputs": [
    {
     "data": {
      "text/plain": [
       "13"
      ]
     },
     "execution_count": 37,
     "metadata": {},
     "output_type": "execute_result"
    }
   ],
   "source": [
    "aa(2,3,5)"
   ]
  },
  {
   "cell_type": "code",
   "execution_count": 38,
   "metadata": {},
   "outputs": [
    {
     "data": {
      "text/plain": [
       "13"
      ]
     },
     "execution_count": 38,
     "metadata": {},
     "output_type": "execute_result"
    }
   ],
   "source": [
    "(lambda x, y, z: x ** y + z)(2,3,5)"
   ]
  },
  {
   "attachments": {},
   "cell_type": "markdown",
   "metadata": {},
   "source": [
    "Assignment Soru 4: (25 puan)  (Facebook Interview Question!) \n",
    "\n",
    "Parametre olarak bir tamsayı dizisi alan bir fonksiyon yazın (fonksiyonun adi moveZeroes olsun). Bu fonksiyonun görevi bu tamsayı dizisindeki sıfır olmayan öğelerin göreli sırasını korurken, tüm 0'ları dizinin sonuna taşısın.\n",
    "1.\tÖrnek:\n",
    "2.\tsayilar = [0,1,0,3,11]\n",
    "3.\tmoveZeroes(sayilar)\n",
    "4.\tprint(sayilar)  => Ekrana [1, 3, 11, 0, 0] yazmalı."
   ]
  },
  {
   "cell_type": "code",
   "execution_count": 1,
   "metadata": {},
   "outputs": [],
   "source": [
    "def moveZeroes(sayılar):\n",
    "\n",
    "    liste = []\n",
    "    for i in sayılar:\n",
    "        if i != 0:\n",
    "            liste.append(i)\n",
    "\n",
    "    for i in range(len(sayılar) - len(liste)):\n",
    "\n",
    "        liste.append(0)\n",
    "\n",
    "    return liste"
   ]
  },
  {
   "cell_type": "code",
   "execution_count": 2,
   "metadata": {},
   "outputs": [
    {
     "data": {
      "text/plain": [
       "[1, 3, 11, 0, 0]"
      ]
     },
     "execution_count": 2,
     "metadata": {},
     "output_type": "execute_result"
    }
   ],
   "source": [
    "moveZeroes([0,1,0,3,11])"
   ]
  },
  {
   "attachments": {},
   "cell_type": "markdown",
   "metadata": {},
   "source": [
    "Assignment Soru 4: (25 puan)  (Facebook Interview Question!) \n",
    "\n",
    "Parametre olarak bir tamsayı dizisi alan bir fonksiyon yazın (fonksiyonun adi moveZeroes olsun). Bu fonksiyonun görevi bu tamsayı dizisindeki sıfır olmayan öğelerin göreli sırasını korurken, tüm 0'ları dizinin sonuna taşısın.\n",
    "## Not: Bunu dizinin bir kopyasını oluşturmadan, aynı dizi üzerinde yapmanız gerekmektedir.\n",
    "1.\tÖrnek:\n",
    "2.\tsayilar = [0,1,0,21,11]\n",
    "3.\tmoveZeroes(sayilar)\n",
    "4.\tprint(sayilar)  => Ekrana [1, 21, 11, 0, 0] yazmalı."
   ]
  },
  {
   "cell_type": "code",
   "execution_count": 3,
   "metadata": {},
   "outputs": [],
   "source": [
    "def moveZeroes_2(sayılar):   # [0,1,0,21,11]\n",
    "                            # [1,21,11,21,11]\n",
    "    index = 0\n",
    "    for i in sayılar:\n",
    "        if i != 0:\n",
    "            sayılar[index] = i\n",
    "            index += 1\n",
    "    return sayılar"
   ]
  },
  {
   "cell_type": "code",
   "execution_count": 4,
   "metadata": {},
   "outputs": [
    {
     "data": {
      "text/plain": [
       "[1, 21, 11, 21, 11]"
      ]
     },
     "execution_count": 4,
     "metadata": {},
     "output_type": "execute_result"
    }
   ],
   "source": [
    "moveZeroes_2([0,1,0,21,11])"
   ]
  },
  {
   "cell_type": "code",
   "execution_count": 7,
   "metadata": {},
   "outputs": [],
   "source": [
    "def moveZeroes_2(sayılar):   # [0,1,0,21,11]\n",
    "                            # [1,21,11,21,11]\n",
    "    index = 0\n",
    "    for i in sayılar:\n",
    "        if i != 0:\n",
    "            sayılar[index] = i\n",
    "            index += 1\n",
    "\n",
    "    for x in range(index, len(sayılar)):\n",
    "        sayılar[x] = 0\n",
    "\n",
    "    return sayılar"
   ]
  },
  {
   "cell_type": "code",
   "execution_count": 8,
   "metadata": {},
   "outputs": [
    {
     "data": {
      "text/plain": [
       "[1, 21, 11, 0, 0]"
      ]
     },
     "execution_count": 8,
     "metadata": {},
     "output_type": "execute_result"
    }
   ],
   "source": [
    "moveZeroes_2([0,1,0,21,11])"
   ]
  },
  {
   "cell_type": "code",
   "execution_count": null,
   "metadata": {},
   "outputs": [],
   "source": []
  },
  {
   "cell_type": "code",
   "execution_count": null,
   "metadata": {},
   "outputs": [],
   "source": []
  },
  {
   "cell_type": "code",
   "execution_count": null,
   "metadata": {},
   "outputs": [],
   "source": []
  },
  {
   "cell_type": "code",
   "execution_count": null,
   "metadata": {},
   "outputs": [],
   "source": []
  },
  {
   "cell_type": "code",
   "execution_count": null,
   "metadata": {},
   "outputs": [],
   "source": []
  },
  {
   "cell_type": "code",
   "execution_count": null,
   "metadata": {},
   "outputs": [],
   "source": []
  },
  {
   "cell_type": "code",
   "execution_count": null,
   "metadata": {},
   "outputs": [],
   "source": []
  },
  {
   "cell_type": "code",
   "execution_count": null,
   "metadata": {},
   "outputs": [],
   "source": []
  }
 ],
 "metadata": {
  "kernelspec": {
   "display_name": "base",
   "language": "python",
   "name": "python3"
  },
  "language_info": {
   "codemirror_mode": {
    "name": "ipython",
    "version": 3
   },
   "file_extension": ".py",
   "mimetype": "text/x-python",
   "name": "python",
   "nbconvert_exporter": "python",
   "pygments_lexer": "ipython3",
   "version": "3.10.9"
  },
  "orig_nbformat": 4
 },
 "nbformat": 4,
 "nbformat_minor": 2
}
