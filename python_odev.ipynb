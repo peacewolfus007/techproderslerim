{
 "cells": [
  {
   "cell_type": "markdown",
   "id": "9dbf2c13",
   "metadata": {},
   "source": [
    "#CEVAP 1"
   ]
  },
  {
   "cell_type": "code",
   "execution_count": 1,
   "id": "d6d215c4",
   "metadata": {},
   "outputs": [
    {
     "name": "stdout",
     "output_type": "stream",
     "text": [
      "Dairenin yarıçapını giriniz:35\n",
      "Bu dairenin alanı 3846.5 Çevresi: 219.8\n"
     ]
    }
   ],
   "source": [
    "r=int(input(\"Dairenin yarıçapını giriniz:\"))\n",
    "pi=3.14\n",
    "Alan=pi*r**2\n",
    "Çevre=2*pi*r\n",
    "print(f\"Bu dairenin alanı {Alan} Çevresi: {Çevre}\")\n"
   ]
  },
  {
   "cell_type": "markdown",
   "id": "47e33ab2",
   "metadata": {},
   "source": [
    "#CEVAP 2"
   ]
  },
  {
   "cell_type": "code",
   "execution_count": 2,
   "id": "acdf11d8",
   "metadata": {},
   "outputs": [
    {
     "name": "stdout",
     "output_type": "stream",
     "text": [
      "Giris Yiliniz: 2015\n",
      "Fakulte No: 14\n",
      "Bolum No: 11\n",
      "Ogrenim No: 3\n",
      "Ogrenci No: 21\n",
      "NUMARANIZ: 20151411321\n"
     ]
    }
   ],
   "source": [
    "GirisYili= input(\"Giris Yiliniz: \")\n",
    "FakulteNo= input(\"Fakulte No: \")\n",
    "BolumNo= input(\"Bolum No: \")\n",
    "OgrenimN= input(\"Ogrenim No: \")\n",
    "OgrenciNo= input(\"Ogrenci No: \")\n",
    "num=GirisYili+FakulteNo+BolumNo+OgrenimN+OgrenciNo\n",
    "print(f\"NUMARANIZ: {num}\")\n"
   ]
  },
  {
   "cell_type": "markdown",
   "id": "de3b4839",
   "metadata": {},
   "source": [
    "#CEVAP 3"
   ]
  },
  {
   "cell_type": "code",
   "execution_count": 3,
   "id": "d51cbd1f",
   "metadata": {},
   "outputs": [
    {
     "name": "stdout",
     "output_type": "stream",
     "text": [
      "5\n",
      "15\n",
      "35\n",
      "45\n"
     ]
    }
   ],
   "source": [
    "listek=[1,2,3,4,5,6,8,9,15,36,35,44,45]\n",
    "for x in listek:\n",
    "    if x%5==0:\n",
    "        print(x)\n",
    "    else:\n",
    "        continue\n"
   ]
  },
  {
   "cell_type": "markdown",
   "id": "72811959",
   "metadata": {},
   "source": [
    "#CEVAP 4"
   ]
  },
  {
   "cell_type": "code",
   "execution_count": 4,
   "id": "5516542e",
   "metadata": {},
   "outputs": [
    {
     "data": {
      "text/plain": [
       "[1, 3, 11, 0, 0]"
      ]
     },
     "execution_count": 4,
     "metadata": {},
     "output_type": "execute_result"
    }
   ],
   "source": [
    "sayilar = [0,1,0,3,11]\n",
    "def move_zeros(sayilar):\n",
    "    for x in range(len(sayilar)):\n",
    "        if sayilar[x] == 0:\n",
    "            sayilar.remove(0)\n",
    "            sayilar.append(0)\n",
    "    return sayilar\n",
    "move_zeros(sayilar)"
   ]
  },
  {
   "cell_type": "markdown",
   "id": "3304facb",
   "metadata": {},
   "source": [
    "#CEVAP 5"
   ]
  },
  {
   "cell_type": "code",
   "execution_count": 8,
   "id": "7d6cca6b",
   "metadata": {},
   "outputs": [
    {
     "data": {
      "text/plain": [
       "'TRUE: a Listesi bir mountain listesidir'"
      ]
     },
     "execution_count": 8,
     "metadata": {},
     "output_type": "execute_result"
    }
   ],
   "source": [
    "a=[0,4,2,1] \n",
    "def is_mountain(lst):\n",
    "    if len(lst) < 3:\n",
    "        return \"FALSE: Mountain değil\"\n",
    "    peak_index = lst.index(max(lst))\n",
    "    if peak_index == 0 or peak_index == len(lst) - 1:\n",
    "        return \"FALSE: Mountain değil\"\n",
    "    if lst[:peak_index] != sorted(lst[:peak_index]):\n",
    "        return \"FALSE: Mountain değil\"\n",
    "    if lst[peak_index+1:] != sorted(lst[peak_index+1:], reverse=True):\n",
    "        return \"FALSE: Mountain değil\"\n",
    "    return f\"TRUE: {lst} Listesi bir mountain listesidir\"\n",
    "check_list(a)"
   ]
  },
  {
   "cell_type": "code",
   "execution_count": null,
   "id": "c5f73d43",
   "metadata": {},
   "outputs": [],
   "source": []
  }
 ],
 "metadata": {
  "kernelspec": {
   "display_name": "Python 3 (ipykernel)",
   "language": "python",
   "name": "python3"
  },
  "language_info": {
   "codemirror_mode": {
    "name": "ipython",
    "version": 3
   },
   "file_extension": ".py",
   "mimetype": "text/x-python",
   "name": "python",
   "nbconvert_exporter": "python",
   "pygments_lexer": "ipython3",
   "version": "3.10.2"
  }
 },
 "nbformat": 4,
 "nbformat_minor": 5
}
