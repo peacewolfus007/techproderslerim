{
 "cells": [
  {
   "attachments": {},
   "cell_type": "markdown",
   "metadata": {},
   "source": [
    "# format & f-string"
   ]
  },
  {
   "cell_type": "code",
   "execution_count": 4,
   "metadata": {},
   "outputs": [
    {
     "name": "stdout",
     "output_type": "stream",
     "text": [
      "My name is Ahmet Altın and \n",
      "I'm 35 years old.\n"
     ]
    }
   ],
   "source": [
    "name = \"Ahmet\"\n",
    "surname = \"Altın\"\n",
    "age = 35\n",
    "\n",
    "greeting = \"My name is \" + name + \" \" + surname + \" and \\nI'm \" + str(age) + \" years old.\"\n",
    "print(greeting)"
   ]
  },
  {
   "cell_type": "code",
   "execution_count": 5,
   "metadata": {},
   "outputs": [
    {
     "name": "stdout",
     "output_type": "stream",
     "text": [
      "My name is Ahmet Altın and \n",
      "I'm 35 years old.\n"
     ]
    }
   ],
   "source": [
    "name = \"Ahmet\"\n",
    "surname = \"Altın\"\n",
    "age = 35\n",
    "\n",
    "print(\"My name is {} {} and \\nI'm {} years old.\".format(name, surname, age))"
   ]
  },
  {
   "cell_type": "code",
   "execution_count": 8,
   "metadata": {},
   "outputs": [
    {
     "name": "stdout",
     "output_type": "stream",
     "text": [
      "My name is Ahmet Altın and \n",
      "I'm 35 years old.\n"
     ]
    }
   ],
   "source": [
    "name = \"Ahmet\"\n",
    "surname = \"Altın\"\n",
    "age = 35\n",
    "\n",
    "print(\"My name is {2} {1} and \\nI'm {0} years old.\".format(age, surname, name))"
   ]
  },
  {
   "cell_type": "code",
   "execution_count": 10,
   "metadata": {},
   "outputs": [
    {
     "name": "stdout",
     "output_type": "stream",
     "text": [
      "My name is Ahmet Altın and \n",
      "I'm 35 years old.\n"
     ]
    }
   ],
   "source": [
    "name = \"Ahmet\"\n",
    "surname = \"Altın\"\n",
    "age = 35\n",
    "\n",
    "print(\"My name is {a} {s} and \\nI'm {y} years old.\".format(y=age, a=name, s=surname))"
   ]
  },
  {
   "cell_type": "code",
   "execution_count": 11,
   "metadata": {},
   "outputs": [
    {
     "name": "stdout",
     "output_type": "stream",
     "text": [
      "c, b and a\n",
      "abracadabra\n"
     ]
    }
   ],
   "source": [
    "str1 = '{2}, {1} and {0}'.format('a', 'b', 'c')\n",
    "str2 = '{0}{1}{0}'.format('abra', 'cad')\n",
    "print(str1, str2, sep=\"\\n\")"
   ]
  },
  {
   "cell_type": "code",
   "execution_count": 12,
   "metadata": {},
   "outputs": [
    {
     "name": "stdout",
     "output_type": "stream",
     "text": [
      "My name is Ahmet Altın and \n",
      "I'm 35 years old.\n"
     ]
    }
   ],
   "source": [
    "name = \"Ahmet\"\n",
    "surname = \"Altın\"\n",
    "age = 35\n",
    "\n",
    "print(f\"My name is {name} {surname} and \\nI'm {age} years old.\")"
   ]
  },
  {
   "cell_type": "code",
   "execution_count": 14,
   "metadata": {},
   "outputs": [
    {
     "name": "stdout",
     "output_type": "stream",
     "text": [
      "My name is Ahmet Altın and \n",
      "I'm 35 years old.\n"
     ]
    }
   ],
   "source": [
    "print(greeting)"
   ]
  },
  {
   "cell_type": "code",
   "execution_count": 15,
   "metadata": {},
   "outputs": [
    {
     "data": {
      "text/plain": [
       "45"
      ]
     },
     "execution_count": 15,
     "metadata": {},
     "output_type": "execute_result"
    }
   ],
   "source": [
    "len(greeting)"
   ]
  },
  {
   "cell_type": "code",
   "execution_count": 17,
   "metadata": {},
   "outputs": [
    {
     "data": {
      "text/plain": [
       "'m sAmtAtnad'"
      ]
     },
     "execution_count": 17,
     "metadata": {},
     "output_type": "execute_result"
    }
   ],
   "source": [
    "sonuc = greeting[5:26:2]\n",
    "sonuc"
   ]
  },
  {
   "cell_type": "code",
   "execution_count": 18,
   "metadata": {},
   "outputs": [
    {
     "data": {
      "text/plain": [
       "' ymd'"
      ]
     },
     "execution_count": 18,
     "metadata": {},
     "output_type": "execute_result"
    }
   ],
   "source": [
    "sonuc = greeting[-5:-25:-5]\n",
    "sonuc"
   ]
  },
  {
   "cell_type": "code",
   "execution_count": 20,
   "metadata": {},
   "outputs": [
    {
     "name": "stdout",
     "output_type": "stream",
     "text": [
      "My name is Ahmet Altın and \n",
      "I'm 35 years old.\n"
     ]
    }
   ],
   "source": [
    "sonuc = greeting[0:]\n",
    "print(sonuc)"
   ]
  },
  {
   "cell_type": "code",
   "execution_count": 21,
   "metadata": {},
   "outputs": [
    {
     "name": "stdout",
     "output_type": "stream",
     "text": [
      "M_y_ _n_a_m_e_ _i_s_ _A_h_m_e_t_ _A_l_t_ı_n_ _a_n_d_ _\n",
      "_I_'_m_ _3_5_ _y_e_a_r_s_ _o_l_d_.\n"
     ]
    }
   ],
   "source": [
    "print(*greeting, sep=\"_\")"
   ]
  },
  {
   "attachments": {},
   "cell_type": "markdown",
   "metadata": {},
   "source": [
    "# **string** methods"
   ]
  },
  {
   "cell_type": "code",
   "execution_count": 22,
   "metadata": {},
   "outputs": [
    {
     "name": "stdout",
     "output_type": "stream",
     "text": [
      "MY NAME IS AHMET ALTIN AND \n",
      "I'M 35 YEARS OLD.\n"
     ]
    }
   ],
   "source": [
    "print(greeting.upper())"
   ]
  },
  {
   "cell_type": "code",
   "execution_count": 23,
   "metadata": {},
   "outputs": [
    {
     "name": "stdout",
     "output_type": "stream",
     "text": [
      "my name is ahmet altin and \n",
      "i'm 35 years old.\n"
     ]
    }
   ],
   "source": [
    "print(greeting.upper().lower())"
   ]
  },
  {
   "cell_type": "code",
   "execution_count": 25,
   "metadata": {},
   "outputs": [
    {
     "name": "stdout",
     "output_type": "stream",
     "text": [
      "BU YAZIYI FARK ETMENIZLE\n",
      "fark etmemeni̇zi̇n,\n",
      "Hiç bir şey fark etmediğini\n",
      "Fark Edeceksi̇ni̇z.\n"
     ]
    }
   ],
   "source": [
    "print(\"bu yazıyı fark etmenizle\".upper(),\n",
    "      \"FARK ETMEMENİZİN,\".lower(),\n",
    "      \"hiç bir şey fark etmediğini\".capitalize(),\n",
    "      \"fARK eDECEKSİNİZ.\".title(), \n",
    "      sep=\"\\n\")"
   ]
  },
  {
   "cell_type": "code",
   "execution_count": 30,
   "metadata": {},
   "outputs": [
    {
     "name": "stdout",
     "output_type": "stream",
     "text": [
      "['Çaköslavakyal', 'Laşt', 'Ramad', 'Klar', 'M', 'Zdan M', 'S', 'N', 'Z?']\n"
     ]
    }
   ],
   "source": [
    "print(\"Çekoslavakyalılaştıramadıklarımızdan mısınız?\"\n",
    "      .replace(\"e\", \"a\")\n",
    "      .replace(\"o\", \"ö\")\n",
    "      .replace(\"ı\", \"_\")\n",
    "      .title()\n",
    "      .split(\"_\"))"
   ]
  },
  {
   "cell_type": "code",
   "execution_count": 32,
   "metadata": {},
   "outputs": [
    {
     "name": "stdout",
     "output_type": "stream",
     "text": [
      "t E C H P R O   I S   T H E   B E S T   C O U R S E   I N   T H E   W O R L D\n"
     ]
    }
   ],
   "source": [
    "str1 = \"Techpro is the best course in the world\"\n",
    "print(*str1.swapcase())"
   ]
  },
  {
   "cell_type": "code",
   "execution_count": 33,
   "metadata": {},
   "outputs": [
    {
     "name": "stdout",
     "output_type": "stream",
     "text": [
      "['T', 'chpro is th', ' b', 'st course in the world']\n"
     ]
    }
   ],
   "source": [
    "print(str1.split(\"e\", maxsplit=3))"
   ]
  },
  {
   "cell_type": "code",
   "execution_count": 37,
   "metadata": {},
   "outputs": [
    {
     "name": "stdout",
     "output_type": "stream",
     "text": [
      "Tec☺\n",
      "pro is t☺\n",
      "e best course in t☺\n",
      "e world\n"
     ]
    }
   ],
   "source": [
    "print(*str1.split(\"h\"), sep=\"☺\\n\")"
   ]
  },
  {
   "cell_type": "code",
   "execution_count": 40,
   "metadata": {},
   "outputs": [
    {
     "name": "stdout",
     "output_type": "stream",
     "text": [
      "echpro is the best course in the worl\n"
     ]
    }
   ],
   "source": [
    "print(str1.strip(\"d\").strip(\"T\").strip(\"k\"))"
   ]
  },
  {
   "cell_type": "code",
   "execution_count": 44,
   "metadata": {},
   "outputs": [
    {
     "name": "stdout",
     "output_type": "stream",
     "text": [
      "*Techpro ♦ is ♦ the ♦ best ♦ course ♦ in ♦ the ♦ world\n",
      "Techpro ♦ is ♦ the ♦ best ♦ course ♦ in ♦ the ♦ world*\n"
     ]
    }
   ],
   "source": [
    "print(str1.replace(\" \", \" ♦ \").join(\"*\\n*\"))"
   ]
  },
  {
   "cell_type": "code",
   "execution_count": 45,
   "metadata": {},
   "outputs": [
    {
     "data": {
      "text/plain": [
       "39"
      ]
     },
     "execution_count": 45,
     "metadata": {},
     "output_type": "execute_result"
    }
   ],
   "source": [
    "len(str1)"
   ]
  },
  {
   "cell_type": "code",
   "execution_count": 46,
   "metadata": {},
   "outputs": [
    {
     "name": "stdout",
     "output_type": "stream",
     "text": [
      "*****Techpro is the best course in the world******\n"
     ]
    }
   ],
   "source": [
    "print(str1.center(50, \"*\"))"
   ]
  },
  {
   "cell_type": "code",
   "execution_count": 47,
   "metadata": {},
   "outputs": [
    {
     "name": "stdout",
     "output_type": "stream",
     "text": [
      "Techpro is the best course in the world***********\n"
     ]
    }
   ],
   "source": [
    "print(str1.ljust(50, \"*\"))"
   ]
  },
  {
   "cell_type": "code",
   "execution_count": 48,
   "metadata": {},
   "outputs": [
    {
     "name": "stdout",
     "output_type": "stream",
     "text": [
      "***********Techpro is the best course in the world\n"
     ]
    }
   ],
   "source": [
    "print(str1.rjust(50, \"*\"))"
   ]
  },
  {
   "cell_type": "code",
   "execution_count": 49,
   "metadata": {},
   "outputs": [
    {
     "name": "stdout",
     "output_type": "stream",
     "text": [
      "$$$$$♦♦***Techpro is the best course in the world***♦♦♦!!!!!\n"
     ]
    }
   ],
   "source": [
    "str2 = str1.center(45, \"*\").center(50, \"♦\").ljust(55, \"!\").rjust(60, \"$\")\n",
    "print(str2)"
   ]
  },
  {
   "cell_type": "code",
   "execution_count": 50,
   "metadata": {},
   "outputs": [
    {
     "name": "stdout",
     "output_type": "stream",
     "text": [
      "Techpro is the best course in the world\n"
     ]
    }
   ],
   "source": [
    "str2 = str2.strip(\"$!♦*\")\n",
    "print(str2)"
   ]
  },
  {
   "cell_type": "code",
   "execution_count": 51,
   "metadata": {},
   "outputs": [
    {
     "name": "stdout",
     "output_type": "stream",
     "text": [
      "echpro is the best course in the world\n"
     ]
    }
   ],
   "source": [
    "str2 = str2.strip(\"T\")\n",
    "print(str2)"
   ]
  },
  {
   "cell_type": "code",
   "execution_count": 52,
   "metadata": {},
   "outputs": [
    {
     "ename": "TypeError",
     "evalue": "strip arg must be None or str",
     "output_type": "error",
     "traceback": [
      "\u001b[1;31m---------------------------------------------------------------------------\u001b[0m",
      "\u001b[1;31mTypeError\u001b[0m                                 Traceback (most recent call last)",
      "Cell \u001b[1;32mIn[52], line 1\u001b[0m\n\u001b[1;32m----> 1\u001b[0m str2 \u001b[39m=\u001b[39m str2\u001b[39m.\u001b[39;49mstrip(\u001b[39m5\u001b[39;49m)\n\u001b[0;32m      2\u001b[0m \u001b[39mprint\u001b[39m(str2)\n",
      "\u001b[1;31mTypeError\u001b[0m: strip arg must be None or str"
     ]
    }
   ],
   "source": [
    "str2 = str2.strip(5)\n",
    "print(str2)"
   ]
  },
  {
   "cell_type": "code",
   "execution_count": 56,
   "metadata": {},
   "outputs": [
    {
     "data": {
      "text/plain": [
       "39"
      ]
     },
     "execution_count": 56,
     "metadata": {},
     "output_type": "execute_result"
    }
   ],
   "source": [
    "len(str1)"
   ]
  },
  {
   "cell_type": "code",
   "execution_count": 53,
   "metadata": {},
   "outputs": [
    {
     "name": "stdout",
     "output_type": "stream",
     "text": [
      "$$$$$--***Techpro is the best course in the world***---!!!!!\n"
     ]
    }
   ],
   "source": [
    "str2 = str1.center(45, \"*\").center(50, \"-\").ljust(55, \"!\").rjust(60, \"$\")\n",
    "print(str2)"
   ]
  },
  {
   "cell_type": "code",
   "execution_count": 55,
   "metadata": {},
   "outputs": [
    {
     "name": "stdout",
     "output_type": "stream",
     "text": [
      "Techpro is the best course in the world\n"
     ]
    }
   ],
   "source": [
    "str2 = str2.strip(\"$-*!\")\n",
    "print(str2)"
   ]
  },
  {
   "cell_type": "code",
   "execution_count": 58,
   "metadata": {},
   "outputs": [
    {
     "data": {
      "text/plain": [
       "11"
      ]
     },
     "execution_count": 58,
     "metadata": {},
     "output_type": "execute_result"
    }
   ],
   "source": [
    "str3 = str1.find(\"the\")\n",
    "str3"
   ]
  },
  {
   "cell_type": "code",
   "execution_count": 60,
   "metadata": {},
   "outputs": [
    {
     "data": {
      "text/plain": [
       "30"
      ]
     },
     "execution_count": 60,
     "metadata": {},
     "output_type": "execute_result"
    }
   ],
   "source": [
    "str3 = str1.rfind(\"the\")\n",
    "str3"
   ]
  },
  {
   "cell_type": "code",
   "execution_count": 62,
   "metadata": {},
   "outputs": [
    {
     "data": {
      "text/plain": [
       "-1"
      ]
     },
     "execution_count": 62,
     "metadata": {},
     "output_type": "execute_result"
    }
   ],
   "source": [
    "str3 = str1.find(\"the\", 15, 25)\n",
    "str3"
   ]
  },
  {
   "cell_type": "code",
   "execution_count": 63,
   "metadata": {},
   "outputs": [
    {
     "data": {
      "text/plain": [
       "30"
      ]
     },
     "execution_count": 63,
     "metadata": {},
     "output_type": "execute_result"
    }
   ],
   "source": [
    "str3 = str1.find(\"the\", 15, 35)\n",
    "str3"
   ]
  },
  {
   "attachments": {},
   "cell_type": "markdown",
   "metadata": {},
   "source": [
    "# **if/elif/else**"
   ]
  },
  {
   "cell_type": "code",
   "execution_count": 66,
   "metadata": {},
   "outputs": [
    {
     "name": "stdout",
     "output_type": "stream",
     "text": [
      "sayı 15 ile 25 arasındadır.\n"
     ]
    }
   ],
   "source": [
    "x = 20\n",
    "if x > 25:\n",
    "    print(\"sayı 25'ten büyüktür\")\n",
    "elif x < 15:\n",
    "    print(\"sayı 15'ten küçüktür\")\n",
    "else:\n",
    "    print(\"sayı 15 ile 25 arasındadır.\")"
   ]
  },
  {
   "cell_type": "code",
   "execution_count": 72,
   "metadata": {},
   "outputs": [
    {
     "name": "stdout",
     "output_type": "stream",
     "text": [
      "Girdiğiniz sayı 10 ve sayı 15'ten küçüktür\n"
     ]
    }
   ],
   "source": [
    "x = int(input(\"bir sayı giriniz:\"))\n",
    "print(f\"Girdiğiniz sayı {x} ve \", end=\"\")\n",
    "\n",
    "if x >= 25:\n",
    "    print(\"sayı 25'ten büyüktür\")\n",
    "elif x <= 15:\n",
    "    print(\"sayı 15'ten küçüktür\")\n",
    "else:\n",
    "    print(\"sayı 15 ile 25 arasındadır.\")"
   ]
  },
  {
   "attachments": {},
   "cell_type": "markdown",
   "metadata": {},
   "source": [
    " **ÖR:** Kullanıcıdan isim, yaş ve eğitim bilgilerini isteyip ehliyet alabilme durumunu kontrol eden python uygulamasını yapınız.\n",
    "\n",
    "** Ehliyet alma koşulu en az 18 ve eğitim durumu lise ya da üniversite olmalıdır."
   ]
  },
  {
   "cell_type": "code",
   "execution_count": 73,
   "metadata": {},
   "outputs": [
    {
     "name": "stdout",
     "output_type": "stream",
     "text": [
      "ahmet ehliyet almak için uygun kriterlere sahip değilsiniz!\n"
     ]
    }
   ],
   "source": [
    "isim = input(\"İsminizi yazınız:\")\n",
    "age = int(input(\"Yaşınızı giriniz:\"))\n",
    "mezuniyet = input(\"En son mezun olduğunuz eğitim düzeyini yazınız: \").lower()\n",
    "\n",
    "\n",
    "if age >= 18 and mezuniyet == \"lise\" or mezuniyet == \"üniversite\":\n",
    "    print(f\"{isim}, yaşınız {age} ve mezuniyetiniz {mezuniyet} olduğundan ehliyet alabilirsiniz.\")\n",
    "else:\n",
    "    print(f\"{isim} ehliyet almak için uygun kriterlere sahip değilsiniz!\")"
   ]
  },
  {
   "cell_type": "code",
   "execution_count": 76,
   "metadata": {},
   "outputs": [
    {
     "name": "stdout",
     "output_type": "stream",
     "text": [
      "mehmet eğitim düzeyiniz yetersiz. Ehliyet alamazsınız.\n"
     ]
    }
   ],
   "source": [
    "isim = input(\"İsminizi yazınız:\")\n",
    "age = int(input(\"Yaşınızı giriniz:\"))\n",
    "mezuniyet = input(\"En son mezun olduğunuz eğitim düzeyini yazınız: \").lower()\n",
    "\n",
    "if age >= 18:\n",
    "    if mezuniyet == \"lise\" or mezuniyet == \"üniversite\":\n",
    "        print(f\"{isim} mezuniyet şartını sağladınız. ehliyet alabilirsiniz\")\n",
    "    else:\n",
    "        print(f\"{isim} eğitim düzeyiniz yetersiz. Ehliyet alamazsınız.\")\n",
    "else:\n",
    "    print(f\"{isim} yaşınız ehliyet almaya yeterli değil\")"
   ]
  },
  {
   "attachments": {},
   "cell_type": "markdown",
   "metadata": {},
   "source": [
    "**ÖR:** Girilen bir sayının pozitif çift sayı olup olmadığını kontrol eden python uygulamasını yapınız."
   ]
  },
  {
   "cell_type": "code",
   "execution_count": 78,
   "metadata": {},
   "outputs": [
    {
     "name": "stdout",
     "output_type": "stream",
     "text": [
      "Sayı çift sayıdır\n"
     ]
    }
   ],
   "source": [
    "sayi = int(input(\"Bir sayı giriniz:\"))\n",
    "\n",
    "if sayi % 2:\n",
    "    print(\"Sayı tek sayıdır.\")\n",
    "else:\n",
    "    print(\"Sayı çift sayıdır\")"
   ]
  },
  {
   "cell_type": "code",
   "execution_count": 80,
   "metadata": {},
   "outputs": [
    {
     "name": "stdout",
     "output_type": "stream",
     "text": [
      "Sayı çift sayıdır.\n"
     ]
    }
   ],
   "source": [
    "sayi = int(input(\"Bir sayı giriniz:\"))\n",
    "\n",
    "if sayi % 2 == 0:\n",
    "    print(\"Sayı çift sayıdır.\")\n",
    "else:\n",
    "    print(\"Sayı tek sayıdır\")"
   ]
  },
  {
   "attachments": {},
   "cell_type": "markdown",
   "metadata": {},
   "source": [
    "# **Python Collection Types (Array)**"
   ]
  },
  {
   "attachments": {},
   "cell_type": "markdown",
   "metadata": {},
   "source": [
    "## **lists, tuples, dictionaries, sets**"
   ]
  },
  {
   "attachments": {},
   "cell_type": "markdown",
   "metadata": {},
   "source": [
    "### 1 - lists"
   ]
  },
  {
   "cell_type": "code",
   "execution_count": 81,
   "metadata": {},
   "outputs": [
    {
     "data": {
      "text/plain": [
       "[]"
      ]
     },
     "execution_count": 81,
     "metadata": {},
     "output_type": "execute_result"
    }
   ],
   "source": [
    "liste1 = []\n",
    "liste1"
   ]
  },
  {
   "cell_type": "code",
   "execution_count": 82,
   "metadata": {},
   "outputs": [
    {
     "data": {
      "text/plain": [
       "list"
      ]
     },
     "execution_count": 82,
     "metadata": {},
     "output_type": "execute_result"
    }
   ],
   "source": [
    "type(liste1)"
   ]
  },
  {
   "cell_type": "code",
   "execution_count": 83,
   "metadata": {},
   "outputs": [
    {
     "name": "stdout",
     "output_type": "stream",
     "text": [
      "<class 'list'>\n"
     ]
    }
   ],
   "source": [
    "print(type(liste1))"
   ]
  },
  {
   "cell_type": "code",
   "execution_count": 84,
   "metadata": {},
   "outputs": [
    {
     "data": {
      "text/plain": [
       "['a', 'l', 'i', 'v', 'e', 'l', 'i', 'd', 'e', 'l', 'i']"
      ]
     },
     "execution_count": 84,
     "metadata": {},
     "output_type": "execute_result"
    }
   ],
   "source": [
    "liste2 = list(\"alivelideli\")\n",
    "liste2"
   ]
  },
  {
   "cell_type": "code",
   "execution_count": 85,
   "metadata": {},
   "outputs": [
    {
     "ename": "TypeError",
     "evalue": "list expected at most 1 argument, got 3",
     "output_type": "error",
     "traceback": [
      "\u001b[1;31m---------------------------------------------------------------------------\u001b[0m",
      "\u001b[1;31mTypeError\u001b[0m                                 Traceback (most recent call last)",
      "Cell \u001b[1;32mIn[85], line 1\u001b[0m\n\u001b[1;32m----> 1\u001b[0m liste3 \u001b[39m=\u001b[39m \u001b[39mlist\u001b[39;49m(\u001b[39m1256\u001b[39;49m, \u001b[39m\"\u001b[39;49m\u001b[39mali\u001b[39;49m\u001b[39m\"\u001b[39;49m, \u001b[39mFalse\u001b[39;49;00m)\n",
      "\u001b[1;31mTypeError\u001b[0m: list expected at most 1 argument, got 3"
     ]
    }
   ],
   "source": [
    "liste3 = list(1256, \"ali\", False)"
   ]
  },
  {
   "cell_type": "code",
   "execution_count": 86,
   "metadata": {},
   "outputs": [
    {
     "ename": "TypeError",
     "evalue": "'int' object is not iterable",
     "output_type": "error",
     "traceback": [
      "\u001b[1;31m---------------------------------------------------------------------------\u001b[0m",
      "\u001b[1;31mTypeError\u001b[0m                                 Traceback (most recent call last)",
      "Cell \u001b[1;32mIn[86], line 1\u001b[0m\n\u001b[1;32m----> 1\u001b[0m liste3 \u001b[39m=\u001b[39m \u001b[39mlist\u001b[39;49m(\u001b[39m1256\u001b[39;49m)\n",
      "\u001b[1;31mTypeError\u001b[0m: 'int' object is not iterable"
     ]
    }
   ],
   "source": [
    "liste3 = list(1256)"
   ]
  },
  {
   "cell_type": "code",
   "execution_count": 87,
   "metadata": {},
   "outputs": [
    {
     "ename": "TypeError",
     "evalue": "'bool' object is not iterable",
     "output_type": "error",
     "traceback": [
      "\u001b[1;31m---------------------------------------------------------------------------\u001b[0m",
      "\u001b[1;31mTypeError\u001b[0m                                 Traceback (most recent call last)",
      "Cell \u001b[1;32mIn[87], line 1\u001b[0m\n\u001b[1;32m----> 1\u001b[0m liste3 \u001b[39m=\u001b[39m \u001b[39mlist\u001b[39;49m(\u001b[39mFalse\u001b[39;49;00m)\n\u001b[0;32m      2\u001b[0m liste3\n",
      "\u001b[1;31mTypeError\u001b[0m: 'bool' object is not iterable"
     ]
    }
   ],
   "source": [
    "liste3 = list(False)\n",
    "liste3"
   ]
  },
  {
   "cell_type": "code",
   "execution_count": 88,
   "metadata": {},
   "outputs": [
    {
     "data": {
      "text/plain": [
       "[1, 2, 3, 4, 5]"
      ]
     },
     "execution_count": 88,
     "metadata": {},
     "output_type": "execute_result"
    }
   ],
   "source": [
    "liste3 = list([1, 2, 3, 4, 5])\n",
    "liste3"
   ]
  },
  {
   "cell_type": "code",
   "execution_count": 89,
   "metadata": {},
   "outputs": [
    {
     "ename": "TypeError",
     "evalue": "list expected at most 1 argument, got 3",
     "output_type": "error",
     "traceback": [
      "\u001b[1;31m---------------------------------------------------------------------------\u001b[0m",
      "\u001b[1;31mTypeError\u001b[0m                                 Traceback (most recent call last)",
      "Cell \u001b[1;32mIn[89], line 1\u001b[0m\n\u001b[1;32m----> 1\u001b[0m liste4 \u001b[39m=\u001b[39m \u001b[39mlist\u001b[39;49m([\u001b[39m1\u001b[39;49m,\u001b[39m2\u001b[39;49m,\u001b[39m3\u001b[39;49m,\u001b[39m4\u001b[39;49m,\u001b[39m5\u001b[39;49m], [\u001b[39m6\u001b[39;49m,\u001b[39m7\u001b[39;49m,\u001b[39m8\u001b[39;49m],[\u001b[39m9\u001b[39;49m,\u001b[39m10\u001b[39;49m])\n\u001b[0;32m      2\u001b[0m liste4\n",
      "\u001b[1;31mTypeError\u001b[0m: list expected at most 1 argument, got 3"
     ]
    }
   ],
   "source": [
    "liste4 = list([1,2,3,4,5], [6,7,8],[9,10])\n",
    "liste4"
   ]
  },
  {
   "cell_type": "code",
   "execution_count": 90,
   "metadata": {},
   "outputs": [
    {
     "name": "stdout",
     "output_type": "stream",
     "text": [
      "[1, 2, 3]\n",
      "['bir', 2, True, 5.6]\n"
     ]
    }
   ],
   "source": [
    "liste1 = [1, 2, 3]\n",
    "liste2 = ['bir', 2, True, 5.6]\n",
    "print(liste1, liste2, sep=\"\\n\")"
   ]
  },
  {
   "cell_type": "code",
   "execution_count": 91,
   "metadata": {},
   "outputs": [
    {
     "data": {
      "text/plain": [
       "1"
      ]
     },
     "execution_count": 91,
     "metadata": {},
     "output_type": "execute_result"
    }
   ],
   "source": [
    "liste1[0]"
   ]
  },
  {
   "cell_type": "code",
   "execution_count": 92,
   "metadata": {},
   "outputs": [
    {
     "data": {
      "text/plain": [
       "['one', 'two', 'three', 'four', 'five', 'six']"
      ]
     },
     "execution_count": 92,
     "metadata": {},
     "output_type": "execute_result"
    }
   ],
   "source": [
    "liste3 = [\"one\", \"two\", \"three\"]\n",
    "liste4 = [\"four\", \"five\", \"six\"]\n",
    "numbers = liste3 + liste4\n",
    "numbers"
   ]
  },
  {
   "cell_type": "code",
   "execution_count": 93,
   "metadata": {},
   "outputs": [
    {
     "name": "stdout",
     "output_type": "stream",
     "text": [
      "3\n",
      "4\n"
     ]
    }
   ],
   "source": [
    "list1 = [\"one\", \"two\", \"three\"]\n",
    "list2 = [[1, 2, 3], [4, 5, 6], [7, 8, 9], 10]\n",
    "\n",
    "print(len(list1))\n",
    "print(len(list2))"
   ]
  },
  {
   "cell_type": "code",
   "execution_count": 94,
   "metadata": {},
   "outputs": [
    {
     "data": {
      "text/plain": [
       "['Hello', 'world.', \"I'm\", 'a', 'friend', '☺']"
      ]
     },
     "execution_count": 94,
     "metadata": {},
     "output_type": "execute_result"
    }
   ],
   "source": [
    "message = \"Hello world. I'm a friend ☺\".split()\n",
    "message"
   ]
  },
  {
   "cell_type": "code",
   "execution_count": 95,
   "metadata": {},
   "outputs": [
    {
     "data": {
      "text/plain": [
       "6"
      ]
     },
     "execution_count": 95,
     "metadata": {},
     "output_type": "execute_result"
    }
   ],
   "source": [
    "len(message)"
   ]
  },
  {
   "cell_type": "code",
   "execution_count": 96,
   "metadata": {},
   "outputs": [
    {
     "data": {
      "text/plain": [
       "'a'"
      ]
     },
     "execution_count": 96,
     "metadata": {},
     "output_type": "execute_result"
    }
   ],
   "source": [
    "message[3]"
   ]
  },
  {
   "cell_type": "code",
   "execution_count": 97,
   "metadata": {},
   "outputs": [
    {
     "data": {
      "text/plain": [
       "['world.', \"I'm\"]"
      ]
     },
     "execution_count": 97,
     "metadata": {},
     "output_type": "execute_result"
    }
   ],
   "source": [
    "message[1:3]"
   ]
  },
  {
   "cell_type": "code",
   "execution_count": 98,
   "metadata": {},
   "outputs": [
    {
     "data": {
      "text/plain": [
       "['Hello', 'world.', \"I'm\", 'a']"
      ]
     },
     "execution_count": 98,
     "metadata": {},
     "output_type": "execute_result"
    }
   ],
   "source": [
    "message[:4]"
   ]
  },
  {
   "cell_type": "code",
   "execution_count": 99,
   "metadata": {},
   "outputs": [
    {
     "data": {
      "text/plain": [
       "['☺', 'friend', 'a']"
      ]
     },
     "execution_count": 99,
     "metadata": {},
     "output_type": "execute_result"
    }
   ],
   "source": [
    "message[-1:-4:-1]"
   ]
  },
  {
   "cell_type": "code",
   "execution_count": 100,
   "metadata": {},
   "outputs": [
    {
     "name": "stdout",
     "output_type": "stream",
     "text": [
      "ahmet sert\n",
      "mehmet kaya\n",
      "mustafa yılmaz\n"
     ]
    }
   ],
   "source": [
    "names = [\"ahmet\", \"mehmet\", \"mustafa\"]\n",
    "surnames = [\"yılmaz\", \"sert\", \"kaya\"]\n",
    "\n",
    "full_name1 = names[0] + \" \" + surnames[1]\n",
    "full_name2 = names[1] + \" \" + surnames[2]\n",
    "full_name3 = names[2] + \" \" + surnames[0]\n",
    "print(full_name1, full_name2, full_name3, sep=\"\\n\")"
   ]
  },
  {
   "cell_type": "code",
   "execution_count": 101,
   "metadata": {},
   "outputs": [
    {
     "data": {
      "text/plain": [
       "['one', 'updated', 'three']"
      ]
     },
     "execution_count": 101,
     "metadata": {},
     "output_type": "execute_result"
    }
   ],
   "source": [
    "liste1 = [\"one\", \"two\", \"three\"]\n",
    "liste1[1] = \"updated\"\n",
    "liste1"
   ]
  },
  {
   "cell_type": "code",
   "execution_count": 105,
   "metadata": {},
   "outputs": [
    {
     "name": "stdout",
     "output_type": "stream",
     "text": [
      "Ahmet\n",
      "Kaya\n",
      "70\n"
     ]
    }
   ],
   "source": [
    "studentA = [\"Ahmet\", \"Demir\", 2010, [70, 60, 70]]\n",
    "studentB = [\"Nihal\", \"Kaya\", 1999, [80, 80, 70]]\n",
    "studentC = [\"Elif\", \"İpek\", 1998, [80, 70, 90]]\n",
    "\n",
    "result = studentA[0]\n",
    "print(result)\n",
    "result = studentB[1]\n",
    "print(result)\n",
    "result = studentC[3][1]\n",
    "print(result)"
   ]
  },
  {
   "cell_type": "code",
   "execution_count": 107,
   "metadata": {},
   "outputs": [
    {
     "name": "stdout",
     "output_type": "stream",
     "text": [
      "Ahmet Demir 13 yaşında ve not ortalaması 66.67\n"
     ]
    }
   ],
   "source": [
    "result = f\"{studentA[0]} {studentA[1]} {2023-studentA[2]} yaşında ve not ortalaması {round((studentA[3][0] + studentA[3][1] + studentA[3][2])/3, 2)}\"\n",
    "print(result)"
   ]
  },
  {
   "attachments": {},
   "cell_type": "markdown",
   "metadata": {},
   "source": [
    "### **list methods**"
   ]
  },
  {
   "cell_type": "code",
   "execution_count": 108,
   "metadata": {},
   "outputs": [
    {
     "data": {
      "text/plain": [
       "['apple', 'banana', 'orange', 'kiwi']"
      ]
     },
     "execution_count": 108,
     "metadata": {},
     "output_type": "execute_result"
    }
   ],
   "source": [
    "liste = [\"apple\", \"banana\", \"orange\"]\n",
    "liste.append(\"kiwi\")\n",
    "liste"
   ]
  },
  {
   "cell_type": "code",
   "execution_count": 109,
   "metadata": {},
   "outputs": [
    {
     "ename": "TypeError",
     "evalue": "list.append() takes exactly one argument (2 given)",
     "output_type": "error",
     "traceback": [
      "\u001b[1;31m---------------------------------------------------------------------------\u001b[0m",
      "\u001b[1;31mTypeError\u001b[0m                                 Traceback (most recent call last)",
      "Cell \u001b[1;32mIn[109], line 2\u001b[0m\n\u001b[0;32m      1\u001b[0m liste \u001b[39m=\u001b[39m [\u001b[39m\"\u001b[39m\u001b[39mapple\u001b[39m\u001b[39m\"\u001b[39m, \u001b[39m\"\u001b[39m\u001b[39mbanana\u001b[39m\u001b[39m\"\u001b[39m, \u001b[39m\"\u001b[39m\u001b[39morange\u001b[39m\u001b[39m\"\u001b[39m]\n\u001b[1;32m----> 2\u001b[0m liste\u001b[39m.\u001b[39;49mappend(\u001b[39m\"\u001b[39;49m\u001b[39mkiwi\u001b[39;49m\u001b[39m\"\u001b[39;49m, \u001b[39m\"\u001b[39;49m\u001b[39mcherry\u001b[39;49m\u001b[39m\"\u001b[39;49m)\n\u001b[0;32m      3\u001b[0m liste\n",
      "\u001b[1;31mTypeError\u001b[0m: list.append() takes exactly one argument (2 given)"
     ]
    }
   ],
   "source": [
    "liste = [\"apple\", \"banana\", \"orange\"]\n",
    "liste.append(\"kiwi\", \"cherry\")\n",
    "liste"
   ]
  },
  {
   "cell_type": "code",
   "execution_count": 110,
   "metadata": {},
   "outputs": [
    {
     "data": {
      "text/plain": [
       "['apple', 'banana', 'orange', ['kiwi', 'cherry']]"
      ]
     },
     "execution_count": 110,
     "metadata": {},
     "output_type": "execute_result"
    }
   ],
   "source": [
    "liste.append([\"kiwi\", \"cherry\"])\n",
    "liste"
   ]
  },
  {
   "cell_type": "code",
   "execution_count": 111,
   "metadata": {},
   "outputs": [
    {
     "data": {
      "text/plain": [
       "['apple', 'banana', 'orange', 'strawberry', ['kiwi', 'cherry']]"
      ]
     },
     "execution_count": 111,
     "metadata": {},
     "output_type": "execute_result"
    }
   ],
   "source": [
    "liste.insert(3, \"strawberry\")\n",
    "liste"
   ]
  },
  {
   "cell_type": "code",
   "execution_count": 112,
   "metadata": {},
   "outputs": [
    {
     "data": {
      "text/plain": [
       "['apple', 'banana', 'strawberry', ['kiwi', 'cherry']]"
      ]
     },
     "execution_count": 112,
     "metadata": {},
     "output_type": "execute_result"
    }
   ],
   "source": [
    "liste.remove(\"orange\")\n",
    "liste"
   ]
  },
  {
   "cell_type": "code",
   "execution_count": 113,
   "metadata": {},
   "outputs": [
    {
     "data": {
      "text/plain": [
       "['apple', 'banana', 'strawberry']"
      ]
     },
     "execution_count": 113,
     "metadata": {},
     "output_type": "execute_result"
    }
   ],
   "source": [
    "liste.pop()\n",
    "liste"
   ]
  },
  {
   "cell_type": "code",
   "execution_count": 114,
   "metadata": {},
   "outputs": [
    {
     "data": {
      "text/plain": [
       "'apple'"
      ]
     },
     "execution_count": 114,
     "metadata": {},
     "output_type": "execute_result"
    }
   ],
   "source": [
    "liste.pop(0)"
   ]
  },
  {
   "cell_type": "code",
   "execution_count": 115,
   "metadata": {},
   "outputs": [
    {
     "data": {
      "text/plain": [
       "['banana', 'strawberry']"
      ]
     },
     "execution_count": 115,
     "metadata": {},
     "output_type": "execute_result"
    }
   ],
   "source": [
    "liste"
   ]
  },
  {
   "cell_type": "code",
   "execution_count": 116,
   "metadata": {},
   "outputs": [
    {
     "ename": "NameError",
     "evalue": "name 'liste' is not defined",
     "output_type": "error",
     "traceback": [
      "\u001b[1;31m---------------------------------------------------------------------------\u001b[0m",
      "\u001b[1;31mNameError\u001b[0m                                 Traceback (most recent call last)",
      "Cell \u001b[1;32mIn[116], line 2\u001b[0m\n\u001b[0;32m      1\u001b[0m \u001b[39mdel\u001b[39;00m liste\n\u001b[1;32m----> 2\u001b[0m liste\n",
      "\u001b[1;31mNameError\u001b[0m: name 'liste' is not defined"
     ]
    }
   ],
   "source": [
    "del liste\n",
    "liste"
   ]
  },
  {
   "cell_type": "code",
   "execution_count": 117,
   "metadata": {},
   "outputs": [
    {
     "data": {
      "text/plain": [
       "['apple', 'banana', 'orange']"
      ]
     },
     "execution_count": 117,
     "metadata": {},
     "output_type": "execute_result"
    }
   ],
   "source": [
    "liste = [\"apple\", \"banana\", \"orange\"]\n",
    "liste"
   ]
  },
  {
   "cell_type": "code",
   "execution_count": 118,
   "metadata": {},
   "outputs": [
    {
     "data": {
      "text/plain": [
       "[]"
      ]
     },
     "execution_count": 118,
     "metadata": {},
     "output_type": "execute_result"
    }
   ],
   "source": [
    "liste.clear()\n",
    "liste"
   ]
  }
 ],
 "metadata": {
  "kernelspec": {
   "display_name": "Python 3",
   "language": "python",
   "name": "python3"
  },
  "language_info": {
   "codemirror_mode": {
    "name": "ipython",
    "version": 3
   },
   "file_extension": ".py",
   "mimetype": "text/x-python",
   "name": "python",
   "nbconvert_exporter": "python",
   "pygments_lexer": "ipython3",
   "version": "3.11.2"
  },
  "orig_nbformat": 4
 },
 "nbformat": 4,
 "nbformat_minor": 2
}
