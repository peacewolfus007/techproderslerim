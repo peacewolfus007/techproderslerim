{
 "cells": [
  {
   "attachments": {},
   "cell_type": "markdown",
   "metadata": {},
   "source": [
    "# try exceptions"
   ]
  },
  {
   "cell_type": "code",
   "execution_count": 1,
   "metadata": {},
   "outputs": [
    {
     "data": {
      "text/plain": [
       "8"
      ]
     },
     "execution_count": 1,
     "metadata": {},
     "output_type": "execute_result"
    }
   ],
   "source": [
    "3 + 5"
   ]
  },
  {
   "cell_type": "code",
   "execution_count": 2,
   "metadata": {},
   "outputs": [
    {
     "ename": "TypeError",
     "evalue": "can only concatenate str (not \"int\") to str",
     "output_type": "error",
     "traceback": [
      "\u001b[1;31m---------------------------------------------------------------------------\u001b[0m",
      "\u001b[1;31mTypeError\u001b[0m                                 Traceback (most recent call last)",
      "Cell \u001b[1;32mIn[2], line 1\u001b[0m\n\u001b[1;32m----> 1\u001b[0m \u001b[39m\"\u001b[39;49m\u001b[39m4\u001b[39;49m\u001b[39m\"\u001b[39;49m \u001b[39m+\u001b[39;49m \u001b[39m5\u001b[39;49m\n",
      "\u001b[1;31mTypeError\u001b[0m: can only concatenate str (not \"int\") to str"
     ]
    }
   ],
   "source": [
    "\"4\" + 5"
   ]
  },
  {
   "cell_type": "code",
   "execution_count": 3,
   "metadata": {},
   "outputs": [
    {
     "data": {
      "text/plain": [
       "9"
      ]
     },
     "execution_count": 3,
     "metadata": {},
     "output_type": "execute_result"
    }
   ],
   "source": [
    "3 + 6"
   ]
  },
  {
   "cell_type": "code",
   "execution_count": 9,
   "metadata": {},
   "outputs": [
    {
     "name": "stdout",
     "output_type": "stream",
     "text": [
      "Hatayı gösterme bana. Yeter ki çalış\n"
     ]
    }
   ],
   "source": [
    "try:\n",
    "    \"4\" + 5\n",
    "except:\n",
    "    print(\"Hatayı gösterme bana. Yeter ki çalış\")"
   ]
  },
  {
   "cell_type": "code",
   "execution_count": 12,
   "metadata": {},
   "outputs": [
    {
     "name": "stdout",
     "output_type": "stream",
     "text": [
      "Hatayı gösterme bana. Yeter ki çalış\n",
      "9\n"
     ]
    }
   ],
   "source": [
    "try:\n",
    "    \"4\" + 5\n",
    "except:\n",
    "    print(\"Hatayı gösterme bana. Yeter ki çalış\")\n",
    "    print(4 + 5) ## hata yoksa çalışır"
   ]
  },
  {
   "cell_type": "code",
   "execution_count": 13,
   "metadata": {},
   "outputs": [
    {
     "name": "stdout",
     "output_type": "stream",
     "text": [
      "Hatayı gösterme bana. Yeter ki çalış\n"
     ]
    },
    {
     "ename": "TypeError",
     "evalue": "can only concatenate str (not \"int\") to str",
     "output_type": "error",
     "traceback": [
      "\u001b[1;31m---------------------------------------------------------------------------\u001b[0m",
      "\u001b[1;31mTypeError\u001b[0m                                 Traceback (most recent call last)",
      "Cell \u001b[1;32mIn[13], line 2\u001b[0m\n\u001b[0;32m      1\u001b[0m \u001b[39mtry\u001b[39;00m:\n\u001b[1;32m----> 2\u001b[0m     \u001b[39m\"\u001b[39;49m\u001b[39m4\u001b[39;49m\u001b[39m\"\u001b[39;49m \u001b[39m+\u001b[39;49m \u001b[39m5\u001b[39;49m\n\u001b[0;32m      3\u001b[0m \u001b[39mexcept\u001b[39;00m:\n",
      "\u001b[1;31mTypeError\u001b[0m: can only concatenate str (not \"int\") to str",
      "\nDuring handling of the above exception, another exception occurred:\n",
      "\u001b[1;31mTypeError\u001b[0m                                 Traceback (most recent call last)",
      "Cell \u001b[1;32mIn[13], line 5\u001b[0m\n\u001b[0;32m      3\u001b[0m \u001b[39mexcept\u001b[39;00m:\n\u001b[0;32m      4\u001b[0m     \u001b[39mprint\u001b[39m(\u001b[39m\"\u001b[39m\u001b[39mHatayı gösterme bana. Yeter ki çalış\u001b[39m\u001b[39m\"\u001b[39m)\n\u001b[1;32m----> 5\u001b[0m     \u001b[39mprint\u001b[39m(\u001b[39m\"\u001b[39;49m\u001b[39m4\u001b[39;49m\u001b[39m\"\u001b[39;49m \u001b[39m+\u001b[39;49m \u001b[39m5\u001b[39;49m)\n",
      "\u001b[1;31mTypeError\u001b[0m: can only concatenate str (not \"int\") to str"
     ]
    }
   ],
   "source": [
    "try:\n",
    "    \"4\" + 5\n",
    "except:\n",
    "    print(\"Hatayı gösterme bana. Yeter ki çalış\")\n",
    "    print(\"4\" + 5) ## yine hatalı olursa hata alırız"
   ]
  },
  {
   "cell_type": "code",
   "execution_count": 7,
   "metadata": {},
   "outputs": [
    {
     "name": "stdout",
     "output_type": "stream",
     "text": [
      "44444\n"
     ]
    }
   ],
   "source": [
    "try:\n",
    "    print(\"4\" * 5) # try kısmında hata yoksa try bloğu çalışır\n",
    "except:\n",
    "    print(\"Hatayı gösterme bana. Yeter ki çalış\")"
   ]
  },
  {
   "cell_type": "code",
   "execution_count": 17,
   "metadata": {},
   "outputs": [
    {
     "name": "stdout",
     "output_type": "stream",
     "text": [
      "Hata TypeError olduğu için ben çalıştım\n"
     ]
    }
   ],
   "source": [
    "try:\n",
    "    print(\"4\" + 5)\n",
    "except TypeError:\n",
    "    print(\"Hata TypeError olduğu için ben çalıştım\")"
   ]
  },
  {
   "cell_type": "code",
   "execution_count": 16,
   "metadata": {},
   "outputs": [
    {
     "ename": "TypeError",
     "evalue": "can only concatenate str (not \"int\") to str",
     "output_type": "error",
     "traceback": [
      "\u001b[1;31m---------------------------------------------------------------------------\u001b[0m",
      "\u001b[1;31mTypeError\u001b[0m                                 Traceback (most recent call last)",
      "Cell \u001b[1;32mIn[16], line 2\u001b[0m\n\u001b[0;32m      1\u001b[0m \u001b[39mtry\u001b[39;00m:\n\u001b[1;32m----> 2\u001b[0m     \u001b[39mprint\u001b[39m(\u001b[39m\"\u001b[39;49m\u001b[39m4\u001b[39;49m\u001b[39m\"\u001b[39;49m \u001b[39m+\u001b[39;49m \u001b[39m5\u001b[39;49m)\n\u001b[0;32m      3\u001b[0m \u001b[39mexcept\u001b[39;00m \u001b[39mNameError\u001b[39;00m:\n\u001b[0;32m      4\u001b[0m     \u001b[39mprint\u001b[39m(\u001b[39m\"\u001b[39m\u001b[39mHatayı gösterme bana. Yeter ki çalış\u001b[39m\u001b[39m\"\u001b[39m)\n",
      "\u001b[1;31mTypeError\u001b[0m: can only concatenate str (not \"int\") to str"
     ]
    }
   ],
   "source": [
    "try:\n",
    "    print(\"4\" + 5)\n",
    "except NameError:\n",
    "    print(\"Hata NameError ise ben çalışırım\")"
   ]
  },
  {
   "cell_type": "code",
   "execution_count": 18,
   "metadata": {},
   "outputs": [
    {
     "name": "stdout",
     "output_type": "stream",
     "text": [
      "Hata TypeError ise ben çalışırım\n"
     ]
    }
   ],
   "source": [
    "try:\n",
    "    print(\"4\" + 5)\n",
    "except NameError:\n",
    "    print(\"Hata NameError ise ben çalışırım\")\n",
    "except TypeError:\n",
    "    print(\"Hata TypeError ise ben çalışırım\")"
   ]
  },
  {
   "cell_type": "code",
   "execution_count": 20,
   "metadata": {},
   "outputs": [
    {
     "ename": "ValueError",
     "evalue": "invalid literal for int() with base 10: 'sekiz'",
     "output_type": "error",
     "traceback": [
      "\u001b[1;31m---------------------------------------------------------------------------\u001b[0m",
      "\u001b[1;31mValueError\u001b[0m                                Traceback (most recent call last)",
      "Cell \u001b[1;32mIn[20], line 1\u001b[0m\n\u001b[1;32m----> 1\u001b[0m x \u001b[39m=\u001b[39m \u001b[39mint\u001b[39;49m(\u001b[39minput\u001b[39;49m(\u001b[39m\"\u001b[39;49m\u001b[39mBir sayı girin\u001b[39;49m\u001b[39m\"\u001b[39;49m))\n\u001b[0;32m      2\u001b[0m y \u001b[39m=\u001b[39m \u001b[39mint\u001b[39m(\u001b[39minput\u001b[39m(\u001b[39m\"\u001b[39m\u001b[39mBir sayı daha girin\u001b[39m\u001b[39m\"\u001b[39m))\n\u001b[0;32m      4\u001b[0m \u001b[39mtry\u001b[39;00m:\n",
      "\u001b[1;31mValueError\u001b[0m: invalid literal for int() with base 10: 'sekiz'"
     ]
    }
   ],
   "source": [
    "x = int(input(\"Bir sayı girin\"))\n",
    "y = int(input(\"Bir sayı daha girin\"))\n",
    "\n",
    "try:\n",
    "    print(x / y)\n",
    "except:\n",
    "    print(\"Bu yazıyı görüyorsanız sayılarda hata var demektir.\")"
   ]
  },
  {
   "cell_type": "code",
   "execution_count": 22,
   "metadata": {},
   "outputs": [
    {
     "ename": "ValueError",
     "evalue": "invalid literal for int() with base 10: 'sekiz'",
     "output_type": "error",
     "traceback": [
      "\u001b[1;31m---------------------------------------------------------------------------\u001b[0m",
      "\u001b[1;31mValueError\u001b[0m                                Traceback (most recent call last)",
      "Cell \u001b[1;32mIn[22], line 1\u001b[0m\n\u001b[1;32m----> 1\u001b[0m \u001b[39mint\u001b[39;49m(\u001b[39minput\u001b[39;49m(\u001b[39m\"\u001b[39;49m\u001b[39mBir sayı daha girin\u001b[39;49m\u001b[39m\"\u001b[39;49m))\n",
      "\u001b[1;31mValueError\u001b[0m: invalid literal for int() with base 10: 'sekiz'"
     ]
    }
   ],
   "source": [
    "int(input(\"Bir sayı daha girin\"))"
   ]
  },
  {
   "cell_type": "code",
   "execution_count": 21,
   "metadata": {},
   "outputs": [
    {
     "name": "stdout",
     "output_type": "stream",
     "text": [
      "Bu yazıyı görüyorsanız sayılarda hata var demektir.\n"
     ]
    }
   ],
   "source": [
    "x = input(\"Bir sayı girin\")\n",
    "y = input(\"Bir sayı daha girin\")\n",
    "\n",
    "try:\n",
    "    print(int(x) / int(y))\n",
    "except:\n",
    "    print(\"Bu yazıyı görüyorsanız sayılarda hata var demektir.\")"
   ]
  },
  {
   "cell_type": "code",
   "execution_count": 24,
   "metadata": {},
   "outputs": [
    {
     "name": "stdout",
     "output_type": "stream",
     "text": [
      "Bu yazıyı görüyorsanız sayıyı int formatında girmemişsiniz demektir.\n"
     ]
    }
   ],
   "source": [
    "x = input(\"Bir sayı girin\") # \"sekiz\"\n",
    "y = input(\"Bir sayı daha girin\") # 2\n",
    "\n",
    "try:\n",
    "    print(int(x) / int(y))\n",
    "except ValueError:\n",
    "    print(\"Bu yazıyı görüyorsanız sayıyı int formatında girmemişsiniz demektir.\")"
   ]
  },
  {
   "cell_type": "code",
   "execution_count": 23,
   "metadata": {},
   "outputs": [
    {
     "ename": "ZeroDivisionError",
     "evalue": "division by zero",
     "output_type": "error",
     "traceback": [
      "\u001b[1;31m---------------------------------------------------------------------------\u001b[0m",
      "\u001b[1;31mZeroDivisionError\u001b[0m                         Traceback (most recent call last)",
      "Cell \u001b[1;32mIn[23], line 1\u001b[0m\n\u001b[1;32m----> 1\u001b[0m \u001b[39m8\u001b[39;49m \u001b[39m/\u001b[39;49m \u001b[39m0\u001b[39;49m\n",
      "\u001b[1;31mZeroDivisionError\u001b[0m: division by zero"
     ]
    }
   ],
   "source": [
    "8 / 0"
   ]
  },
  {
   "cell_type": "code",
   "execution_count": 25,
   "metadata": {},
   "outputs": [
    {
     "ename": "ZeroDivisionError",
     "evalue": "division by zero",
     "output_type": "error",
     "traceback": [
      "\u001b[1;31m---------------------------------------------------------------------------\u001b[0m",
      "\u001b[1;31mZeroDivisionError\u001b[0m                         Traceback (most recent call last)",
      "Cell \u001b[1;32mIn[25], line 5\u001b[0m\n\u001b[0;32m      2\u001b[0m y \u001b[39m=\u001b[39m \u001b[39minput\u001b[39m(\u001b[39m\"\u001b[39m\u001b[39mBir sayı daha girin\u001b[39m\u001b[39m\"\u001b[39m) \u001b[39m# 0\u001b[39;00m\n\u001b[0;32m      4\u001b[0m \u001b[39mtry\u001b[39;00m:\n\u001b[1;32m----> 5\u001b[0m     \u001b[39mprint\u001b[39m(\u001b[39mint\u001b[39;49m(x) \u001b[39m/\u001b[39;49m \u001b[39mint\u001b[39;49m(y))\n\u001b[0;32m      6\u001b[0m \u001b[39mexcept\u001b[39;00m \u001b[39mValueError\u001b[39;00m:\n\u001b[0;32m      7\u001b[0m     \u001b[39mprint\u001b[39m(\u001b[39m\"\u001b[39m\u001b[39mBu yazıyı görüyorsanız sayıyı int formatında girmemişsiniz demektir.\u001b[39m\u001b[39m\"\u001b[39m)\n",
      "\u001b[1;31mZeroDivisionError\u001b[0m: division by zero"
     ]
    }
   ],
   "source": [
    "x = input(\"Bir sayı girin\") # 8\n",
    "y = input(\"Bir sayı daha girin\") # 0\n",
    "\n",
    "try:\n",
    "    print(int(x) / int(y))\n",
    "except ValueError:\n",
    "    print(\"Bu yazıyı görüyorsanız sayıyı int formatında girmemişsiniz demektir.\")"
   ]
  },
  {
   "cell_type": "code",
   "execution_count": 26,
   "metadata": {},
   "outputs": [
    {
     "name": "stdout",
     "output_type": "stream",
     "text": [
      "Bu yazıyı görüyorsanız ikinci girdiğiniz sayı sıfırdır ve herhangi bir sayı sıfıra bölünemez.\n"
     ]
    }
   ],
   "source": [
    "x = input(\"Bir sayı girin\") # 8\n",
    "y = input(\"Bir sayı daha girin\") # 0\n",
    "\n",
    "try:\n",
    "    print(int(x) / int(y))\n",
    "except ValueError:\n",
    "    print(\"Bu yazıyı görüyorsanız sayıyı int formatında girmemişsiniz demektir.\")\n",
    "except ZeroDivisionError:\n",
    "    print(\"Bu yazıyı görüyorsanız ikinci girdiğiniz sayı sıfırdır ve herhangi bir sayı sıfıra bölünemez.\")"
   ]
  },
  {
   "cell_type": "code",
   "execution_count": 27,
   "metadata": {},
   "outputs": [
    {
     "ename": "NameError",
     "evalue": "name 'a' is not defined",
     "output_type": "error",
     "traceback": [
      "\u001b[1;31m---------------------------------------------------------------------------\u001b[0m",
      "\u001b[1;31mNameError\u001b[0m                                 Traceback (most recent call last)",
      "Cell \u001b[1;32mIn[27], line 5\u001b[0m\n\u001b[0;32m      2\u001b[0m y \u001b[39m=\u001b[39m \u001b[39minput\u001b[39m(\u001b[39m\"\u001b[39m\u001b[39mBir sayı daha girin\u001b[39m\u001b[39m\"\u001b[39m) \u001b[39m# 0\u001b[39;00m\n\u001b[0;32m      4\u001b[0m \u001b[39mtry\u001b[39;00m:\n\u001b[1;32m----> 5\u001b[0m     \u001b[39mprint\u001b[39m(\u001b[39mint\u001b[39m(a) \u001b[39m/\u001b[39m \u001b[39mint\u001b[39m(y))\n\u001b[0;32m      6\u001b[0m \u001b[39mexcept\u001b[39;00m \u001b[39mValueError\u001b[39;00m:\n\u001b[0;32m      7\u001b[0m     \u001b[39mprint\u001b[39m(\u001b[39m\"\u001b[39m\u001b[39mBu yazıyı görüyorsanız sayıyı int formatında girmemişsiniz demektir.\u001b[39m\u001b[39m\"\u001b[39m)\n",
      "\u001b[1;31mNameError\u001b[0m: name 'a' is not defined"
     ]
    }
   ],
   "source": [
    "x = input(\"Bir sayı girin\") # 8\n",
    "y = input(\"Bir sayı daha girin\") # 2\n",
    "\n",
    "try:\n",
    "    print(int(a) / int(y))\n",
    "except ValueError:\n",
    "    print(\"Bu yazıyı görüyorsanız sayıyı int formatında girmemişsiniz demektir.\")\n",
    "except ZeroDivisionError:\n",
    "    print(\"Bu yazıyı görüyorsanız ikinci girdiğiniz sayı sıfırdır ve herhangi bir sayı sıfıra bölünemez.\")"
   ]
  },
  {
   "cell_type": "code",
   "execution_count": 28,
   "metadata": {},
   "outputs": [
    {
     "name": "stdout",
     "output_type": "stream",
     "text": [
      "Vallahi bu sefer hatanın ne olduğunu bende bilmiyorum\n"
     ]
    }
   ],
   "source": [
    "x = input(\"Bir sayı girin\") # 8\n",
    "y = input(\"Bir sayı daha girin\") # 2\n",
    "\n",
    "try:\n",
    "    print(int(a) / int(y))\n",
    "except ValueError:\n",
    "    print(\"Bu yazıyı görüyorsanız sayıyı int formatında girmemişsiniz demektir.\")\n",
    "except ZeroDivisionError:\n",
    "    print(\"Bu yazıyı görüyorsanız ikinci girdiğiniz sayı sıfırdır ve herhangi bir sayı sıfıra bölünemez.\")\n",
    "except:\n",
    "    print(\"Vallahi bu sefer hatanın ne olduğunu bende bilmiyorum\")"
   ]
  },
  {
   "cell_type": "code",
   "execution_count": 29,
   "metadata": {},
   "outputs": [
    {
     "name": "stdout",
     "output_type": "stream",
     "text": [
      "Vallahi bu sefer hatanın ne olduğunu bende bilmiyorum\n",
      "buradaki hata: name 'a' is not defined\n"
     ]
    }
   ],
   "source": [
    "x = input(\"Bir sayı girin\") # 8\n",
    "y = input(\"Bir sayı daha girin\") # 2\n",
    "\n",
    "try:\n",
    "    print(int(a) / int(y))\n",
    "except ValueError:\n",
    "    print(\"Bu yazıyı görüyorsanız sayıyı int formatında girmemişsiniz demektir.\")\n",
    "except ZeroDivisionError:\n",
    "    print(\"Bu yazıyı görüyorsanız ikinci girdiğiniz sayı sıfırdır ve herhangi bir sayı sıfıra bölünemez.\")\n",
    "except Exception as hata:\n",
    "    print(\"Vallahi bu sefer hatanın ne olduğunu bende bilmiyorum\")\n",
    "    print(f\"buradaki hata: {hata}\")"
   ]
  },
  {
   "cell_type": "code",
   "execution_count": 31,
   "metadata": {},
   "outputs": [
    {
     "name": "stdout",
     "output_type": "stream",
     "text": [
      "16.0\n"
     ]
    }
   ],
   "source": [
    "x = input(\"Bir sayı girin\") # 8\n",
    "y = input(\"Bir sayı daha girin\") # 2\n",
    "\n",
    "try:\n",
    "    a = int(x) / int(y)\n",
    "except ValueError:\n",
    "    print(\"Bu yazıyı görüyorsanız sayıyı int formatında girmemişsiniz demektir.\")\n",
    "except ZeroDivisionError:\n",
    "    print(\"Bu yazıyı görüyorsanız ikinci girdiğiniz sayı sıfırdır ve herhangi bir sayı sıfıra bölünemez.\")\n",
    "else:\n",
    "    print(a ** 2)"
   ]
  },
  {
   "cell_type": "code",
   "execution_count": 32,
   "metadata": {},
   "outputs": [
    {
     "name": "stdout",
     "output_type": "stream",
     "text": [
      "Bu yazıyı görüyorsanız sayıyı int formatında girmemişsiniz demektir.\n"
     ]
    }
   ],
   "source": [
    "x = input(\"Bir sayı girin\") # sekiz\n",
    "y = input(\"Bir sayı daha girin\") # 2\n",
    "\n",
    "try:\n",
    "    a = int(x) / int(y)\n",
    "except ValueError:\n",
    "    print(\"Bu yazıyı görüyorsanız sayıyı int formatında girmemişsiniz demektir.\")\n",
    "except ZeroDivisionError:\n",
    "    print(\"Bu yazıyı görüyorsanız ikinci girdiğiniz sayı sıfırdır ve herhangi bir sayı sıfıra bölünemez.\")\n",
    "else:\n",
    "    print(a ** 2)"
   ]
  },
  {
   "attachments": {},
   "cell_type": "markdown",
   "metadata": {},
   "source": [
    "kullanıcıdan 2 sayı alın. \n",
    "sayıları birbirine bölün. \n",
    "bölünmüş haini listeye ekleyin.\n",
    "Liste de 3 eleman olana kadar işlemi yapın."
   ]
  },
  {
   "cell_type": "code",
   "execution_count": 33,
   "metadata": {},
   "outputs": [
    {
     "name": "stdout",
     "output_type": "stream",
     "text": [
      "Bu yazıyı görüyorsanız ikinci girdiğiniz sayı sıfırdır ve herhangi bir sayı sıfıra bölünemez.\n",
      "Bu yazıyı görüyorsanız sayıyı int formatında girmemişsiniz demektir.\n",
      "Bu yazıyı görüyorsanız sayıyı int formatında girmemişsiniz demektir.\n",
      "[3.0, 3.0, 5.0]\n"
     ]
    }
   ],
   "source": [
    "liste = []\n",
    "\n",
    "while True:\n",
    "\n",
    "    x = input(\"Bir sayı girin\")\n",
    "    y = input(\"Bir sayı daha girin\")\n",
    "\n",
    "    try:\n",
    "        a = int(x) / int(y)\n",
    "    except ValueError:\n",
    "        print(\"Bu yazıyı görüyorsanız sayıyı int formatında girmemişsiniz demektir.\")\n",
    "    except ZeroDivisionError:\n",
    "        print(\"Bu yazıyı görüyorsanız ikinci girdiğiniz sayı sıfırdır ve herhangi bir sayı sıfıra bölünemez.\")\n",
    "    else:\n",
    "        liste.append(a)\n",
    "\n",
    "    if len(liste) == 3:\n",
    "        break\n",
    "\n",
    "print(liste)"
   ]
  },
  {
   "attachments": {},
   "cell_type": "markdown",
   "metadata": {},
   "source": [
    "Kullanıcıdan bir sayı aın ve karesini bulun."
   ]
  },
  {
   "cell_type": "code",
   "execution_count": 35,
   "metadata": {},
   "outputs": [
    {
     "name": "stdout",
     "output_type": "stream",
     "text": [
      "Hatalı giriş yaptınız. Tekrar bir sayı girin\n",
      "Hatalı giriş yaptınız. Tekrar bir sayı girin\n",
      "Hatalı giriş yaptınız. Tekrar bir sayı girin\n",
      "225\n"
     ]
    }
   ],
   "source": [
    "while True:\n",
    "\n",
    "    try:\n",
    "        x = int(input(\"Bir sayı girin\"))\n",
    "        break\n",
    "    except:\n",
    "        print(\"Hatalı giriş yaptınız. Tekrar bir sayı girin\")\n",
    "\n",
    "print(x ** 2)"
   ]
  },
  {
   "cell_type": "code",
   "execution_count": 36,
   "metadata": {},
   "outputs": [
    {
     "name": "stdout",
     "output_type": "stream",
     "text": [
      "burası kesin çalışacak\n",
      "Hatalı giriş yaptınız. Tekrar bir sayı girin\n",
      "burası kesin çalışacak\n",
      "Hatalı giriş yaptınız. Tekrar bir sayı girin\n",
      "burası kesin çalışacak\n",
      "100\n"
     ]
    }
   ],
   "source": [
    "while True:\n",
    "\n",
    "    try:\n",
    "        print(\"burası kesin çalışacak\")\n",
    "        x = int(input(\"Bir sayı girin\"))\n",
    "        break\n",
    "    except:\n",
    "        print(\"Hatalı giriş yaptınız. Tekrar bir sayı girin\")\n",
    "\n",
    "print(x ** 2)"
   ]
  },
  {
   "cell_type": "code",
   "execution_count": 37,
   "metadata": {},
   "outputs": [
    {
     "name": "stdout",
     "output_type": "stream",
     "text": [
      "4.0\n",
      "Beni kimse durduramaz. Her halikarda çalışırım ben\n"
     ]
    }
   ],
   "source": [
    "x = input(\"Bir sayı girin\") # sekiz\n",
    "y = input(\"Bir sayı daha girin\") # 2\n",
    "\n",
    "try:\n",
    "    a = int(x) / int(y)\n",
    "except ValueError:\n",
    "    print(\"Bu yazıyı görüyorsanız sayıyı int formatında girmemişsiniz demektir.\")\n",
    "except ZeroDivisionError:\n",
    "    print(\"Bu yazıyı görüyorsanız ikinci girdiğiniz sayı sıfırdır ve herhangi bir sayı sıfıra bölünemez.\")\n",
    "else:\n",
    "    print(a ** 2)\n",
    "finally:\n",
    "    print(\"Beni kimse durduramaz. Her halükarda çalışırım ben\")"
   ]
  },
  {
   "cell_type": "code",
   "execution_count": 42,
   "metadata": {},
   "outputs": [
    {
     "name": "stdout",
     "output_type": "stream",
     "text": [
      "16.0\n",
      "Beni kimse durduramaz. Her halükarda çalışırım ben\n"
     ]
    }
   ],
   "source": [
    "while True:    \n",
    "    x = input(\"Bir sayı girin\") # sekiz\n",
    "    y = input(\"Bir sayı daha girin\") # 2\n",
    "\n",
    "    try:\n",
    "        a = int(x) / int(y)\n",
    "    except ValueError:\n",
    "        print(\"Bu yazıyı görüyorsanız sayıyı int formatında girmemişsiniz demektir.\")\n",
    "    except ZeroDivisionError:\n",
    "        print(\"Bu yazıyı görüyorsanız ikinci girdiğiniz sayı sıfırdır ve herhangi bir sayı sıfıra bölünemez.\")\n",
    "    else:\n",
    "        print(a ** 2)\n",
    "        break\n",
    "    finally:\n",
    "        print(\"Beni kimse durduramaz. Her halükarda çalışırım ben\")"
   ]
  },
  {
   "cell_type": "code",
   "execution_count": 41,
   "metadata": {},
   "outputs": [
    {
     "name": "stdout",
     "output_type": "stream",
     "text": [
      "16.0\n",
      "Beni kimse durduramaz. Her halükarda çalışırım ben\n"
     ]
    },
    {
     "ename": "TypeError",
     "evalue": "unsupported operand type(s) for +: 'int' and 'str'",
     "output_type": "error",
     "traceback": [
      "\u001b[1;31m---------------------------------------------------------------------------\u001b[0m",
      "\u001b[1;31mTypeError\u001b[0m                                 Traceback (most recent call last)",
      "Cell \u001b[1;32mIn[41], line 16\u001b[0m\n\u001b[0;32m     14\u001b[0m \u001b[39mfinally\u001b[39;00m:\n\u001b[0;32m     15\u001b[0m     \u001b[39mprint\u001b[39m(\u001b[39m\"\u001b[39m\u001b[39mBeni kimse durduramaz. Her halükarda çalışırım ben\u001b[39m\u001b[39m\"\u001b[39m)\n\u001b[1;32m---> 16\u001b[0m     \u001b[39mprint\u001b[39m(\u001b[39m5\u001b[39;49m \u001b[39m+\u001b[39;49m \u001b[39m\"\u001b[39;49m\u001b[39m2\u001b[39;49m\u001b[39m\"\u001b[39;49m)\n",
      "\u001b[1;31mTypeError\u001b[0m: unsupported operand type(s) for +: 'int' and 'str'"
     ]
    }
   ],
   "source": [
    "while True:    \n",
    "    x = input(\"Bir sayı girin\") # sekiz\n",
    "    y = input(\"Bir sayı daha girin\") # 2\n",
    "\n",
    "    try:\n",
    "        a = int(x) / int(y)\n",
    "    except ValueError:\n",
    "        print(\"Bu yazıyı görüyorsanız sayıyı int formatında girmemişsiniz demektir.\")\n",
    "    except ZeroDivisionError:\n",
    "        print(\"Bu yazıyı görüyorsanız ikinci girdiğiniz sayı sıfırdır ve herhangi bir sayı sıfıra bölünemez.\")\n",
    "    else:\n",
    "        print(a ** 2)\n",
    "        break\n",
    "    finally:\n",
    "        print(\"Beni kimse durduramaz. Her halükarda çalışırım ben\")\n",
    "        print(5 + \"2\")"
   ]
  },
  {
   "attachments": {},
   "cell_type": "markdown",
   "metadata": {},
   "source": [
    "liste = [5, \"aa15\" , 15 , \"asdeddcds48\", 48 ] listenin içideki int elemanları döndüren try except li kodu yazın."
   ]
  },
  {
   "cell_type": "code",
   "execution_count": 44,
   "metadata": {},
   "outputs": [
    {
     "name": "stdout",
     "output_type": "stream",
     "text": [
      "[5, 15, 48]\n"
     ]
    }
   ],
   "source": [
    "liste = [5, \"aa15\" , 15 , \"asdeddcds48\", 48 ]\n",
    "new_list = []\n",
    "\n",
    "for i in liste:\n",
    "\n",
    "    try:\n",
    "\n",
    "        x = int(i)\n",
    "        new_list.append(x)\n",
    "    except:\n",
    "        continue\n",
    "\n",
    "print(new_list)"
   ]
  },
  {
   "cell_type": "code",
   "execution_count": 47,
   "metadata": {},
   "outputs": [
    {
     "ename": "ValueError",
     "evalue": "invalid literal for int() with base 10: 'aa15'",
     "output_type": "error",
     "traceback": [
      "\u001b[1;31m---------------------------------------------------------------------------\u001b[0m",
      "\u001b[1;31mValueError\u001b[0m                                Traceback (most recent call last)",
      "Cell \u001b[1;32mIn[47], line 1\u001b[0m\n\u001b[1;32m----> 1\u001b[0m \u001b[39mint\u001b[39;49m(\u001b[39m\"\u001b[39;49m\u001b[39maa15\u001b[39;49m\u001b[39m\"\u001b[39;49m)\n",
      "\u001b[1;31mValueError\u001b[0m: invalid literal for int() with base 10: 'aa15'"
     ]
    }
   ],
   "source": [
    "int(\"aa15\")"
   ]
  },
  {
   "cell_type": "code",
   "execution_count": 45,
   "metadata": {},
   "outputs": [
    {
     "name": "stdout",
     "output_type": "stream",
     "text": [
      "[5, 15, 48]\n"
     ]
    }
   ],
   "source": [
    "liste = [5, \"aa15\" , 15 , \"asdeddcds48\", 48 ]\n",
    "new_list = []\n",
    "\n",
    "for i in liste:\n",
    "\n",
    "    try:\n",
    "        x = int(i)\n",
    "    except:\n",
    "        continue\n",
    "    else:\n",
    "        new_list.append(x)\n",
    "\n",
    "print(new_list)"
   ]
  },
  {
   "cell_type": "code",
   "execution_count": 46,
   "metadata": {},
   "outputs": [
    {
     "name": "stdout",
     "output_type": "stream",
     "text": [
      "hata: invalid literal for int() with base 10: 'aa15'\n",
      "hata: invalid literal for int() with base 10: 'asdeddcds48'\n",
      "[5, 15, 48]\n"
     ]
    }
   ],
   "source": [
    "liste = [5, \"aa15\" , 15 , \"asdeddcds48\", 48 ]\n",
    "new_list = []\n",
    "\n",
    "for i in liste:\n",
    "\n",
    "    try:\n",
    "        x = int(i)\n",
    "    except Exception as hata:\n",
    "        print(f\"hata: {hata}\")\n",
    "        continue\n",
    "    else:\n",
    "        new_list.append(x)\n",
    "\n",
    "print(new_list)"
   ]
  },
  {
   "cell_type": "code",
   "execution_count": 57,
   "metadata": {},
   "outputs": [],
   "source": [
    "def fact_for(x): # 5 * 4 * 3 * 2 * 1\n",
    "    \n",
    "    çarpım_değeri = 1\n",
    "    for i in range(x,0,-1):\n",
    "        çarpım_değeri *= i\n",
    "    return çarpım_değeri"
   ]
  },
  {
   "cell_type": "code",
   "execution_count": 58,
   "metadata": {},
   "outputs": [
    {
     "data": {
      "text/plain": [
       "120"
      ]
     },
     "execution_count": 58,
     "metadata": {},
     "output_type": "execute_result"
    }
   ],
   "source": [
    "fact_for(5)"
   ]
  },
  {
   "cell_type": "code",
   "execution_count": 59,
   "metadata": {},
   "outputs": [
    {
     "data": {
      "text/plain": [
       "1"
      ]
     },
     "execution_count": 59,
     "metadata": {},
     "output_type": "execute_result"
    }
   ],
   "source": [
    "fact_for(-2)"
   ]
  },
  {
   "cell_type": "code",
   "execution_count": 53,
   "metadata": {},
   "outputs": [],
   "source": [
    "def fact_for_2(x):\n",
    "    assert x >= 0, \"Negatif sayıların faktöriyel değeri aranmaz\"\n",
    "    çarpım_değeri = 1\n",
    "    for i in range(x,0,-1):\n",
    "        çarpım_değeri *= i\n",
    "    return çarpım_değeri"
   ]
  },
  {
   "cell_type": "code",
   "execution_count": 55,
   "metadata": {},
   "outputs": [
    {
     "data": {
      "text/plain": [
       "120"
      ]
     },
     "execution_count": 55,
     "metadata": {},
     "output_type": "execute_result"
    }
   ],
   "source": [
    "fact_for_2(5)"
   ]
  },
  {
   "cell_type": "code",
   "execution_count": 56,
   "metadata": {},
   "outputs": [
    {
     "ename": "AssertionError",
     "evalue": "Negatif sayıların faktöriyel değeri aranmaz",
     "output_type": "error",
     "traceback": [
      "\u001b[1;31m---------------------------------------------------------------------------\u001b[0m",
      "\u001b[1;31mAssertionError\u001b[0m                            Traceback (most recent call last)",
      "Cell \u001b[1;32mIn[56], line 1\u001b[0m\n\u001b[1;32m----> 1\u001b[0m fact_for_2(\u001b[39m-\u001b[39;49m\u001b[39m5\u001b[39;49m)\n",
      "Cell \u001b[1;32mIn[53], line 2\u001b[0m, in \u001b[0;36mfact_for_2\u001b[1;34m(x)\u001b[0m\n\u001b[0;32m      1\u001b[0m \u001b[39mdef\u001b[39;00m \u001b[39mfact_for_2\u001b[39m(x):\n\u001b[1;32m----> 2\u001b[0m     \u001b[39massert\u001b[39;00m x \u001b[39m>\u001b[39m\u001b[39m=\u001b[39m\u001b[39m0\u001b[39m, \u001b[39m\"\u001b[39m\u001b[39mNegatif sayıların faktöriyel değeri aranmaz\u001b[39m\u001b[39m\"\u001b[39m\n\u001b[0;32m      3\u001b[0m     çarpım_değeri \u001b[39m=\u001b[39m \u001b[39m1\u001b[39m\n\u001b[0;32m      4\u001b[0m     \u001b[39mfor\u001b[39;00m i \u001b[39min\u001b[39;00m \u001b[39mrange\u001b[39m(x,\u001b[39m0\u001b[39m,\u001b[39m-\u001b[39m\u001b[39m1\u001b[39m):\n",
      "\u001b[1;31mAssertionError\u001b[0m: Negatif sayıların faktöriyel değeri aranmaz"
     ]
    }
   ],
   "source": [
    "fact_for_2(-5)"
   ]
  },
  {
   "attachments": {},
   "cell_type": "markdown",
   "metadata": {},
   "source": [
    "# Taş, Kağıt, Makas"
   ]
  },
  {
   "attachments": {},
   "cell_type": "markdown",
   "metadata": {},
   "source": [
    "taş makası kırar\n",
    "makas kağıdı keser\n",
    "kağıt taşı sarar"
   ]
  },
  {
   "cell_type": "code",
   "execution_count": null,
   "metadata": {},
   "outputs": [],
   "source": []
  },
  {
   "cell_type": "code",
   "execution_count": null,
   "metadata": {},
   "outputs": [],
   "source": []
  },
  {
   "cell_type": "code",
   "execution_count": 87,
   "metadata": {},
   "outputs": [
    {
     "name": "stdout",
     "output_type": "stream",
     "text": [
      "bilgisayar kazandı\n",
      "kazanan yok durum berabere\n",
      "kazanan yok durum berabere\n",
      "kazanan yok durum berabere\n",
      "bilgisayar kazandı\n",
      "bilgisayar kazandı\n",
      "bilgisayar kazandı\n",
      "bilgisayar kazandı\n",
      "bilgisayar kazandı\n",
      "kazanan yok durum berabere\n",
      "bilgisayar kazandı\n",
      "bilgisayar kazandı\n",
      "kazanan yok durum berabere\n",
      "kazanan yok durum berabere\n",
      "şahsım kazandı\n",
      "Game Over\n",
      "15 kerede ben 1 kere kazandım\n"
     ]
    }
   ],
   "source": [
    "import random\n",
    "import time\n",
    "x = input(\"Taş, Kağıt, Makas oyunu oynamak ister misin?(evet veya hayır)\").lower()\n",
    "\n",
    "pc_listesi = [\"taş\", \"kağıt\", \"makas\"]\n",
    "pc_counter = 0\n",
    "şahsım = 0\n",
    "berabere = 0\n",
    "while x == \"evet\":\n",
    "    \n",
    "    pc = pc_listesi[random.randint(0,2)]\n",
    "\n",
    "    ben = input(\"Taş, Kağıt yada Makas tan birini yaz\").lower()\n",
    "\n",
    "    if (pc == \"taş\" and ben == \"makas\") or (pc == \"makas\" and ben == \"kağıt\") or (pc == \"kağıt\" and ben == \"taş\"):\n",
    "\n",
    "        kazanan = \"bilgisayar kazandı\"\n",
    "        pc_counter += 1\n",
    "\n",
    "    elif (pc == \"taş\" and ben == \"kağıt\") or (pc == \"makas\" and ben == \"taş\" ) or (pc == \"kağıt\" and ben == \"makas\"):\n",
    "\n",
    "        kazanan = \"şahsım kazandı\"\n",
    "        şahsım += 1\n",
    "\n",
    "    elif (pc == \"taş\" and ben == \"taş\") or (pc == \"makas\" and ben == \"makas\" ) or (pc == \"kağıt\" and ben == \"kağıt\"):\n",
    "\n",
    "        kazanan = \"kazanan yok durum berabere\"\n",
    "        berabere += 1\n",
    "    else:\n",
    "        kazanan = \"hatalı giriş yaptın\"\n",
    "\n",
    "    time.sleep(2)\n",
    "\n",
    "    print(kazanan)\n",
    "\n",
    "    time.sleep(1)\n",
    "\n",
    "    x = input(\"Taş, Kağıt, Makas oyunu oynamaya devam etmek ister misin?(evet veya hayır)\").lower()\n",
    "\n",
    "print(\"Game Over\")\n",
    "print(f\"{pc_counter + şahsım + berabere} kerede ben {şahsım} kere kazandım\")"
   ]
  },
  {
   "cell_type": "code",
   "execution_count": 60,
   "metadata": {},
   "outputs": [],
   "source": [
    "import random"
   ]
  },
  {
   "cell_type": "code",
   "execution_count": 80,
   "metadata": {},
   "outputs": [
    {
     "data": {
      "text/plain": [
       "2"
      ]
     },
     "execution_count": 80,
     "metadata": {},
     "output_type": "execute_result"
    }
   ],
   "source": [
    "random.randint(0,2)"
   ]
  },
  {
   "cell_type": "code",
   "execution_count": null,
   "metadata": {},
   "outputs": [],
   "source": []
  },
  {
   "cell_type": "code",
   "execution_count": null,
   "metadata": {},
   "outputs": [],
   "source": []
  },
  {
   "cell_type": "code",
   "execution_count": null,
   "metadata": {},
   "outputs": [],
   "source": []
  },
  {
   "cell_type": "code",
   "execution_count": null,
   "metadata": {},
   "outputs": [],
   "source": []
  },
  {
   "cell_type": "code",
   "execution_count": null,
   "metadata": {},
   "outputs": [],
   "source": []
  },
  {
   "cell_type": "code",
   "execution_count": null,
   "metadata": {},
   "outputs": [],
   "source": []
  },
  {
   "cell_type": "code",
   "execution_count": null,
   "metadata": {},
   "outputs": [],
   "source": []
  },
  {
   "cell_type": "code",
   "execution_count": null,
   "metadata": {},
   "outputs": [],
   "source": []
  },
  {
   "cell_type": "code",
   "execution_count": null,
   "metadata": {},
   "outputs": [],
   "source": []
  }
 ],
 "metadata": {
  "kernelspec": {
   "display_name": "base",
   "language": "python",
   "name": "python3"
  },
  "language_info": {
   "codemirror_mode": {
    "name": "ipython",
    "version": 3
   },
   "file_extension": ".py",
   "mimetype": "text/x-python",
   "name": "python",
   "nbconvert_exporter": "python",
   "pygments_lexer": "ipython3",
   "version": "3.10.9"
  },
  "orig_nbformat": 4
 },
 "nbformat": 4,
 "nbformat_minor": 2
}
