{
 "cells": [
  {
   "attachments": {},
   "cell_type": "markdown",
   "metadata": {},
   "source": [
    "# File Management"
   ]
  },
  {
   "attachments": {},
   "cell_type": "markdown",
   "metadata": {},
   "source": [
    "open()\n",
    "open(dosya_adi, dosya_erisme_modu)\n",
    "dosya_erisme_modu = dosyayı hangi amaçla açtığıızı belirtir."
   ]
  },
  {
   "attachments": {},
   "cell_type": "markdown",
   "metadata": {},
   "source": [
    "'w': (Write) yazma modu.\n",
    "1. Dosyayı oluşturur.\n",
    "2. Dosya mevcutsa içeriğini siler ve yeni oluşturulacakları yazar."
   ]
  },
  {
   "cell_type": "code",
   "execution_count": 1,
   "metadata": {},
   "outputs": [
    {
     "data": {
      "text/plain": [
       "<_io.TextIOWrapper name='newfile.txt' mode='w' encoding='cp1254'>"
      ]
     },
     "execution_count": 1,
     "metadata": {},
     "output_type": "execute_result"
    }
   ],
   "source": [
    "open(\"newfile.txt\", \"w\")"
   ]
  },
  {
   "cell_type": "code",
   "execution_count": 2,
   "metadata": {},
   "outputs": [
    {
     "name": "stdout",
     "output_type": "stream",
     "text": [
      "<_io.TextIOWrapper name='newfile.txt' mode='w' encoding='cp1254'>\n"
     ]
    }
   ],
   "source": [
    "result = open(\"newfile.txt\", \"w\")\n",
    "\n",
    "print(result)"
   ]
  },
  {
   "cell_type": "code",
   "execution_count": 3,
   "metadata": {},
   "outputs": [
    {
     "data": {
      "text/plain": [
       "'c:\\\\Users\\\\omer_\\\\Desktop\\\\Advanced Python'"
      ]
     },
     "execution_count": 3,
     "metadata": {},
     "output_type": "execute_result"
    }
   ],
   "source": [
    "pwd"
   ]
  },
  {
   "cell_type": "code",
   "execution_count": 6,
   "metadata": {},
   "outputs": [
    {
     "name": "stdout",
     "output_type": "stream",
     "text": [
      "<_io.TextIOWrapper name='c:/Users/omer_/Desktop/newfile.txt' mode='w' encoding='cp1254'>\n"
     ]
    }
   ],
   "source": [
    "file = open(\"c:/Users/omer_/Desktop/newfile.txt\", \"w\")\n",
    "print(file)"
   ]
  },
  {
   "cell_type": "code",
   "execution_count": 8,
   "metadata": {},
   "outputs": [
    {
     "name": "stdout",
     "output_type": "stream",
     "text": [
      "<_io.TextIOWrapper name='C:\\\\Users\\\\omer_\\\\Desktop\\\\newfile2.txt' mode='w' encoding='cp1254'>\n"
     ]
    }
   ],
   "source": [
    "file = open(r\"C:\\Users\\omer_\\Desktop\\newfile2.txt\", \"w\")\n",
    "print(file)"
   ]
  },
  {
   "cell_type": "code",
   "execution_count": 9,
   "metadata": {},
   "outputs": [
    {
     "name": "stdout",
     "output_type": "stream",
     "text": [
      "<_io.TextIOWrapper name='c:\\\\Users\\\\omer_\\\\Desktop\\\\newfile3.txt' mode='w' encoding='cp1254'>\n"
     ]
    }
   ],
   "source": [
    "file = open(\"c:\\\\Users\\\\omer_\\\\Desktop\\\\newfile3.txt\", \"w\")\n",
    "print(file)"
   ]
  },
  {
   "cell_type": "code",
   "execution_count": 10,
   "metadata": {},
   "outputs": [],
   "source": [
    "file = open(\"c:\\\\Users\\\\omer_\\\\Desktop\\\\newfile4.txt\", \"w\")"
   ]
  },
  {
   "cell_type": "code",
   "execution_count": 14,
   "metadata": {},
   "outputs": [
    {
     "name": "stdout",
     "output_type": "stream",
     "text": [
      "<_io.TextIOWrapper name='newfile.txt' mode='w' encoding='utf-8'>\n"
     ]
    }
   ],
   "source": [
    "file = open(\"newfile.txt\", \"w\", encoding=\"utf-8\")\n",
    "file.write(\"Ahmet Külyutmaz\")\n",
    "print(file)\n",
    "file.close()"
   ]
  },
  {
   "attachments": {},
   "cell_type": "markdown",
   "metadata": {},
   "source": [
    "\"a\":(Append) ekleme. Dosya konumda yoksa oluşturur. Var olan dosyanın sonuna yazar."
   ]
  },
  {
   "cell_type": "code",
   "execution_count": 15,
   "metadata": {},
   "outputs": [],
   "source": [
    "file = open(\"newfile.txt\", \"a\", encoding=\"utf-8\")\n",
    "file.write(\"\\nFatma Külyutmaz\\n\")\n",
    "file.close()"
   ]
  },
  {
   "attachments": {},
   "cell_type": "markdown",
   "metadata": {},
   "source": [
    "'x': (Create) oluşturma. Dosya varsa hata verir"
   ]
  },
  {
   "cell_type": "code",
   "execution_count": 35,
   "metadata": {},
   "outputs": [
    {
     "ename": "UnsupportedOperation",
     "evalue": "not readable",
     "output_type": "error",
     "traceback": [
      "\u001b[1;31m---------------------------------------------------------------------------\u001b[0m",
      "\u001b[1;31mUnsupportedOperation\u001b[0m                      Traceback (most recent call last)",
      "Cell \u001b[1;32mIn[35], line 3\u001b[0m\n\u001b[0;32m      1\u001b[0m file \u001b[39m=\u001b[39m \u001b[39mopen\u001b[39m(\u001b[39m\"\u001b[39m\u001b[39mnewfile3.txt\u001b[39m\u001b[39m\"\u001b[39m, \u001b[39m\"\u001b[39m\u001b[39mx\u001b[39m\u001b[39m\"\u001b[39m, encoding\u001b[39m=\u001b[39m\u001b[39m\"\u001b[39m\u001b[39mutf-8\u001b[39m\u001b[39m\"\u001b[39m)\n\u001b[0;32m      2\u001b[0m file\u001b[39m.\u001b[39mwrite(\u001b[39m\"\u001b[39m\u001b[39mNalan Külyutmaz\u001b[39m\u001b[39m\\n\u001b[39;00m\u001b[39m\"\u001b[39m)\n\u001b[1;32m----> 3\u001b[0m sonuc \u001b[39m=\u001b[39m file\u001b[39m.\u001b[39;49mread()\n\u001b[0;32m      4\u001b[0m \u001b[39mprint\u001b[39m(sonuc)\n\u001b[0;32m      5\u001b[0m file\u001b[39m.\u001b[39mclose()\n",
      "\u001b[1;31mUnsupportedOperation\u001b[0m: not readable"
     ]
    }
   ],
   "source": [
    "file = open(\"newfile3.txt\", \"x\", encoding=\"utf-8\")\n",
    "file.write(\"Nalan Külyutmaz\\n\")\n",
    "file.close()"
   ]
  },
  {
   "attachments": {},
   "cell_type": "markdown",
   "metadata": {},
   "source": [
    "'r':(Read) okuma. dosya konumda yoksa hata verir."
   ]
  },
  {
   "cell_type": "code",
   "execution_count": 19,
   "metadata": {},
   "outputs": [
    {
     "name": "stdout",
     "output_type": "stream",
     "text": [
      "<_io.TextIOWrapper name='newfile.txt' mode='r' encoding='cp1254'>\n"
     ]
    }
   ],
   "source": [
    "file = open(\"newfile.txt\")\n",
    "\n",
    "print(file)\n",
    "\n",
    "file.close()"
   ]
  },
  {
   "cell_type": "code",
   "execution_count": 20,
   "metadata": {},
   "outputs": [
    {
     "name": "stdout",
     "output_type": "stream",
     "text": [
      "<_io.TextIOWrapper name='newfile.txt' mode='r' encoding='cp1254'>\n"
     ]
    }
   ],
   "source": [
    "file = open(\"newfile.txt\", \"r\")\n",
    "\n",
    "print(file)\n",
    "\n",
    "file.close()"
   ]
  },
  {
   "cell_type": "code",
   "execution_count": 23,
   "metadata": {},
   "outputs": [
    {
     "name": "stdout",
     "output_type": "stream",
     "text": [
      "<_io.TextIOWrapper name='newfile.txt' mode='r' encoding='cp1254'>\n",
      "dosya kapandı\n"
     ]
    }
   ],
   "source": [
    "try:\n",
    "    file = open(\"newfile.txt\", \"r\")\n",
    "    print(file)\n",
    "except FileNotFoundError:\n",
    "    print(\"dosya okuma hatası\")\n",
    "finally:\n",
    "    print(\"dosya kapandı\")\n",
    "    file.close()"
   ]
  },
  {
   "cell_type": "code",
   "execution_count": 24,
   "metadata": {},
   "outputs": [
    {
     "name": "stdout",
     "output_type": "stream",
     "text": [
      "Ahmet Külyutmaz\n",
      "\n",
      "Fatma Külyutmaz\n",
      "\n"
     ]
    }
   ],
   "source": [
    "file = open(\"newfile.txt\", \"r\", encoding=\"utf-8\")\n",
    "\n",
    "for i in file:\n",
    "    print(i, end=\"\\n\")\n",
    "\n",
    "file.close()"
   ]
  },
  {
   "cell_type": "code",
   "execution_count": 25,
   "metadata": {},
   "outputs": [
    {
     "name": "stdout",
     "output_type": "stream",
     "text": [
      "Ahmet Külyutmaz\n",
      "Fatma Külyutmaz\n",
      "\n"
     ]
    }
   ],
   "source": [
    "file = open(\"newfile.txt\", \"r\", encoding=\"utf-8\")\n",
    "\n",
    "content = file.read()\n",
    "print(content)\n",
    "\n",
    "file.close()"
   ]
  },
  {
   "cell_type": "code",
   "execution_count": 32,
   "metadata": {},
   "outputs": [
    {
     "name": "stdout",
     "output_type": "stream",
     "text": [
      "içerik1\n",
      "Ahmet Külyutmaz\n",
      "Fatma Külyutmaz\n",
      "\n",
      "içerik2\n",
      "Ahmet Külyutmaz\n",
      "Fatma Külyutmaz\n",
      "\n"
     ]
    }
   ],
   "source": [
    "file = open(\"newfile.txt\", \"r\", encoding=\"utf-8\")\n",
    "\n",
    "content1 = file.read()\n",
    "print(\"içerik1\")\n",
    "print(content1)\n",
    "\n",
    "file = open(\"newfile.txt\", \"r\", encoding=\"utf-8\")\n",
    "content2 = file.read()\n",
    "print(\"içerik2\")\n",
    "print(content2)\n",
    "\n",
    "file.close()"
   ]
  },
  {
   "cell_type": "code",
   "execution_count": 28,
   "metadata": {},
   "outputs": [
    {
     "name": "stdout",
     "output_type": "stream",
     "text": [
      "içerik1\n",
      "Ahmet Külyutmaz\n",
      "Fatma Külyutmaz\n",
      "\n",
      "içerik2\n",
      "Ahmet Külyutmaz\n",
      "Fatma Külyutmaz\n",
      "\n"
     ]
    }
   ],
   "source": [
    "file = open(\"newfile.txt\", \"r\", encoding=\"utf-8\")\n",
    "\n",
    "content1 = file.read()\n",
    "print(\"içerik1\")\n",
    "print(content1)\n",
    "file.seek(0)\n",
    "content2 = file.read()\n",
    "print(\"içerik2\")\n",
    "print(content2)\n",
    "\n",
    "file.close()"
   ]
  },
  {
   "cell_type": "code",
   "execution_count": 33,
   "metadata": {},
   "outputs": [
    {
     "name": "stdout",
     "output_type": "stream",
     "text": [
      "içerik1\n",
      "Ahmet Külyutmaz\n",
      "Fatma Külyutmaz\n",
      "\n"
     ]
    },
    {
     "ename": "UnsupportedOperation",
     "evalue": "not writable",
     "output_type": "error",
     "traceback": [
      "\u001b[1;31m---------------------------------------------------------------------------\u001b[0m",
      "\u001b[1;31mUnsupportedOperation\u001b[0m                      Traceback (most recent call last)",
      "Cell \u001b[1;32mIn[33], line 7\u001b[0m\n\u001b[0;32m      5\u001b[0m \u001b[39mprint\u001b[39m(content1)\n\u001b[0;32m      6\u001b[0m file\u001b[39m.\u001b[39mseek(\u001b[39m16\u001b[39m)\n\u001b[1;32m----> 7\u001b[0m file\u001b[39m.\u001b[39;49mwrite(\u001b[39m\"\u001b[39;49m\u001b[39mdeneme\u001b[39;49m\u001b[39m\"\u001b[39;49m)\n\u001b[0;32m      8\u001b[0m content2 \u001b[39m=\u001b[39m file\u001b[39m.\u001b[39mread()\n\u001b[0;32m      9\u001b[0m \u001b[39mprint\u001b[39m(\u001b[39m\"\u001b[39m\u001b[39miçerik2\u001b[39m\u001b[39m\"\u001b[39m)\n",
      "\u001b[1;31mUnsupportedOperation\u001b[0m: not writable"
     ]
    }
   ],
   "source": [
    "file = open(\"newfile.txt\", \"r\", encoding=\"utf-8\")\n",
    "\n",
    "content1 = file.read()\n",
    "print(\"içerik1\")\n",
    "print(content1)\n",
    "file.seek(16)\n",
    "file.write(\"deneme\")\n",
    "content2 = file.read()\n",
    "print(\"içerik2\")\n",
    "print(content2)\n",
    "\n",
    "file.close()"
   ]
  },
  {
   "cell_type": "code",
   "execution_count": 36,
   "metadata": {},
   "outputs": [
    {
     "ename": "UnsupportedOperation",
     "evalue": "not readable",
     "output_type": "error",
     "traceback": [
      "\u001b[1;31m---------------------------------------------------------------------------\u001b[0m",
      "\u001b[1;31mUnsupportedOperation\u001b[0m                      Traceback (most recent call last)",
      "Cell \u001b[1;32mIn[36], line 3\u001b[0m\n\u001b[0;32m      1\u001b[0m file \u001b[39m=\u001b[39m \u001b[39mopen\u001b[39m(\u001b[39m\"\u001b[39m\u001b[39mnewfile3.txt\u001b[39m\u001b[39m\"\u001b[39m, \u001b[39m\"\u001b[39m\u001b[39ma\u001b[39m\u001b[39m\"\u001b[39m, encoding\u001b[39m=\u001b[39m\u001b[39m\"\u001b[39m\u001b[39mutf-8\u001b[39m\u001b[39m\"\u001b[39m)\n\u001b[0;32m      2\u001b[0m file\u001b[39m.\u001b[39mwrite(\u001b[39m\"\u001b[39m\u001b[39mPelin Külyutmaz\u001b[39m\u001b[39m\\n\u001b[39;00m\u001b[39m\"\u001b[39m)\n\u001b[1;32m----> 3\u001b[0m sonuc \u001b[39m=\u001b[39m file\u001b[39m.\u001b[39;49mread()\n\u001b[0;32m      4\u001b[0m \u001b[39mprint\u001b[39m(sonuc)\n\u001b[0;32m      5\u001b[0m file\u001b[39m.\u001b[39mclose()\n",
      "\u001b[1;31mUnsupportedOperation\u001b[0m: not readable"
     ]
    }
   ],
   "source": [
    "file = open(\"newfile3.txt\", \"a\", encoding=\"utf-8\")\n",
    "file.write(\"Pelin Külyutmaz\\n\")\n",
    "sonuc = file.read()\n",
    "print(sonuc)\n",
    "file.close()"
   ]
  },
  {
   "cell_type": "code",
   "execution_count": 40,
   "metadata": {},
   "outputs": [
    {
     "name": "stdout",
     "output_type": "stream",
     "text": [
      "Ahmet\n",
      " Kü\n",
      "lyutmaz\n"
     ]
    }
   ],
   "source": [
    "file = open(\"newfile.txt\", \"r\", encoding=\"utf-8\")\n",
    "\n",
    "content = file.read(5) # '5' kaç byte lık veri okuyor onu gösterir\n",
    "content2 = file.read(3)\n",
    "content3 = file.read(7)\n",
    "\n",
    "print(content)\n",
    "print(content2)\n",
    "print(content3)\n",
    "\n",
    "file.close()"
   ]
  },
  {
   "attachments": {},
   "cell_type": "markdown",
   "metadata": {},
   "source": [
    "***** readline() *****"
   ]
  },
  {
   "cell_type": "code",
   "execution_count": 46,
   "metadata": {},
   "outputs": [
    {
     "name": "stdout",
     "output_type": "stream",
     "text": [
      "Ahmet Külyutmaz\n",
      "Fatma Külyutmaz\n",
      "\n",
      "\n",
      "\n",
      "\n"
     ]
    }
   ],
   "source": [
    "file = open(\"newfile.txt\", \"r\", encoding=\"utf-8\")\n",
    "\n",
    "print(file.readline(), end=\"\")\n",
    "print(file.readline(), end=\"\")\n",
    "print(file.readline())\n",
    "print(file.readline())\n",
    "print(file.readline())\n",
    "print(file.readline())\n",
    "\n",
    "\n",
    "file.close()"
   ]
  },
  {
   "attachments": {},
   "cell_type": "markdown",
   "metadata": {},
   "source": [
    "***** readlines() *****"
   ]
  },
  {
   "cell_type": "code",
   "execution_count": 51,
   "metadata": {},
   "outputs": [
    {
     "name": "stdout",
     "output_type": "stream",
     "text": [
      "['Ahmet Külyutmaz\\n', 'Fatma Külyutmaz\\n']\n"
     ]
    }
   ],
   "source": [
    "file = open(\"newfile.txt\", \"r\", encoding=\"utf-8\")\n",
    "\n",
    "liste = file.readlines()\n",
    "\n",
    "print(liste)\n",
    "\n",
    "file.close()"
   ]
  },
  {
   "cell_type": "code",
   "execution_count": 55,
   "metadata": {},
   "outputs": [],
   "source": [
    "file = open(\"neww.txt\", \"w\", encoding=\"utf-8\")\n",
    "file.write(\"\"\"\n",
    "Ağlasam sesimi duyar mısınız,\n",
    "Mısralarımda;\n",
    "Dokunabilir misiniz,\n",
    "Göz yaşlarıma, ellerinizle?\n",
    "\n",
    "Bilmezdim şarkıların bu kadar güzel,\n",
    "Kelimelerinse kifayetsiz olduğunu\n",
    "Bu derde düşmeden önce.\n",
    "\n",
    "Bir yer var, biliyorum;\n",
    "Her şeyi söylemek mümkün;\n",
    "Epeyce yaklaşmışım, duyuyorum;\n",
    "Anlatamıyorum.\n",
    "\"\"\")\n",
    "\n",
    "file.close()"
   ]
  },
  {
   "cell_type": "code",
   "execution_count": 56,
   "metadata": {},
   "outputs": [
    {
     "name": "stdout",
     "output_type": "stream",
     "text": [
      "\n",
      "Ağlasam sesimi duyar mısınız,\n",
      "Mısralarımda;\n",
      "Dokunabilir misiniz,\n",
      "Göz yaşlarıma, ellerinizle?\n",
      "\n",
      "Bilmezdim şarkıların bu kadar güzel,\n",
      "Kelimelerinse kifayetsiz olduğunu\n",
      "Bu derde düşmeden önce.\n",
      "\n",
      "Bir yer var, biliyorum;\n",
      "Her şeyi söylemek mümkün;\n",
      "Epeyce yaklaşmışım, duyuyorum;\n",
      "Anlatamıyorum.\n",
      "\n"
     ]
    }
   ],
   "source": [
    "file = open(\"neww.txt\", \"r\", encoding=\"utf-8\")\n",
    "content = file.read()\n",
    "print(content)\n",
    "\n",
    "file.close()\n"
   ]
  },
  {
   "cell_type": "code",
   "execution_count": 57,
   "metadata": {},
   "outputs": [
    {
     "name": "stdout",
     "output_type": "stream",
     "text": [
      "\n",
      "Ağlasam sesimi duyar mısınız,\n",
      "Mısralarımda;\n",
      "Dokunabilir misiniz,\n",
      "Göz yaşlarıma, ellerinizle?\n",
      "\n",
      "Bilme\n",
      "0\n",
      "\n",
      "Ağlasam sesimi duyar mısınız,\n",
      "Mısralarımda;\n",
      "Dokunabilir misiniz,\n",
      "Göz yaşlarıma, ellerinizle?\n",
      "\n",
      "Bilmezdim şarkıların bu kadar güzel,\n",
      "Kelimelerinse kifayetsiz olduğunu\n",
      "Bu derde düşmeden önce.\n",
      "\n",
      "Bir yer v\n",
      "227\n"
     ]
    }
   ],
   "source": [
    "with open(\"neww.txt\", \"r\", encoding=\"utf-8\") as file:\n",
    "    content = file.read(100)\n",
    "    print(content)\n",
    "    file.seek(0)\n",
    "    print(file.tell())\n",
    "    content2 = file.read(200)\n",
    "    print(content2)\n",
    "    print(file.tell())"
   ]
  },
  {
   "cell_type": "code",
   "execution_count": 58,
   "metadata": {},
   "outputs": [],
   "source": [
    "with open(\"newnew.txt\", \"w\", encoding=\"utf-8\") as file:\n",
    "    file.write(\"\"\"\n",
    "        Milyon Kere Ayten\n",
    " \n",
    "    Ben bir Aytendir tutturmuşum  oh ne iyi\n",
    "    Aytenli içkiler içip sarhoş oluyorum, ne güzel! \n",
    "    Hoşuma gitmiyorsa rengi denizlerin, \n",
    "    Biraz Ayten sürüyorum, güzelleşiyor. \n",
    "    Şarkılar söylüyorum, \n",
    "    Şiirler yazıyorum Ayten üstüne. \n",
    "    Saatim her zaman Aytene beş var \n",
    "    Ya da Ayteni beş geçiyor. \n",
    "    Ne yana baksam gördüğüm o, \n",
    "    Gözümü yumsam aklımdan Ayten geçiyor.\n",
    "\n",
    "    Bana sorarsanız mevsimlerden Aytendeyiz, \n",
    "    Günlerden Aytenertesidir. \n",
    "    Odur gün gün beni yaşatan. \n",
    "    Onun kokusu sarmıştır sokakları, \n",
    "    Onun gözleridir şafakta gördüğüm\n",
    "    Akşam kızıllığında onun dudakları.\n",
    "    \n",
    "    Başka kadını övmeyin yanımda, gücenirim. \n",
    "    Ayteni övecekseniz ne alâ, oturabilirsiniz.\n",
    "    Bir kadeh de sizinle içeriz, Aytenli\n",
    "    İki laf ederiz. \n",
    "    Onu siz de seversiniz benim gibi.\n",
    "\n",
    "    Ama yağma yok Ayteni size bırakmam. \n",
    "    Alın tek kat elbisemi size vereyim, \n",
    "    Cebimde bir on liram var \n",
    "    Onu da alın gerekirse. \n",
    "    Ben Ayteni düşünürüm, üşümem. \n",
    "    Üç kere adını tekrarlarım, karnım doyar. \n",
    "    Parasızlık da bir şey mi? \n",
    "    Ölüm bile kötü değil Aytensizlik kadar. \n",
    "\n",
    "    Ona uğramayan gemiler batsın, \n",
    "    Ondan geçmeyen trenler devrilsin, \n",
    "    Onu sevmeyen yürek taş kesilsin, \n",
    "    Kapansın onu görmeyen gözler, \n",
    "    Onu övmeyen diller kurusun. \n",
    "    İki kere iki dört, elde var Ayten. \n",
    "    Bundan böyle dünyada\n",
    "    Aşkın adı Ayten olsun.\n",
    "\n",
    "    Ümit Yaşar Oğuzcan\n",
    "\n",
    "    \n",
    "    \"\"\")"
   ]
  },
  {
   "attachments": {},
   "cell_type": "markdown",
   "metadata": {},
   "source": [
    "sayfa başında güncelleme"
   ]
  },
  {
   "cell_type": "code",
   "execution_count": 63,
   "metadata": {},
   "outputs": [
    {
     "name": "stdout",
     "output_type": "stream",
     "text": [
      "    Milyon Kere Ayten\n",
      " \n",
      "    Ben bir Aytendir tutturmuşum  oh ne iyi\n",
      "    Aytenli içkiler içip sarhoş oluyorum, ne güzel! \n",
      "    Hoşuma gitmiyorsa rengi denizlerin, \n",
      "    Biraz Ayten sürüyorum, güzelleşiyor. \n",
      "    Şarkılar söylüyorum, \n",
      "    Şiirler yazıyorum Ayten üstüne. \n",
      "    Saatim her zaman Aytene beşdeneme\n",
      "    Ya da Ayteni beş geçiyor. \n",
      "    Ne yana baksam gördüğüm o, \n",
      "    Gözümü yumsam aklımdan Ayten geçiyor.\n",
      "\n",
      "    Bana sorarsanız mevsimlerden Aytendeyiz, \n",
      "    Günlerden Aytenertesidir. \n",
      "    Odur gün gün beni yaşatan. \n",
      "    Onun kokusu sarmıştır sokakları, \n",
      "    Onun gözleridir şafakta gördüğüm\n",
      "    Akşam kızıllığında onun dudakları.\n",
      "    \n",
      "    Başka kadını övmeyin yanımda, gücenirim. \n",
      "    Ayteni övecekseniz ne alâ, oturabilirsiniz.\n",
      "    Bir kadeh de sizinle içeriz, Aytenli\n",
      "    İki laf ederiz. \n",
      "    Onu siz de seversiniz benim gibi.\n",
      "\n",
      "    Ama yağma yok Ayteni size bırakmam. \n",
      "    Alın tek kat elbisemi size vereyim, \n",
      "    Cebimde bir on liram var \n",
      "    Onu da alın gerekirse. \n",
      "    Ben Ayteni düşünürüm, üşümem. \n",
      "    Üç kere adını tekrarlarım, karnım doyar. \n",
      "    Parasızlık da bir şey mi? \n",
      "    Ölüm bile kötü değil Aytensizlik kadar. \n",
      "\n",
      "    Ona uğramayan gemiler batsın, \n",
      "    Ondan geçmeyen trenler devrilsin, \n",
      "    Onu sevmeyen yürek taş kesilsin, \n",
      "    Kapansın onu görmeyen gözler, \n",
      "    Onu övmeyen diller kurusun. \n",
      "    İki kere iki dört, elde var Ayten. \n",
      "    Bundan böyle dünyada\n",
      "    Aşkın adı Ayten olsun.\n",
      "\n",
      "    Ümit Yaşar Oğuzcan\n",
      "\n",
      "    \n",
      "    denemedeneme\n",
      "1603\n"
     ]
    }
   ],
   "source": [
    "with open(\"newnew.txt\", \"r+\", encoding=\"utf-8\") as file:\n",
    "    file.seek(1597)\n",
    "    file.write(\"deneme\")\n",
    "\n",
    "with open(\"newnew.txt\", \"r\", encoding=\"utf-8\") as file:\n",
    "    print(file.read())\n",
    "    print(file.tell())"
   ]
  },
  {
   "cell_type": "code",
   "execution_count": 64,
   "metadata": {},
   "outputs": [
    {
     "name": "stdout",
     "output_type": "stream",
     "text": [
      "    Milyon Kere Ayten\n",
      " \n",
      "    Ben bir Aytendir tutturmuşum  oh ne iyi\n",
      "    Aytenli içkiler içip sarhoş oluyorum, ne güzel! \n",
      "    Hoşuma gitmiyorsa rengi denizlerin, \n",
      "    Biraz Ayten sürüyorum, güzelleşiyor. \n",
      "    Şarkılar söylüyorum, \n",
      "    Şiirler yazıyorum Ayten üstüne. \n",
      "    Saatim her zaman Aytene beşdeneme\n",
      "    Ya da Ayteni beş geçiyor. \n",
      "    Ne yana baksam gördüğüm o, \n",
      "    Gözümü yumsam aklımdan Ayten geçiyor.\n",
      "\n",
      "    Bana sorarsanız mevsimlerden Aytendeyiz, \n",
      "    Günlerden Aytenertesidir. \n",
      "    Odur gün gün beni yaşatan. \n",
      "    Onun kokusu sarmıştır sokakları, \n",
      "    Onun gözleridir şafakta gördüğüm\n",
      "    Akşam kızıllığında onun dudakları.\n",
      "    \n",
      "    Başka kadını övmeyin yanımda, gücenirim. \n",
      "    Ayteni övecekseniz ne alâ, oturabilirsiniz.\n",
      "    Bir kadeh de sizinle içeriz, Aytenli\n",
      "    İki laf ederiz. \n",
      "    Onu siz de seversiniz benim gibi.\n",
      "\n",
      "    Ama yağma yok Ayteni size bırakmam. \n",
      "    Alın tek kat elbisemi size vereyim, \n",
      "    Cebimde bir on liram var \n",
      "    Onu da alın gerekirse. \n",
      "    Ben Ayteni düşünürüm, üşümem. \n",
      "    Üç kere adını tekrarlarım, karnım doyar. \n",
      "    Parasızlık da bir şey mi? \n",
      "    Ölüm bile kötü değil Aytensizlik kadar. \n",
      "\n",
      "    Ona uğramayan gemiler batsın, \n",
      "    Ondan geçmeyen trenler devrilsin, \n",
      "    Onu sevmeyen yürek taş kesilsin, \n",
      "    Kapansın onu görmeyen gözler, \n",
      "    Onu övmeyen diller kurusun. \n",
      "    İki kere iki dört, elde var Ayten. \n",
      "    Bundan böyle dünyada\n",
      "    Aşkın adı Ayten olsun.\n",
      "\n",
      "    Ümit Yaşar Oğuzcan\n",
      "\n",
      "    \n",
      "    denemedeneme\n",
      "Güzel Şiir\n"
     ]
    }
   ],
   "source": [
    "with open(\"newnew.txt\", \"a\", encoding=\"utf-8\") as dosya:\n",
    "    dosya.write(\"\\nGüzel Şiir\")\n",
    "\n",
    "with open(\"newnew.txt\", \"r\", encoding=\"utf-8\") as dosya:\n",
    "    print(dosya.read())"
   ]
  },
  {
   "cell_type": "code",
   "execution_count": 65,
   "metadata": {},
   "outputs": [
    {
     "name": "stdout",
     "output_type": "stream",
     "text": [
      "Ümit Yaşar Oğuzcan'a ait Güzel bir şiirle başlayalım\n",
      "\n",
      "    Milyon Kere Ayten\n",
      " \n",
      "    Ben bir Aytendir tutturmuşum  oh ne iyi\n",
      "    Aytenli içkiler içip sarhoş oluyorum, ne güzel! \n",
      "    Hoşuma gitmiyorsa rengi denizlerin, \n",
      "    Biraz Ayten sürüyorum, güzelleşiyor. \n",
      "    Şarkılar söylüyorum, \n",
      "    Şiirler yazıyorum Ayten üstüne. \n",
      "    Saatim her zaman Aytene beşdeneme\n",
      "    Ya da Ayteni beş geçiyor. \n",
      "    Ne yana baksam gördüğüm o, \n",
      "    Gözümü yumsam aklımdan Ayten geçiyor.\n",
      "\n",
      "    Bana sorarsanız mevsimlerden Aytendeyiz, \n",
      "    Günlerden Aytenertesidir. \n",
      "    Odur gün gün beni yaşatan. \n",
      "    Onun kokusu sarmıştır sokakları, \n",
      "    Onun gözleridir şafakta gördüğüm\n",
      "    Akşam kızıllığında onun dudakları.\n",
      "    \n",
      "    Başka kadını övmeyin yanımda, gücenirim. \n",
      "    Ayteni övecekseniz ne alâ, oturabilirsiniz.\n",
      "    Bir kadeh de sizinle içeriz, Aytenli\n",
      "    İki laf ederiz. \n",
      "    Onu siz de seversiniz benim gibi.\n",
      "\n",
      "    Ama yağma yok Ayteni size bırakmam. \n",
      "    Alın tek kat elbisemi size vereyim, \n",
      "    Cebimde bir on liram var \n",
      "    Onu da alın gerekirse. \n",
      "    Ben Ayteni düşünürüm, üşümem. \n",
      "    Üç kere adını tekrarlarım, karnım doyar. \n",
      "    Parasızlık da bir şey mi? \n",
      "    Ölüm bile kötü değil Aytensizlik kadar. \n",
      "\n",
      "    Ona uğramayan gemiler batsın, \n",
      "    Ondan geçmeyen trenler devrilsin, \n",
      "    Onu sevmeyen yürek taş kesilsin, \n",
      "    Kapansın onu görmeyen gözler, \n",
      "    Onu övmeyen diller kurusun. \n",
      "    İki kere iki dört, elde var Ayten. \n",
      "    Bundan böyle dünyada\n",
      "    Aşkın adı Ayten olsun.\n",
      "\n",
      "    Ümit Yaşar Oğuzcan\n",
      "\n",
      "    \n",
      "    denemedeneme\n",
      "Güzel Şiir\n"
     ]
    }
   ],
   "source": [
    "with open(\"newnew.txt\", \"r+\", encoding=\"utf-8\") as file:\n",
    "    content = file.read()\n",
    "    content = \"Ümit Yaşar Oğuzcan'a ait Güzel bir şiirle başlayalım\\n\\n\" + content\n",
    "    file.seek(0)\n",
    "    file.write(content)\n",
    "\n",
    "with open(\"newnew.txt\", \"r\", encoding=\"utf-8\") as file:\n",
    "    print(file.read())"
   ]
  },
  {
   "cell_type": "code",
   "execution_count": 69,
   "metadata": {},
   "outputs": [
    {
     "name": "stdout",
     "output_type": "stream",
     "text": [
      "Ümit Yaşar Oğuzcan'a ait Güzel bir şiirle başlayalım\n",
      "\n",
      "    Milyon Kere Ayten\n",
      " \n",
      "    Ben bir Aytendir tutturmuşum  oh ne iyi\n",
      "    Aytenli içkiler içip sarhoş oluyorum, ne güzel! \n",
      "    Hoşuma gitmiyorsa rengi denizlerin, \n",
      "    Biraz Ayten sürüyorum, güzelleşiyor. \n",
      "    Şarkılar söylüyorum, \n",
      "    Şiirler yazıyorum Ayten üstüne. \n",
      "    Saatim her zaman Aytene beşdeneme\n",
      "    Ya da Ayteni beş geçiyor. \n",
      "    Ne yana baksam gördüğüm o, \n",
      "    Gözümü yumsam aklımdan Ayten geçiyor.\n",
      "\n",
      "    Bana sorarsanız mevsimlerden Aytendeyiz, \n",
      "    Günlerden Aytenertesidir. \n",
      "    Odur gün gün beni yaşatan. \n",
      "    Onun kokusu sarmıştır sokakları, \n",
      "    Onun gözleridir şafakta gördüğüm\n",
      "    Akşam kızıllığında onun dudakları.\n",
      "    \n",
      "    Başka kadını övmeyin yanımda, gücenirim. \n",
      "    Ayteni övecekseniz ne alâ, oturabilirsiniz.\n",
      "    Bir kadeh de sizinle içeriz, Aytenli\n",
      "\n",
      "\n",
      "Sayfanın ortasına yazı yazdım\n",
      "\n",
      "    İki laf ederiz. \n",
      "    Onu siz de seversiniz benim gibi.\n",
      "\n",
      "    Ama yağma yok Ayteni size bırakmam. \n",
      "    Alın tek kat elbisemi size vereyim, \n",
      "    Cebimde bir on liram var \n",
      "    Onu da alın gerekirse. \n",
      "    Ben Ayteni düşünürüm, üşümem. \n",
      "    Üç kere adını tekrarlarım, karnım doyar. \n",
      "    Parasızlık da bir şey mi? \n",
      "    Ölüm bile kötü değil Aytensizlik kadar. \n",
      "\n",
      "    Ona uğramayan gemiler batsın, \n",
      "    Ondan geçmeyen trenler devrilsin, \n",
      "    Onu sevmeyen yürek taş kesilsin, \n",
      "    Kapansın onu görmeyen gözler, \n",
      "    Onu övmeyen diller kurusun. \n",
      "    İki kere iki dört, elde var Ayten. \n",
      "    Bundan böyle dünyada\n",
      "    Aşkın adı Ayten olsun.\n",
      "\n",
      "    Ümit Yaşar Oğuzcan\n",
      "\n",
      "    \n",
      "    denemedeneme\n",
      "Güzel Şiir\n"
     ]
    }
   ],
   "source": [
    "with open(\"newnew.txt\", \"r+\", encoding=\"utf-8\") as file:\n",
    "    liste = file.readlines()\n",
    "    # print(len(liste))\n",
    "    liste.insert(25, \"\\n\\nSayfanın ortasına yazı yazdım\\n\\n\")\n",
    "    file.seek(0)\n",
    "    for i in liste:\n",
    "        file.write(i)\n",
    "\n",
    "with open(\"newnew.txt\", \"r\", encoding=\"utf-8\") as file:\n",
    "    print(file.read())"
   ]
  },
  {
   "cell_type": "code",
   "execution_count": 70,
   "metadata": {},
   "outputs": [
    {
     "name": "stdout",
     "output_type": "stream",
     "text": [
      "Ümit Yaşar Oğuzcan'a ait Güzel bir şiirle başlayalım\n",
      "\n",
      "    Milyon Kere Ayten\n",
      " \n",
      "    Ben bir Aytendir tutturmuşum  oh ne iyi\n",
      "    Aytenli içkiler içip sarhoş oluyorum, ne güzel! \n",
      "    Hoşuma gitmiyorsa rengi denizlerin, \n",
      "    Biraz Ayten sürüyorum, güzelleşiyor. \n",
      "    Şarkılar söylüyorum, \n",
      "    Şiirler yazıyorum Ayten üstüne. \n",
      "    Saatim her zaman Aytene beşdeneme\n",
      "    Ya da Ayteni beş geçiyor. \n",
      "    Ne yana baksam gördüğüm o, \n",
      "    Gözümü yumsam aklımdan Ayten geçiyor.\n",
      "\n",
      "    Bana sorarsanız mevsimlerden Aytendeyiz, \n",
      "    Günlerden Aytenertesidir. \n",
      "    Odur gün gün beni yaşatan. \n",
      "    Onun kokusu sarmıştır sokakları, \n",
      "    Onun gözleridir şafakta gördüğüm\n",
      "    Akşam kızıllığında onun dudakları.\n",
      "    \n",
      "    Başka kadını övmeyin yanımda, gücenirim. \n",
      "    Ayteni övecekseniz ne alâ, oturabilirsiniz.\n",
      "    Bir kadeh de sizinle içeriz, Aytenli\n",
      "\n",
      "\n",
      "Sayfanın ortasına yazı yazdım\n",
      "\n",
      "    İki laf ederiz. \n",
      "\n",
      "\n",
      "Sayfanın ortasına 'Omer' yazdım\n",
      "\n",
      "    Onu siz de seversiniz benim gibi.\n",
      "\n",
      "    Ama yağma yok Ayteni size bırakmam. \n",
      "    Alın tek kat elbisemi size vereyim, \n",
      "    Cebimde bir on liram var \n",
      "    Onu da alın gerekirse. \n",
      "    Ben Ayteni düşünürüm, üşümem. \n",
      "    Üç kere adını tekrarlarım, karnım doyar. \n",
      "    Parasızlık da bir şey mi? \n",
      "    Ölüm bile kötü değil Aytensizlik kadar. \n",
      "\n",
      "    Ona uğramayan gemiler batsın, \n",
      "    Ondan geçmeyen trenler devrilsin, \n",
      "    Onu sevmeyen yürek taş kesilsin, \n",
      "    Kapansın onu görmeyen gözler, \n",
      "    Onu övmeyen diller kurusun. \n",
      "    İki kere iki dört, elde var Ayten. \n",
      "    Bundan böyle dünyada\n",
      "    Aşkın adı Ayten olsun.\n",
      "\n",
      "    Ümit Yaşar Oğuzcan\n",
      "\n",
      "    \n",
      "    denemedeneme\n",
      "Güzel Şiir\n"
     ]
    }
   ],
   "source": [
    "with open(\"newnew.txt\", \"r+\", encoding=\"utf-8\") as file:\n",
    "    liste = file.readlines()\n",
    "    liste.insert(30, \"\\n\\nSayfanın ortasına 'Omer' yazdım\\n\\n\")\n",
    "    file.seek(0)\n",
    "    file.writelines(liste)\n",
    "\n",
    "with open(\"newnew.txt\", \"r\", encoding=\"utf-8\") as file:\n",
    "    print(file.read())"
   ]
  },
  {
   "cell_type": "code",
   "execution_count": 80,
   "metadata": {},
   "outputs": [
    {
     "name": "stdout",
     "output_type": "stream",
     "text": [
      "ahmet güneş: ortalaması: 81.67 harf notu: BB\n",
      "\n",
      "mehmet kara: ortalaması: 79.0 harf notu: CB\n",
      "\n",
      "pelin tura: ortalaması: 83.33 harf notu: BB\n",
      "\n"
     ]
    }
   ],
   "source": [
    "def not_hesapla(satir):\n",
    "    satir = satir[:-1]\n",
    "    liste = satir.split(\":\")\n",
    "    # print(liste)\n",
    "    ogrenciAdi = liste[0]\n",
    "    notlar = liste[1].split(\",\")\n",
    "\n",
    "    not1 = int(notlar[0])\n",
    "    not2 = int(notlar[1])\n",
    "    not3 = int(notlar[2])\n",
    "\n",
    "    ortalama = round((not1+not2+not3)/3, 2)\n",
    "\n",
    "    if ortalama >= 90 and ortalama <= 100:\n",
    "        harf = \"AA\"\n",
    "    elif ortalama >= 85:\n",
    "        harf = \"BA\"\n",
    "    elif ortalama >= 80:\n",
    "        harf = \"BB\"\n",
    "    elif ortalama >= 75:\n",
    "        harf = \"CB\"\n",
    "    elif ortalama >= 70:\n",
    "        harf = \"CC\"\n",
    "    elif ortalama >= 65:\n",
    "        harf = \"DC\"\n",
    "    elif ortalama >= 60:\n",
    "        harf = \"DD\"\n",
    "    elif ortalama >= 50:\n",
    "        harf = \"FD\"\n",
    "    else:\n",
    "        harf = \"FF\"\n",
    "\n",
    "    return ogrenciAdi + \": \" + \"ortalaması: \" + str(ortalama) + \" harf notu: \" + harf + \"\\n\"\n",
    "\n",
    "    \n",
    "def ortalamalari_oku():\n",
    "    with open(\"sinav_notlari.txt\", \"r\", encoding=\"utf-8\") as file:\n",
    "        for satir in file:\n",
    "            print(not_hesapla(satir))\n",
    "\n",
    "def not_gir():\n",
    "    ad = input('Öğrenci adı: ')\n",
    "    soyad = input('Öğrenci Soyadı: ')\n",
    "    not1 = input(\"not1: \")\n",
    "    not2 = input(\"not2: \")\n",
    "    not3 = input(\"not3: \")\n",
    "\n",
    "    with open(\"sinav_notlari.txt\", \"a\", encoding=\"utf-8\") as file:\n",
    "        file.write(ad + ' ' + soyad + \":\" + not1 + \",\" + not2 + \",\" + not3 + \"\\n\")\n",
    "\n",
    "def notlari_kaydet():\n",
    "    with open(\"sinav_notlari.txt\", \"r\", encoding=\"utf-8\") as file:\n",
    "        liste = []\n",
    "\n",
    "        for i in file:\n",
    "            liste.append(not_hesapla(i))\n",
    "\n",
    "        with open(\"sonuclar.txt\", \"w\", encoding=\"utf-8\") as file2:\n",
    "            for j in liste:\n",
    "                file2.write(j)\n",
    "\n",
    "\n",
    "\n",
    "\n",
    "while True:\n",
    "    islem = input('1- Notları Oku\\n2- Not Gir\\n3- Notları Kayıt Et\\n4- Çıkış\\n')\n",
    "\n",
    "    if islem == \"1\":\n",
    "        ortalamalari_oku()\n",
    "    elif islem == \"2\":\n",
    "        not_gir()\n",
    "    elif islem == \"3\":\n",
    "        notlari_kaydet()\n",
    "    else:\n",
    "        break"
   ]
  }
 ],
 "metadata": {
  "kernelspec": {
   "display_name": "Python 3",
   "language": "python",
   "name": "python3"
  },
  "language_info": {
   "codemirror_mode": {
    "name": "ipython",
    "version": 3
   },
   "file_extension": ".py",
   "mimetype": "text/x-python",
   "name": "python",
   "nbconvert_exporter": "python",
   "pygments_lexer": "ipython3",
   "version": "3.11.2"
  },
  "orig_nbformat": 4
 },
 "nbformat": 4,
 "nbformat_minor": 2
}
