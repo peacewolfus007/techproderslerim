{
 "cells": [
  {
   "attachments": {},
   "cell_type": "markdown",
   "metadata": {},
   "source": [
    "## zip()"
   ]
  },
  {
   "cell_type": "code",
   "execution_count": 2,
   "metadata": {},
   "outputs": [],
   "source": [
    "a = [\"apple\", \"orange\", \"lemon\"]\n",
    "b = [1,2,3]"
   ]
  },
  {
   "cell_type": "code",
   "execution_count": 3,
   "metadata": {},
   "outputs": [
    {
     "data": {
      "text/plain": [
       "<zip at 0x1a719beed40>"
      ]
     },
     "execution_count": 3,
     "metadata": {},
     "output_type": "execute_result"
    }
   ],
   "source": [
    "zip(a,b)"
   ]
  },
  {
   "cell_type": "code",
   "execution_count": 4,
   "metadata": {},
   "outputs": [
    {
     "data": {
      "text/plain": [
       "[('apple', 1), ('orange', 2), ('lemon', 3)]"
      ]
     },
     "execution_count": 4,
     "metadata": {},
     "output_type": "execute_result"
    }
   ],
   "source": [
    "list(zip(a,b))"
   ]
  },
  {
   "cell_type": "code",
   "execution_count": 5,
   "metadata": {},
   "outputs": [
    {
     "data": {
      "text/plain": [
       "(('apple', 1), ('orange', 2), ('lemon', 3))"
      ]
     },
     "execution_count": 5,
     "metadata": {},
     "output_type": "execute_result"
    }
   ],
   "source": [
    "tuple(zip(a,b))"
   ]
  },
  {
   "cell_type": "code",
   "execution_count": 6,
   "metadata": {},
   "outputs": [],
   "source": [
    "x = \"techpro\"\n",
    "y = \"enes\"\n",
    "z = \"ali\""
   ]
  },
  {
   "cell_type": "code",
   "execution_count": 7,
   "metadata": {},
   "outputs": [
    {
     "data": {
      "text/plain": [
       "[('t', 'e', 'a'), ('e', 'n', 'l'), ('c', 'e', 'i')]"
      ]
     },
     "execution_count": 7,
     "metadata": {},
     "output_type": "execute_result"
    }
   ],
   "source": [
    "list(zip(x,y,z))"
   ]
  },
  {
   "cell_type": "code",
   "execution_count": 10,
   "metadata": {},
   "outputs": [
    {
     "data": {
      "text/plain": [
       "[('a', 'e', 't'), ('l', 'n', 'e'), ('i', 'e', 'c')]"
      ]
     },
     "execution_count": 10,
     "metadata": {},
     "output_type": "execute_result"
    }
   ],
   "source": [
    "list(zip(z,y,x))"
   ]
  },
  {
   "cell_type": "code",
   "execution_count": 8,
   "metadata": {},
   "outputs": [
    {
     "data": {
      "text/plain": [
       "[]"
      ]
     },
     "execution_count": 8,
     "metadata": {},
     "output_type": "execute_result"
    }
   ],
   "source": [
    "list(zip(\"techpro\", [1,2,3,4], []))"
   ]
  },
  {
   "cell_type": "code",
   "execution_count": 9,
   "metadata": {},
   "outputs": [
    {
     "data": {
      "text/plain": [
       "[('t', '['),\n",
       " ('e', '1'),\n",
       " ('c', ','),\n",
       " ('h', '2'),\n",
       " ('p', ','),\n",
       " ('r', '3'),\n",
       " ('o', ',')]"
      ]
     },
     "execution_count": 9,
     "metadata": {},
     "output_type": "execute_result"
    }
   ],
   "source": [
    "list(zip(\"techpro\", \"[1,2,3,4], []\"))"
   ]
  },
  {
   "cell_type": "code",
   "execution_count": 11,
   "metadata": {},
   "outputs": [],
   "source": [
    "name = [\"murat\", \"enes\", \"koray\"]\n",
    "age = [35,25,23]\n",
    "job = [\"data_analyst\", \"python_developer\", \"data_scientist\"]"
   ]
  },
  {
   "cell_type": "code",
   "execution_count": 14,
   "metadata": {},
   "outputs": [
    {
     "name": "stdout",
     "output_type": "stream",
     "text": [
      "murat     35   data_analyst   \n",
      "enes      25   python_developer\n",
      "koray     23   data_scientist \n"
     ]
    }
   ],
   "source": [
    "for i,j,k in zip(name,age,job):\n",
    "    print(f\"{i:<10}{j:<5}{k:<15}\")"
   ]
  },
  {
   "cell_type": "code",
   "execution_count": 16,
   "metadata": {},
   "outputs": [
    {
     "name": "stdout",
     "output_type": "stream",
     "text": [
      "[('murat', 35, 'data_analyst'), ('enes', 25, 'python_developer'), ('koray', 23, 'data_scientist')]\n"
     ]
    }
   ],
   "source": [
    "print(list(zip(name,age,job)))"
   ]
  },
  {
   "cell_type": "code",
   "execution_count": 17,
   "metadata": {},
   "outputs": [
    {
     "name": "stdout",
     "output_type": "stream",
     "text": [
      "('murat', 35, 'data_analyst')\n",
      "('enes', 25, 'python_developer')\n",
      "('koray', 23, 'data_scientist')\n"
     ]
    }
   ],
   "source": [
    "for i in zip(name,age,job):\n",
    "    print(i)"
   ]
  },
  {
   "cell_type": "code",
   "execution_count": 18,
   "metadata": {},
   "outputs": [
    {
     "ename": "ValueError",
     "evalue": "too many values to unpack (expected 2)",
     "output_type": "error",
     "traceback": [
      "\u001b[1;31m---------------------------------------------------------------------------\u001b[0m",
      "\u001b[1;31mValueError\u001b[0m                                Traceback (most recent call last)",
      "Cell \u001b[1;32mIn[18], line 1\u001b[0m\n\u001b[1;32m----> 1\u001b[0m \u001b[39mfor\u001b[39;00m i,j \u001b[39min\u001b[39;00m \u001b[39mzip\u001b[39m(name,age,job):\n\u001b[0;32m      2\u001b[0m     \u001b[39mprint\u001b[39m(i,j)\n",
      "\u001b[1;31mValueError\u001b[0m: too many values to unpack (expected 2)"
     ]
    }
   ],
   "source": [
    "for i,j in zip(name,age,job):\n",
    "    print(i,j)"
   ]
  },
  {
   "cell_type": "code",
   "execution_count": 25,
   "metadata": {},
   "outputs": [
    {
     "data": {
      "text/plain": [
       "20"
      ]
     },
     "execution_count": 25,
     "metadata": {},
     "output_type": "execute_result"
    }
   ],
   "source": [
    "liste_1 = [\"techpro\", \"education\"] * 10\n",
    "len(liste_1)"
   ]
  },
  {
   "cell_type": "code",
   "execution_count": 26,
   "metadata": {},
   "outputs": [
    {
     "data": {
      "text/plain": [
       "[(1, 'techpro'),\n",
       " (2, 'education'),\n",
       " (3, 'techpro'),\n",
       " (4, 'education'),\n",
       " (5, 'techpro'),\n",
       " (6, 'education'),\n",
       " (7, 'techpro'),\n",
       " (8, 'education'),\n",
       " (9, 'techpro'),\n",
       " (10, 'education'),\n",
       " (11, 'techpro'),\n",
       " (12, 'education'),\n",
       " (13, 'techpro'),\n",
       " (14, 'education'),\n",
       " (15, 'techpro'),\n",
       " (16, 'education'),\n",
       " (17, 'techpro'),\n",
       " (18, 'education'),\n",
       " (19, 'techpro'),\n",
       " (20, 'education')]"
      ]
     },
     "execution_count": 26,
     "metadata": {},
     "output_type": "execute_result"
    }
   ],
   "source": [
    "list(zip(range(1,101), liste_1))"
   ]
  },
  {
   "attachments": {},
   "cell_type": "markdown",
   "metadata": {},
   "source": [
    "## enumerate()"
   ]
  },
  {
   "cell_type": "code",
   "execution_count": 21,
   "metadata": {},
   "outputs": [
    {
     "data": {
      "text/plain": [
       "['apple', 'orange', 'lemon']"
      ]
     },
     "execution_count": 21,
     "metadata": {},
     "output_type": "execute_result"
    }
   ],
   "source": [
    "a"
   ]
  },
  {
   "cell_type": "code",
   "execution_count": 22,
   "metadata": {},
   "outputs": [
    {
     "data": {
      "text/plain": [
       "<enumerate at 0x1a71b6ea6c0>"
      ]
     },
     "execution_count": 22,
     "metadata": {},
     "output_type": "execute_result"
    }
   ],
   "source": [
    "enumerate(a)"
   ]
  },
  {
   "cell_type": "code",
   "execution_count": 27,
   "metadata": {},
   "outputs": [
    {
     "data": {
      "text/plain": [
       "[(0, 'apple'), (1, 'orange'), (2, 'lemon')]"
      ]
     },
     "execution_count": 27,
     "metadata": {},
     "output_type": "execute_result"
    }
   ],
   "source": [
    "list(enumerate(a))"
   ]
  },
  {
   "cell_type": "code",
   "execution_count": 28,
   "metadata": {},
   "outputs": [
    {
     "data": {
      "text/plain": [
       "[(0, 'techpro'),\n",
       " (1, 'education'),\n",
       " (2, 'techpro'),\n",
       " (3, 'education'),\n",
       " (4, 'techpro'),\n",
       " (5, 'education'),\n",
       " (6, 'techpro'),\n",
       " (7, 'education'),\n",
       " (8, 'techpro'),\n",
       " (9, 'education'),\n",
       " (10, 'techpro'),\n",
       " (11, 'education'),\n",
       " (12, 'techpro'),\n",
       " (13, 'education'),\n",
       " (14, 'techpro'),\n",
       " (15, 'education'),\n",
       " (16, 'techpro'),\n",
       " (17, 'education'),\n",
       " (18, 'techpro'),\n",
       " (19, 'education')]"
      ]
     },
     "execution_count": 28,
     "metadata": {},
     "output_type": "execute_result"
    }
   ],
   "source": [
    "list(enumerate(liste_1))"
   ]
  },
  {
   "cell_type": "code",
   "execution_count": 31,
   "metadata": {},
   "outputs": [
    {
     "data": {
      "text/plain": [
       "[(101, 'techpro'),\n",
       " (102, 'education'),\n",
       " (103, 'techpro'),\n",
       " (104, 'education'),\n",
       " (105, 'techpro'),\n",
       " (106, 'education'),\n",
       " (107, 'techpro'),\n",
       " (108, 'education'),\n",
       " (109, 'techpro'),\n",
       " (110, 'education'),\n",
       " (111, 'techpro'),\n",
       " (112, 'education'),\n",
       " (113, 'techpro'),\n",
       " (114, 'education'),\n",
       " (115, 'techpro'),\n",
       " (116, 'education'),\n",
       " (117, 'techpro'),\n",
       " (118, 'education'),\n",
       " (119, 'techpro'),\n",
       " (120, 'education')]"
      ]
     },
     "execution_count": 31,
     "metadata": {},
     "output_type": "execute_result"
    }
   ],
   "source": [
    "list(enumerate(liste_1,101))"
   ]
  },
  {
   "cell_type": "code",
   "execution_count": 33,
   "metadata": {},
   "outputs": [
    {
     "data": {
      "text/plain": [
       "{('apple', 1), ('lemon', 3), ('orange', 2)}"
      ]
     },
     "execution_count": 33,
     "metadata": {},
     "output_type": "execute_result"
    }
   ],
   "source": [
    "set(zip(a,b))"
   ]
  },
  {
   "cell_type": "code",
   "execution_count": 37,
   "metadata": {},
   "outputs": [
    {
     "data": {
      "text/plain": [
       "{('c', 'e', 'i'), ('e', 'n', 'l'), ('t', 'e', 'a')}"
      ]
     },
     "execution_count": 37,
     "metadata": {},
     "output_type": "execute_result"
    }
   ],
   "source": [
    "set(zip(x,y,z))"
   ]
  },
  {
   "cell_type": "code",
   "execution_count": 34,
   "metadata": {},
   "outputs": [
    {
     "data": {
      "text/plain": [
       "{'apple': 1, 'orange': 2, 'lemon': 3}"
      ]
     },
     "execution_count": 34,
     "metadata": {},
     "output_type": "execute_result"
    }
   ],
   "source": [
    "dict(zip(a,b))"
   ]
  },
  {
   "cell_type": "code",
   "execution_count": 38,
   "metadata": {},
   "outputs": [
    {
     "data": {
      "text/plain": [
       "{1: 'apple', 2: 'orange', 3: 'lemon'}"
      ]
     },
     "execution_count": 38,
     "metadata": {},
     "output_type": "execute_result"
    }
   ],
   "source": [
    "dict(zip(b,a))"
   ]
  },
  {
   "cell_type": "code",
   "execution_count": 36,
   "metadata": {},
   "outputs": [
    {
     "ename": "ValueError",
     "evalue": "dictionary update sequence element #0 has length 3; 2 is required",
     "output_type": "error",
     "traceback": [
      "\u001b[1;31m---------------------------------------------------------------------------\u001b[0m",
      "\u001b[1;31mValueError\u001b[0m                                Traceback (most recent call last)",
      "Cell \u001b[1;32mIn[36], line 1\u001b[0m\n\u001b[1;32m----> 1\u001b[0m \u001b[39mdict\u001b[39;49m(\u001b[39mzip\u001b[39;49m(x,y,z))\n",
      "\u001b[1;31mValueError\u001b[0m: dictionary update sequence element #0 has length 3; 2 is required"
     ]
    }
   ],
   "source": [
    "dict(zip(x,y,z))"
   ]
  },
  {
   "attachments": {},
   "cell_type": "markdown",
   "metadata": {},
   "source": [
    "### soru1: en küçük ve en büyük sayılar arsındaki kayıp sayıları bulun. "
   ]
  },
  {
   "cell_type": "code",
   "execution_count": 39,
   "metadata": {},
   "outputs": [],
   "source": [
    "num = [48, 10, 11, 21, 36, 5, 6, 52, 28, 29,\n",
    "       53, 54, 45, 19, 20, 47, 55, 39, 41, 7,\n",
    "       9, 17, 26, 27, 42, 22, 37, 51, 46, 18,\n",
    "       44, 30, 34, 13, 15, 35, 33, 16, 50, 24]\n"
   ]
  },
  {
   "cell_type": "code",
   "execution_count": 40,
   "metadata": {},
   "outputs": [
    {
     "name": "stdout",
     "output_type": "stream",
     "text": [
      "[8, 12, 14, 23, 25, 31, 32, 38, 40, 43, 49]\n"
     ]
    }
   ],
   "source": [
    "# 1 nci yöntem\n",
    "empty_list = []\n",
    "\n",
    "for i in range(min(num), max(num)):\n",
    "\n",
    "    if i not in num:\n",
    "        empty_list.append(i)\n",
    "\n",
    "print(empty_list)"
   ]
  },
  {
   "cell_type": "code",
   "execution_count": 41,
   "metadata": {},
   "outputs": [
    {
     "name": "stdout",
     "output_type": "stream",
     "text": [
      "[8, 12, 14, 23, 25, 31, 32, 38, 40, 43, 49]\n"
     ]
    }
   ],
   "source": [
    "# 2 nci yöntem\n",
    "empty_list = []\n",
    "\n",
    "for i in range(min(num), max(num)):\n",
    "\n",
    "    if i in num:\n",
    "        continue\n",
    "\n",
    "    empty_list.append(i)\n",
    "\n",
    "print(empty_list)"
   ]
  },
  {
   "cell_type": "code",
   "execution_count": 43,
   "metadata": {},
   "outputs": [
    {
     "data": {
      "text/plain": [
       "{8, 12, 14, 23, 25, 31, 32, 38, 40, 43, 49}"
      ]
     },
     "execution_count": 43,
     "metadata": {},
     "output_type": "execute_result"
    }
   ],
   "source": [
    "# 3 ncü yöntem\n",
    "\n",
    "full_set = set(range(min(num), max(num)+1))\n",
    "num_set = set(num)\n",
    "\n",
    "full_set - num_set"
   ]
  },
  {
   "cell_type": "code",
   "execution_count": 44,
   "metadata": {},
   "outputs": [
    {
     "data": {
      "text/plain": [
       "{8, 12, 14, 23, 25, 31, 32, 38, 40, 43, 49}"
      ]
     },
     "execution_count": 44,
     "metadata": {},
     "output_type": "execute_result"
    }
   ],
   "source": [
    "set(range(min(num), max(num)+1)) - set(num)"
   ]
  },
  {
   "attachments": {},
   "cell_type": "markdown",
   "metadata": {},
   "source": [
    "## soru2: Listenin tek elemanlarını olduğu gibi çift elemanlarının karesini yine bir liste olarak döndüren kodu yazın. "
   ]
  },
  {
   "cell_type": "code",
   "execution_count": 49,
   "metadata": {},
   "outputs": [
    {
     "name": "stdout",
     "output_type": "stream",
     "text": [
      "[1, 4, 3, 16, 5, 36]\n"
     ]
    }
   ],
   "source": [
    "liste_2 = [1,2,3,4,5,6]\n",
    "\n",
    "new_list = []\n",
    "\n",
    "for i in liste_2:\n",
    "\n",
    "    if i % 2:\n",
    "        new_list.append(i)\n",
    "    else:\n",
    "        new_list.append(i ** 2)\n",
    "\n",
    "print(new_list)"
   ]
  },
  {
   "cell_type": "code",
   "execution_count": 48,
   "metadata": {},
   "outputs": [],
   "source": [
    "if 2 % 2:\n",
    "    print(\"bunu yazdırır\")"
   ]
  },
  {
   "attachments": {},
   "cell_type": "markdown",
   "metadata": {},
   "source": [
    "# List Comprehension"
   ]
  },
  {
   "cell_type": "code",
   "execution_count": 50,
   "metadata": {},
   "outputs": [
    {
     "name": "stdout",
     "output_type": "stream",
     "text": [
      "[1, 4, 9, 16, 25]\n"
     ]
    }
   ],
   "source": [
    "liste_3 = [1,2,3,4,5]\n",
    "empty_list = []\n",
    "for i in liste_3:\n",
    "    empty_list.append(i ** 2)\n",
    "print(empty_list)"
   ]
  },
  {
   "cell_type": "code",
   "execution_count": 51,
   "metadata": {},
   "outputs": [
    {
     "data": {
      "text/plain": [
       "[1, 4, 9, 16, 25]"
      ]
     },
     "execution_count": 51,
     "metadata": {},
     "output_type": "execute_result"
    }
   ],
   "source": [
    "[ i ** 2 for i in liste_3 ]"
   ]
  },
  {
   "cell_type": "code",
   "execution_count": 52,
   "metadata": {},
   "outputs": [
    {
     "data": {
      "text/plain": [
       "[1, 4, 9, 16, 25]"
      ]
     },
     "execution_count": 52,
     "metadata": {},
     "output_type": "execute_result"
    }
   ],
   "source": [
    "[ i ** 2 for i in [1,2,3,4,5] ] # yalnız for döngüsü kullanılacaksa"
   ]
  },
  {
   "cell_type": "code",
   "execution_count": 53,
   "metadata": {},
   "outputs": [
    {
     "data": {
      "text/plain": [
       "['renault*', 'fiat?!', 'ford?!']"
      ]
     },
     "execution_count": 53,
     "metadata": {},
     "output_type": "execute_result"
    }
   ],
   "source": [
    "liste_4 = [\"renault*\",\"fiat?!\",\"ford?!\"]\n",
    "liste_4"
   ]
  },
  {
   "cell_type": "code",
   "execution_count": 54,
   "metadata": {},
   "outputs": [
    {
     "name": "stdout",
     "output_type": "stream",
     "text": [
      "['renault', 'fiat', 'ford']\n"
     ]
    }
   ],
   "source": [
    "new_list = []\n",
    "for i in liste_4:\n",
    "    new_list.append(i.replace(\"*\",\"\").replace(\"?\",\"\").replace(\"!\",\"\"))\n",
    "print(new_list)"
   ]
  },
  {
   "cell_type": "code",
   "execution_count": 55,
   "metadata": {},
   "outputs": [
    {
     "data": {
      "text/plain": [
       "['renault', 'fiat', 'ford']"
      ]
     },
     "execution_count": 55,
     "metadata": {},
     "output_type": "execute_result"
    }
   ],
   "source": [
    "[ i.replace(\"*\",\"\").replace(\"?\",\"\").replace(\"!\",\"\") for i in liste_4]"
   ]
  },
  {
   "cell_type": "code",
   "execution_count": 56,
   "metadata": {},
   "outputs": [
    {
     "name": "stdout",
     "output_type": "stream",
     "text": [
      "[1, 9, 25]\n"
     ]
    }
   ],
   "source": [
    "liste_3 = [1,2,3,4,5]\n",
    "empty_list = []\n",
    "for i in liste_3:\n",
    "    if i % 2:\n",
    "        empty_list.append(i ** 2)\n",
    "print(empty_list)"
   ]
  },
  {
   "cell_type": "code",
   "execution_count": 57,
   "metadata": {},
   "outputs": [
    {
     "data": {
      "text/plain": [
       "[1, 9, 25]"
      ]
     },
     "execution_count": 57,
     "metadata": {},
     "output_type": "execute_result"
    }
   ],
   "source": [
    "[ i ** 2 for i in liste_3 if i % 2 ] # if tek başına kullanılırsa"
   ]
  },
  {
   "cell_type": "code",
   "execution_count": 58,
   "metadata": {},
   "outputs": [
    {
     "name": "stdout",
     "output_type": "stream",
     "text": [
      "[1, 4, 3, 16, 5, 36]\n"
     ]
    }
   ],
   "source": [
    "liste_2 = [1,2,3,4,5,6]\n",
    "\n",
    "new_list = []\n",
    "\n",
    "for i in liste_2:\n",
    "\n",
    "    if i % 2:\n",
    "        new_list.append(i)\n",
    "    else:\n",
    "        new_list.append(i ** 2)\n",
    "\n",
    "print(new_list)"
   ]
  },
  {
   "cell_type": "code",
   "execution_count": 59,
   "metadata": {},
   "outputs": [
    {
     "data": {
      "text/plain": [
       "[1, 4, 3, 16, 5, 36]"
      ]
     },
     "execution_count": 59,
     "metadata": {},
     "output_type": "execute_result"
    }
   ],
   "source": [
    "[ i if i % 2 == 1 else i ** 2 for i in [1,2,3,4,5,6] ] # if else beraber kullanılırsa"
   ]
  },
  {
   "cell_type": "code",
   "execution_count": 60,
   "metadata": {},
   "outputs": [
    {
     "name": "stdout",
     "output_type": "stream",
     "text": [
      "8\n"
     ]
    }
   ],
   "source": [
    "if 3 % 2 == 1:\n",
    "    print(3+5)"
   ]
  },
  {
   "cell_type": "code",
   "execution_count": 61,
   "metadata": {},
   "outputs": [
    {
     "name": "stdout",
     "output_type": "stream",
     "text": [
      "8\n"
     ]
    }
   ],
   "source": [
    "if 3 % 2:\n",
    "    print(3+5)"
   ]
  },
  {
   "cell_type": "code",
   "execution_count": null,
   "metadata": {},
   "outputs": [],
   "source": [
    "hackerrank\n",
    "edabit"
   ]
  },
  {
   "attachments": {},
   "cell_type": "markdown",
   "metadata": {},
   "source": [
    "## nested loops"
   ]
  },
  {
   "cell_type": "code",
   "execution_count": 62,
   "metadata": {},
   "outputs": [
    {
     "name": "stdout",
     "output_type": "stream",
     "text": [
      "Ömer 1\n",
      "Ömer 2\n",
      "Ömer 3\n",
      "Ömer 4\n",
      "Ömer 5\n",
      "Eren 1\n",
      "Eren 2\n",
      "Eren 3\n",
      "Eren 4\n",
      "Eren 5\n",
      "Nazım 1\n",
      "Nazım 2\n",
      "Nazım 3\n",
      "Nazım 4\n",
      "Nazım 5\n"
     ]
    }
   ],
   "source": [
    "for i in [\"Ömer\",\"Eren\", \"Nazım\"]:\n",
    "    for j in [1,2,3,4,5]:\n",
    "        print(i,j)"
   ]
  },
  {
   "cell_type": "code",
   "execution_count": 63,
   "metadata": {},
   "outputs": [
    {
     "name": "stdout",
     "output_type": "stream",
     "text": [
      "Ömer 1\n",
      "Ömer 2\n",
      "Ömer 3\n",
      "Ömer 4\n",
      "Ömer 5\n",
      "iç döngü sonu\n",
      "Eren 1\n",
      "Eren 2\n",
      "Eren 3\n",
      "Eren 4\n",
      "Eren 5\n",
      "iç döngü sonu\n",
      "Nazım 1\n",
      "Nazım 2\n",
      "Nazım 3\n",
      "Nazım 4\n",
      "Nazım 5\n",
      "iç döngü sonu\n"
     ]
    }
   ],
   "source": [
    "for i in [\"Ömer\",\"Eren\", \"Nazım\"]:\n",
    "    for j in [1,2,3,4,5]:\n",
    "        print(i,j)\n",
    "    print(\"iç döngü sonu\")"
   ]
  },
  {
   "cell_type": "code",
   "execution_count": 64,
   "metadata": {},
   "outputs": [
    {
     "name": "stdout",
     "output_type": "stream",
     "text": [
      "Ömer 1\n",
      "Ömer 2\n",
      "Ömer 3\n",
      "Ömer 4\n",
      "Ömer 5\n",
      "iç döngü sonu\n",
      "Eren 1\n",
      "Eren 2\n",
      "Eren 3\n",
      "Eren 4\n",
      "Eren 5\n",
      "iç döngü sonu\n",
      "Nazım 1\n",
      "Nazım 2\n",
      "Nazım 3\n",
      "Nazım 4\n",
      "Nazım 5\n",
      "iç döngü sonu\n",
      "tüm döngülerin sonu\n"
     ]
    }
   ],
   "source": [
    "for i in [\"Ömer\",\"Eren\", \"Nazım\"]:\n",
    "    for j in [1,2,3,4,5]:\n",
    "        print(i,j)\n",
    "    print(\"iç döngü sonu\")\n",
    "print(\"tüm döngülerin sonu\")"
   ]
  },
  {
   "cell_type": "code",
   "execution_count": 65,
   "metadata": {},
   "outputs": [
    {
     "name": "stdout",
     "output_type": "stream",
     "text": [
      "1 x 0 = 0\n",
      "1 x 1 = 1\n",
      "1 x 2 = 2\n",
      "1 x 3 = 3\n",
      "1 x 4 = 4\n",
      "1 x 5 = 5\n",
      "1 x 6 = 6\n",
      "1 x 7 = 7\n",
      "1 x 8 = 8\n",
      "1 x 9 = 9\n",
      "1 x 10 = 10\n"
     ]
    }
   ],
   "source": [
    "for i in range(1,2):\n",
    "    for j in range(0,11):\n",
    "        print(f\"{i} x {j} = {i * j}\")"
   ]
  },
  {
   "cell_type": "code",
   "execution_count": 66,
   "metadata": {},
   "outputs": [
    {
     "name": "stdout",
     "output_type": "stream",
     "text": [
      "1 x 0 = 0\n",
      "1 x 1 = 1\n",
      "1 x 2 = 2\n",
      "1 x 3 = 3\n",
      "1 x 4 = 4\n",
      "1 x 5 = 5\n",
      "1 x 6 = 6\n",
      "1 x 7 = 7\n",
      "1 x 8 = 8\n",
      "1 x 9 = 9\n",
      "1 x 10 = 10\n",
      "2 x 0 = 0\n",
      "2 x 1 = 2\n",
      "2 x 2 = 4\n",
      "2 x 3 = 6\n",
      "2 x 4 = 8\n",
      "2 x 5 = 10\n",
      "2 x 6 = 12\n",
      "2 x 7 = 14\n",
      "2 x 8 = 16\n",
      "2 x 9 = 18\n",
      "2 x 10 = 20\n",
      "3 x 0 = 0\n",
      "3 x 1 = 3\n",
      "3 x 2 = 6\n",
      "3 x 3 = 9\n",
      "3 x 4 = 12\n",
      "3 x 5 = 15\n",
      "3 x 6 = 18\n",
      "3 x 7 = 21\n",
      "3 x 8 = 24\n",
      "3 x 9 = 27\n",
      "3 x 10 = 30\n"
     ]
    }
   ],
   "source": [
    "for i in range(1,4):\n",
    "    for j in range(0,11):\n",
    "        print(f\"{i} x {j} = {i * j}\")"
   ]
  },
  {
   "cell_type": "code",
   "execution_count": 68,
   "metadata": {},
   "outputs": [
    {
     "name": "stdout",
     "output_type": "stream",
     "text": [
      "1 x 0  = 0\n",
      "1 x 1  = 1\n",
      "1 x 2  = 2\n",
      "1 x 3  = 3\n",
      "1 x 4  = 4\n",
      "1 x 5  = 5\n",
      "1 x 6  = 6\n",
      "1 x 7  = 7\n",
      "1 x 8  = 8\n",
      "1 x 9  = 9\n",
      "1 x 10 = 10\n",
      "***********\n",
      "2 x 0  = 0\n",
      "2 x 1  = 2\n",
      "2 x 2  = 4\n",
      "2 x 3  = 6\n",
      "2 x 4  = 8\n",
      "2 x 5  = 10\n",
      "2 x 6  = 12\n",
      "2 x 7  = 14\n",
      "2 x 8  = 16\n",
      "2 x 9  = 18\n",
      "2 x 10 = 20\n",
      "***********\n",
      "3 x 0  = 0\n",
      "3 x 1  = 3\n",
      "3 x 2  = 6\n",
      "3 x 3  = 9\n",
      "3 x 4  = 12\n",
      "3 x 5  = 15\n",
      "3 x 6  = 18\n",
      "3 x 7  = 21\n",
      "3 x 8  = 24\n",
      "3 x 9  = 27\n",
      "3 x 10 = 30\n",
      "***********\n"
     ]
    }
   ],
   "source": [
    "for i in range(1,4):\n",
    "    for j in range(0,11):\n",
    "        print(f\"{i} x {j:<2} = {i * j}\")\n",
    "    print(\"***********\")"
   ]
  },
  {
   "cell_type": "code",
   "execution_count": 69,
   "metadata": {},
   "outputs": [
    {
     "name": "stdout",
     "output_type": "stream",
     "text": [
      "1 Cumali ****\n",
      "1 Sibel ****\n",
      "2 Cumali ****\n",
      "2 Sibel ****\n"
     ]
    }
   ],
   "source": [
    "for i in [1,2]:\n",
    "    for j in [\"Cumali\", \"Sibel\"]:\n",
    "        for k in [\"****\"]:\n",
    "            print(i,j,k)"
   ]
  },
  {
   "cell_type": "code",
   "execution_count": 70,
   "metadata": {},
   "outputs": [
    {
     "name": "stdout",
     "output_type": "stream",
     "text": [
      "1 Cumali ****\n",
      "1 Sibel ****\n",
      "2 Cumali ****\n",
      "2 Sibel ****\n",
      "inşallah kafalar karışmamıştır\n"
     ]
    }
   ],
   "source": [
    "for i in [1,2]:\n",
    "    for j in [\"Cumali\", \"Sibel\"]:\n",
    "        for k in [\"****\"]:\n",
    "            print(i,j,k)\n",
    "print(\"inşallah kafalar karışmamıştır\")"
   ]
  },
  {
   "attachments": {},
   "cell_type": "markdown",
   "metadata": {},
   "source": [
    "### Kullanıcının girdiği bir sayının Armstrong number olup olmadığını tespit eden bir algoritma oluşturun. "
   ]
  },
  {
   "cell_type": "code",
   "execution_count": 78,
   "metadata": {},
   "outputs": [
    {
     "name": "stdout",
     "output_type": "stream",
     "text": [
      "Girdiğiniz sayı: 8 Armstrong bir sayıdır\n"
     ]
    }
   ],
   "source": [
    "sayı = input(\"Armstrong olup olmadığını merak ettiğiniz bir sayı girin\")\n",
    "\n",
    "len_ = len(sayı)\n",
    "\n",
    "toplam = 0\n",
    "\n",
    "for i in sayı:\n",
    "\n",
    "    toplam += int(i) ** len_\n",
    "\n",
    "if toplam == int(sayı):\n",
    "    print(f\"Girdiğiniz sayı: {sayı} Armstrong bir sayıdır\")\n",
    "else:\n",
    "    print(f\"Girdiğiniz sayı: {sayı} Armstrong bir sayı değildir\")\n",
    "\n",
    "\n"
   ]
  },
  {
   "attachments": {},
   "cell_type": "markdown",
   "metadata": {},
   "source": [
    "ödev: 10 ile 10000 arasındaki armstrong sayıları bulun."
   ]
  },
  {
   "cell_type": "code",
   "execution_count": 81,
   "metadata": {},
   "outputs": [
    {
     "name": "stdout",
     "output_type": "stream",
     "text": [
      "Girdiğiniz sayı: 407 Armstrong bir sayıdır\n"
     ]
    }
   ],
   "source": [
    "sayı = input(\"Armstrong olup olmadığını merak ettiğiniz bir sayı girin\")\n",
    "\n",
    "len_ = len(sayı)\n",
    "\n",
    "toplam = sum([ int(i) ** len_ for i in sayı ])\n",
    "\n",
    "if toplam == int(sayı):\n",
    "    print(f\"Girdiğiniz sayı: {sayı} Armstrong bir sayıdır\")\n",
    "else:\n",
    "    print(f\"Girdiğiniz sayı: {sayı} Armstrong bir sayı değildir\")"
   ]
  },
  {
   "cell_type": "code",
   "execution_count": 80,
   "metadata": {},
   "outputs": [
    {
     "data": {
      "text/plain": [
       "153"
      ]
     },
     "execution_count": 80,
     "metadata": {},
     "output_type": "execute_result"
    }
   ],
   "source": [
    "sum([ int(i) ** 3 for i in \"153\" ])"
   ]
  },
  {
   "cell_type": "code",
   "execution_count": null,
   "metadata": {},
   "outputs": [],
   "source": []
  },
  {
   "cell_type": "code",
   "execution_count": null,
   "metadata": {},
   "outputs": [],
   "source": []
  },
  {
   "cell_type": "code",
   "execution_count": null,
   "metadata": {},
   "outputs": [],
   "source": []
  },
  {
   "cell_type": "code",
   "execution_count": null,
   "metadata": {},
   "outputs": [],
   "source": []
  },
  {
   "cell_type": "code",
   "execution_count": null,
   "metadata": {},
   "outputs": [],
   "source": []
  },
  {
   "cell_type": "code",
   "execution_count": null,
   "metadata": {},
   "outputs": [],
   "source": []
  },
  {
   "cell_type": "code",
   "execution_count": null,
   "metadata": {},
   "outputs": [],
   "source": []
  },
  {
   "cell_type": "code",
   "execution_count": null,
   "metadata": {},
   "outputs": [],
   "source": []
  }
 ],
 "metadata": {
  "kernelspec": {
   "display_name": "base",
   "language": "python",
   "name": "python3"
  },
  "language_info": {
   "codemirror_mode": {
    "name": "ipython",
    "version": 3
   },
   "file_extension": ".py",
   "mimetype": "text/x-python",
   "name": "python",
   "nbconvert_exporter": "python",
   "pygments_lexer": "ipython3",
   "version": "3.10.9"
  },
  "orig_nbformat": 4
 },
 "nbformat": 4,
 "nbformat_minor": 2
}
